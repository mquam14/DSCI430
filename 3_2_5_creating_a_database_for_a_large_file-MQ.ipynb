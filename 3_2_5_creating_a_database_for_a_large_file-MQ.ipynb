{
 "cells": [
  {
   "cell_type": "markdown",
   "metadata": {
    "slideshow": {
     "slide_type": "slide"
    }
   },
   "source": [
    "# Creating a large database\n",
    "\n",
    "In this section, we will take a look at techniques for creating a database for a large file or number of files."
   ]
  },
  {
   "cell_type": "code",
   "execution_count": 1,
   "metadata": {
    "slideshow": {
     "slide_type": "fragment"
    }
   },
   "outputs": [],
   "source": [
    "import pandas as pd\n",
    "from dfply import *"
   ]
  },
  {
   "cell_type": "markdown",
   "metadata": {
    "slideshow": {
     "slide_type": "slide"
    }
   },
   "source": [
    "## Creating a large database with `pandas`\n",
    "\n",
    "1. Read the first chunk and build cleaning functions.\n",
    "2. Write the first section to a `db`\n",
    "3. Use a for loop to <br>\n",
    "    a. read a chuck<br>\n",
    "    b. clean the chunk<br>\n",
    "    c. append the chunk to the `db`<br>"
   ]
  },
  {
   "cell_type": "markdown",
   "metadata": {
    "slideshow": {
     "slide_type": "slide"
    }
   },
   "source": [
    "## Example - Creating a Uber database with dateparts\n",
    "\n",
    "Now we will use `pandas` to read, process and write the Uber data to a database."
   ]
  },
  {
   "cell_type": "markdown",
   "metadata": {
    "slideshow": {
     "slide_type": "slide"
    }
   },
   "source": [
    "## Step 1 - Inspect/clean the first chunk\n",
    "\n",
    "It is important to automate the type specification and cleaning process. (based on previous work shown above)"
   ]
  },
  {
   "cell_type": "markdown",
   "metadata": {
    "slideshow": {
     "slide_type": "slide"
    }
   },
   "source": [
    "#### Imports"
   ]
  },
  {
   "cell_type": "code",
   "execution_count": 2,
   "metadata": {
    "slideshow": {
     "slide_type": "fragment"
    }
   },
   "outputs": [],
   "source": [
    "from toolz import first\n",
    "from calendar import day_name\n",
    "import numpy as np\n",
    "import pandas as pd\n",
    "from dfply import *"
   ]
  },
  {
   "cell_type": "markdown",
   "metadata": {
    "slideshow": {
     "slide_type": "slide"
    }
   },
   "source": [
    "#### default values"
   ]
  },
  {
   "cell_type": "code",
   "execution_count": 3,
   "metadata": {
    "slideshow": {
     "slide_type": "fragment"
    }
   },
   "outputs": [],
   "source": [
    "c_size = 10000\n",
    "new_names = ['date', 'lat', 'lon', 'base']\n",
    "date_cols = ['date']\n",
    "weekday_categories = pd.CategoricalDtype(categories=list(day_name),\n",
    "                                     ordered=True)"
   ]
  },
  {
   "cell_type": "markdown",
   "metadata": {
    "slideshow": {
     "slide_type": "slide"
    }
   },
   "source": [
    "#### Create a data frame iterator and pull off the first chunk"
   ]
  },
  {
   "cell_type": "code",
   "execution_count": 4,
   "metadata": {
    "slideshow": {
     "slide_type": "fragment"
    }
   },
   "outputs": [
    {
     "data": {
      "text/html": [
       "<div>\n",
       "<style scoped>\n",
       "    .dataframe tbody tr th:only-of-type {\n",
       "        vertical-align: middle;\n",
       "    }\n",
       "\n",
       "    .dataframe tbody tr th {\n",
       "        vertical-align: top;\n",
       "    }\n",
       "\n",
       "    .dataframe thead th {\n",
       "        text-align: right;\n",
       "    }\n",
       "</style>\n",
       "<table border=\"1\" class=\"dataframe\">\n",
       "  <thead>\n",
       "    <tr style=\"text-align: right;\">\n",
       "      <th></th>\n",
       "      <th>date</th>\n",
       "      <th>lat</th>\n",
       "      <th>lon</th>\n",
       "      <th>base</th>\n",
       "    </tr>\n",
       "  </thead>\n",
       "  <tbody>\n",
       "    <tr>\n",
       "      <th>0</th>\n",
       "      <td>2014-04-01 00:11:00</td>\n",
       "      <td>40.7690</td>\n",
       "      <td>-73.9549</td>\n",
       "      <td>B02512</td>\n",
       "    </tr>\n",
       "    <tr>\n",
       "      <th>1</th>\n",
       "      <td>2014-04-01 00:17:00</td>\n",
       "      <td>40.7267</td>\n",
       "      <td>-74.0345</td>\n",
       "      <td>B02512</td>\n",
       "    </tr>\n",
       "    <tr>\n",
       "      <th>2</th>\n",
       "      <td>2014-04-01 00:21:00</td>\n",
       "      <td>40.7316</td>\n",
       "      <td>-73.9873</td>\n",
       "      <td>B02512</td>\n",
       "    </tr>\n",
       "    <tr>\n",
       "      <th>3</th>\n",
       "      <td>2014-04-01 00:28:00</td>\n",
       "      <td>40.7588</td>\n",
       "      <td>-73.9776</td>\n",
       "      <td>B02512</td>\n",
       "    </tr>\n",
       "    <tr>\n",
       "      <th>4</th>\n",
       "      <td>2014-04-01 00:33:00</td>\n",
       "      <td>40.7594</td>\n",
       "      <td>-73.9722</td>\n",
       "      <td>B02512</td>\n",
       "    </tr>\n",
       "  </tbody>\n",
       "</table>\n",
       "</div>"
      ],
      "text/plain": [
       "                 date      lat      lon    base\n",
       "0 2014-04-01 00:11:00  40.7690 -73.9549  B02512\n",
       "1 2014-04-01 00:17:00  40.7267 -74.0345  B02512\n",
       "2 2014-04-01 00:21:00  40.7316 -73.9873  B02512\n",
       "3 2014-04-01 00:28:00  40.7588 -73.9776  B02512\n",
       "4 2014-04-01 00:33:00  40.7594 -73.9722  B02512"
      ]
     },
     "execution_count": 4,
     "metadata": {},
     "output_type": "execute_result"
    }
   ],
   "source": [
    "c_size = 10000\n",
    "file = \"./data/uber-raw-data-apr14.csv\"\n",
    "df_iter = pd.read_csv(file, \n",
    "                      header=0, names=new_names,\n",
    "                      parse_dates=date_cols,\n",
    "                      sep=',',\n",
    "                      engine='python',\n",
    "                      chunksize=c_size)\n",
    "first_chunk = next(df_iter)\n",
    "first_chunk.head()"
   ]
  },
  {
   "cell_type": "markdown",
   "metadata": {
    "slideshow": {
     "slide_type": "slide"
    }
   },
   "source": [
    "#### Expression for adding various date parts"
   ]
  },
  {
   "cell_type": "code",
   "execution_count": 5,
   "metadata": {
    "slideshow": {
     "slide_type": "fragment"
    }
   },
   "outputs": [
    {
     "data": {
      "text/html": [
       "<div>\n",
       "<style scoped>\n",
       "    .dataframe tbody tr th:only-of-type {\n",
       "        vertical-align: middle;\n",
       "    }\n",
       "\n",
       "    .dataframe tbody tr th {\n",
       "        vertical-align: top;\n",
       "    }\n",
       "\n",
       "    .dataframe thead th {\n",
       "        text-align: right;\n",
       "    }\n",
       "</style>\n",
       "<table border=\"1\" class=\"dataframe\">\n",
       "  <thead>\n",
       "    <tr style=\"text-align: right;\">\n",
       "      <th></th>\n",
       "      <th>date</th>\n",
       "      <th>lat</th>\n",
       "      <th>lon</th>\n",
       "      <th>base</th>\n",
       "      <th>weekday</th>\n",
       "      <th>weekofyear</th>\n",
       "      <th>dayofyear</th>\n",
       "      <th>year</th>\n",
       "      <th>month</th>\n",
       "      <th>day</th>\n",
       "      <th>hour</th>\n",
       "    </tr>\n",
       "  </thead>\n",
       "  <tbody>\n",
       "    <tr>\n",
       "      <th>0</th>\n",
       "      <td>2014-04-01 00:11:00</td>\n",
       "      <td>40.7690</td>\n",
       "      <td>-73.9549</td>\n",
       "      <td>B02512</td>\n",
       "      <td>Tuesday</td>\n",
       "      <td>14</td>\n",
       "      <td>91</td>\n",
       "      <td>2014</td>\n",
       "      <td>April</td>\n",
       "      <td>1</td>\n",
       "      <td>0</td>\n",
       "    </tr>\n",
       "    <tr>\n",
       "      <th>1</th>\n",
       "      <td>2014-04-01 00:17:00</td>\n",
       "      <td>40.7267</td>\n",
       "      <td>-74.0345</td>\n",
       "      <td>B02512</td>\n",
       "      <td>Tuesday</td>\n",
       "      <td>14</td>\n",
       "      <td>91</td>\n",
       "      <td>2014</td>\n",
       "      <td>April</td>\n",
       "      <td>1</td>\n",
       "      <td>0</td>\n",
       "    </tr>\n",
       "    <tr>\n",
       "      <th>2</th>\n",
       "      <td>2014-04-01 00:21:00</td>\n",
       "      <td>40.7316</td>\n",
       "      <td>-73.9873</td>\n",
       "      <td>B02512</td>\n",
       "      <td>Tuesday</td>\n",
       "      <td>14</td>\n",
       "      <td>91</td>\n",
       "      <td>2014</td>\n",
       "      <td>April</td>\n",
       "      <td>1</td>\n",
       "      <td>0</td>\n",
       "    </tr>\n",
       "    <tr>\n",
       "      <th>3</th>\n",
       "      <td>2014-04-01 00:28:00</td>\n",
       "      <td>40.7588</td>\n",
       "      <td>-73.9776</td>\n",
       "      <td>B02512</td>\n",
       "      <td>Tuesday</td>\n",
       "      <td>14</td>\n",
       "      <td>91</td>\n",
       "      <td>2014</td>\n",
       "      <td>April</td>\n",
       "      <td>1</td>\n",
       "      <td>0</td>\n",
       "    </tr>\n",
       "    <tr>\n",
       "      <th>4</th>\n",
       "      <td>2014-04-01 00:33:00</td>\n",
       "      <td>40.7594</td>\n",
       "      <td>-73.9722</td>\n",
       "      <td>B02512</td>\n",
       "      <td>Tuesday</td>\n",
       "      <td>14</td>\n",
       "      <td>91</td>\n",
       "      <td>2014</td>\n",
       "      <td>April</td>\n",
       "      <td>1</td>\n",
       "      <td>0</td>\n",
       "    </tr>\n",
       "  </tbody>\n",
       "</table>\n",
       "</div>"
      ],
      "text/plain": [
       "                 date      lat      lon    base  weekday  weekofyear  \\\n",
       "0 2014-04-01 00:11:00  40.7690 -73.9549  B02512  Tuesday          14   \n",
       "1 2014-04-01 00:17:00  40.7267 -74.0345  B02512  Tuesday          14   \n",
       "2 2014-04-01 00:21:00  40.7316 -73.9873  B02512  Tuesday          14   \n",
       "3 2014-04-01 00:28:00  40.7588 -73.9776  B02512  Tuesday          14   \n",
       "4 2014-04-01 00:33:00  40.7594 -73.9722  B02512  Tuesday          14   \n",
       "\n",
       "   dayofyear  year  month  day  hour  \n",
       "0         91  2014  April    1     0  \n",
       "1         91  2014  April    1     0  \n",
       "2         91  2014  April    1     0  \n",
       "3         91  2014  April    1     0  \n",
       "4         91  2014  April    1     0  "
      ]
     },
     "execution_count": 5,
     "metadata": {},
     "output_type": "execute_result"
    }
   ],
   "source": [
    "from functoolz import pipeable\n",
    "(first_chunk \n",
    " >> mutate(weekday = X.date.dt.weekday_name,\n",
    "           weekofyear = X.date.dt.weekofyear,\n",
    "           dayofyear = X.date.dt.dayofyear,\n",
    "           year = X.date.dt.year,\n",
    "           month = X.date.dt.month_name(),\n",
    "           day = X.date.dt.day,\n",
    "           hour = X.date.dt.hour)\n",
    " >> head)"
   ]
  },
  {
   "cell_type": "markdown",
   "metadata": {
    "slideshow": {
     "slide_type": "slide"
    }
   },
   "source": [
    "#### Create a functions for adding dateparts"
   ]
  },
  {
   "cell_type": "code",
   "execution_count": 6,
   "metadata": {
    "slideshow": {
     "slide_type": "fragment"
    }
   },
   "outputs": [
    {
     "data": {
      "text/html": [
       "<div>\n",
       "<style scoped>\n",
       "    .dataframe tbody tr th:only-of-type {\n",
       "        vertical-align: middle;\n",
       "    }\n",
       "\n",
       "    .dataframe tbody tr th {\n",
       "        vertical-align: top;\n",
       "    }\n",
       "\n",
       "    .dataframe thead th {\n",
       "        text-align: right;\n",
       "    }\n",
       "</style>\n",
       "<table border=\"1\" class=\"dataframe\">\n",
       "  <thead>\n",
       "    <tr style=\"text-align: right;\">\n",
       "      <th></th>\n",
       "      <th>lat</th>\n",
       "      <th>lon</th>\n",
       "      <th>base</th>\n",
       "      <th>weekday</th>\n",
       "      <th>weekofyear</th>\n",
       "      <th>dayofyear</th>\n",
       "      <th>year</th>\n",
       "      <th>month</th>\n",
       "      <th>day</th>\n",
       "      <th>hour</th>\n",
       "    </tr>\n",
       "  </thead>\n",
       "  <tbody>\n",
       "    <tr>\n",
       "      <th>0</th>\n",
       "      <td>40.7690</td>\n",
       "      <td>-73.9549</td>\n",
       "      <td>B02512</td>\n",
       "      <td>Tuesday</td>\n",
       "      <td>14</td>\n",
       "      <td>91</td>\n",
       "      <td>2014</td>\n",
       "      <td>April</td>\n",
       "      <td>1</td>\n",
       "      <td>0</td>\n",
       "    </tr>\n",
       "    <tr>\n",
       "      <th>1</th>\n",
       "      <td>40.7267</td>\n",
       "      <td>-74.0345</td>\n",
       "      <td>B02512</td>\n",
       "      <td>Tuesday</td>\n",
       "      <td>14</td>\n",
       "      <td>91</td>\n",
       "      <td>2014</td>\n",
       "      <td>April</td>\n",
       "      <td>1</td>\n",
       "      <td>0</td>\n",
       "    </tr>\n",
       "  </tbody>\n",
       "</table>\n",
       "</div>"
      ],
      "text/plain": [
       "       lat      lon    base  weekday  weekofyear  dayofyear  year  month  day  \\\n",
       "0  40.7690 -73.9549  B02512  Tuesday          14         91  2014  April    1   \n",
       "1  40.7267 -74.0345  B02512  Tuesday          14         91  2014  April    1   \n",
       "\n",
       "   hour  \n",
       "0     0  \n",
       "1     0  "
      ]
     },
     "execution_count": 6,
     "metadata": {},
     "output_type": "execute_result"
    }
   ],
   "source": [
    "from functoolz import pipeable\n",
    "add_dateparts = pipeable(lambda df: (df >>\n",
    "                                     mutate(weekday = X.date.dt.weekday_name,\n",
    "                                            weekofyear = X.date.dt.weekofyear,\n",
    "                                            dayofyear = X.date.dt.dayofyear,\n",
    "                                            year = X.date.dt.year,\n",
    "                                            month = X.date.dt.month_name(),\n",
    "                                            day = X.date.dt.day,\n",
    "                                            hour = X.date.dt.hour)\n",
    "                                    >> drop(X.date)))\n",
    "processed_first_chunk = first_chunk >> add_dateparts\n",
    "processed_first_chunk.head(2)"
   ]
  },
  {
   "cell_type": "markdown",
   "metadata": {
    "slideshow": {
     "slide_type": "slide"
    }
   },
   "source": [
    "## Adding a primary key\n",
    "\n",
    "* **Recall:** Primary keys need to be unique\n",
    "* We will need to adjust the `id` column\n",
    "* Make sure first `id` of next chunk is one more than the last"
   ]
  },
  {
   "cell_type": "markdown",
   "metadata": {
    "slideshow": {
     "slide_type": "slide"
    }
   },
   "source": [
    "#### A function for adding an `id` column with a given starting value"
   ]
  },
  {
   "cell_type": "code",
   "execution_count": 7,
   "metadata": {
    "slideshow": {
     "slide_type": "fragment"
    }
   },
   "outputs": [],
   "source": [
    "add_primary_key = pipeable(lambda start, df: (df\n",
    "                                              >> mutate(id = np.arange(start, start + len(df))\n",
    "                                              )))"
   ]
  },
  {
   "cell_type": "markdown",
   "metadata": {
    "slideshow": {
     "slide_type": "slide"
    }
   },
   "source": [
    "#### Playing around with different chunk indices"
   ]
  },
  {
   "cell_type": "code",
   "execution_count": 8,
   "metadata": {
    "slideshow": {
     "slide_type": "fragment"
    }
   },
   "outputs": [
    {
     "data": {
      "text/html": [
       "<div>\n",
       "<style scoped>\n",
       "    .dataframe tbody tr th:only-of-type {\n",
       "        vertical-align: middle;\n",
       "    }\n",
       "\n",
       "    .dataframe tbody tr th {\n",
       "        vertical-align: top;\n",
       "    }\n",
       "\n",
       "    .dataframe thead th {\n",
       "        text-align: right;\n",
       "    }\n",
       "</style>\n",
       "<table border=\"1\" class=\"dataframe\">\n",
       "  <thead>\n",
       "    <tr style=\"text-align: right;\">\n",
       "      <th></th>\n",
       "      <th>lat</th>\n",
       "      <th>lon</th>\n",
       "      <th>base</th>\n",
       "      <th>weekday</th>\n",
       "      <th>weekofyear</th>\n",
       "      <th>dayofyear</th>\n",
       "      <th>year</th>\n",
       "      <th>month</th>\n",
       "      <th>day</th>\n",
       "      <th>hour</th>\n",
       "      <th>id</th>\n",
       "    </tr>\n",
       "  </thead>\n",
       "  <tbody>\n",
       "    <tr>\n",
       "      <th>0</th>\n",
       "      <td>40.769</td>\n",
       "      <td>-73.9549</td>\n",
       "      <td>B02512</td>\n",
       "      <td>Tuesday</td>\n",
       "      <td>14</td>\n",
       "      <td>91</td>\n",
       "      <td>2014</td>\n",
       "      <td>April</td>\n",
       "      <td>1</td>\n",
       "      <td>0</td>\n",
       "      <td>0</td>\n",
       "    </tr>\n",
       "  </tbody>\n",
       "</table>\n",
       "</div>"
      ],
      "text/plain": [
       "      lat      lon    base  weekday  weekofyear  dayofyear  year  month  day  \\\n",
       "0  40.769 -73.9549  B02512  Tuesday          14         91  2014  April    1   \n",
       "\n",
       "   hour  id  \n",
       "0     0   0  "
      ]
     },
     "execution_count": 8,
     "metadata": {},
     "output_type": "execute_result"
    }
   ],
   "source": [
    "from dfply import head\n",
    "i = 0\n",
    "(first_chunk >> add_dateparts \n",
    " >> add_primary_key(i*c_size) \n",
    " >> head(1))"
   ]
  },
  {
   "cell_type": "code",
   "execution_count": 9,
   "metadata": {
    "slideshow": {
     "slide_type": "fragment"
    }
   },
   "outputs": [
    {
     "data": {
      "text/html": [
       "<div>\n",
       "<style scoped>\n",
       "    .dataframe tbody tr th:only-of-type {\n",
       "        vertical-align: middle;\n",
       "    }\n",
       "\n",
       "    .dataframe tbody tr th {\n",
       "        vertical-align: top;\n",
       "    }\n",
       "\n",
       "    .dataframe thead th {\n",
       "        text-align: right;\n",
       "    }\n",
       "</style>\n",
       "<table border=\"1\" class=\"dataframe\">\n",
       "  <thead>\n",
       "    <tr style=\"text-align: right;\">\n",
       "      <th></th>\n",
       "      <th>lat</th>\n",
       "      <th>lon</th>\n",
       "      <th>base</th>\n",
       "      <th>weekday</th>\n",
       "      <th>weekofyear</th>\n",
       "      <th>dayofyear</th>\n",
       "      <th>year</th>\n",
       "      <th>month</th>\n",
       "      <th>day</th>\n",
       "      <th>hour</th>\n",
       "      <th>id</th>\n",
       "    </tr>\n",
       "  </thead>\n",
       "  <tbody>\n",
       "    <tr>\n",
       "      <th>9999</th>\n",
       "      <td>40.7656</td>\n",
       "      <td>-73.9697</td>\n",
       "      <td>B02512</td>\n",
       "      <td>Tuesday</td>\n",
       "      <td>15</td>\n",
       "      <td>98</td>\n",
       "      <td>2014</td>\n",
       "      <td>April</td>\n",
       "      <td>8</td>\n",
       "      <td>19</td>\n",
       "      <td>9999</td>\n",
       "    </tr>\n",
       "  </tbody>\n",
       "</table>\n",
       "</div>"
      ],
      "text/plain": [
       "          lat      lon    base  weekday  weekofyear  dayofyear  year  month  \\\n",
       "9999  40.7656 -73.9697  B02512  Tuesday          15         98  2014  April   \n",
       "\n",
       "      day  hour    id  \n",
       "9999    8    19  9999  "
      ]
     },
     "execution_count": 9,
     "metadata": {},
     "output_type": "execute_result"
    }
   ],
   "source": [
    "(first_chunk >> add_dateparts \n",
    " >> add_primary_key(i*c_size) >> tail(1))"
   ]
  },
  {
   "cell_type": "code",
   "execution_count": 10,
   "metadata": {
    "slideshow": {
     "slide_type": "slide"
    }
   },
   "outputs": [
    {
     "data": {
      "text/html": [
       "<div>\n",
       "<style scoped>\n",
       "    .dataframe tbody tr th:only-of-type {\n",
       "        vertical-align: middle;\n",
       "    }\n",
       "\n",
       "    .dataframe tbody tr th {\n",
       "        vertical-align: top;\n",
       "    }\n",
       "\n",
       "    .dataframe thead th {\n",
       "        text-align: right;\n",
       "    }\n",
       "</style>\n",
       "<table border=\"1\" class=\"dataframe\">\n",
       "  <thead>\n",
       "    <tr style=\"text-align: right;\">\n",
       "      <th></th>\n",
       "      <th>lat</th>\n",
       "      <th>lon</th>\n",
       "      <th>base</th>\n",
       "      <th>weekday</th>\n",
       "      <th>weekofyear</th>\n",
       "      <th>dayofyear</th>\n",
       "      <th>year</th>\n",
       "      <th>month</th>\n",
       "      <th>day</th>\n",
       "      <th>hour</th>\n",
       "      <th>id</th>\n",
       "    </tr>\n",
       "  </thead>\n",
       "  <tbody>\n",
       "    <tr>\n",
       "      <th>0</th>\n",
       "      <td>40.769</td>\n",
       "      <td>-73.9549</td>\n",
       "      <td>B02512</td>\n",
       "      <td>Tuesday</td>\n",
       "      <td>14</td>\n",
       "      <td>91</td>\n",
       "      <td>2014</td>\n",
       "      <td>April</td>\n",
       "      <td>1</td>\n",
       "      <td>0</td>\n",
       "      <td>10000</td>\n",
       "    </tr>\n",
       "  </tbody>\n",
       "</table>\n",
       "</div>"
      ],
      "text/plain": [
       "      lat      lon    base  weekday  weekofyear  dayofyear  year  month  day  \\\n",
       "0  40.769 -73.9549  B02512  Tuesday          14         91  2014  April    1   \n",
       "\n",
       "   hour     id  \n",
       "0     0  10000  "
      ]
     },
     "execution_count": 10,
     "metadata": {},
     "output_type": "execute_result"
    }
   ],
   "source": [
    "i = 1\n",
    "(first_chunk >> add_dateparts \n",
    " >> add_primary_key(i*c_size) >> head(1))"
   ]
  },
  {
   "cell_type": "code",
   "execution_count": 11,
   "metadata": {
    "slideshow": {
     "slide_type": "fragment"
    }
   },
   "outputs": [
    {
     "data": {
      "text/html": [
       "<div>\n",
       "<style scoped>\n",
       "    .dataframe tbody tr th:only-of-type {\n",
       "        vertical-align: middle;\n",
       "    }\n",
       "\n",
       "    .dataframe tbody tr th {\n",
       "        vertical-align: top;\n",
       "    }\n",
       "\n",
       "    .dataframe thead th {\n",
       "        text-align: right;\n",
       "    }\n",
       "</style>\n",
       "<table border=\"1\" class=\"dataframe\">\n",
       "  <thead>\n",
       "    <tr style=\"text-align: right;\">\n",
       "      <th></th>\n",
       "      <th>lat</th>\n",
       "      <th>lon</th>\n",
       "      <th>base</th>\n",
       "      <th>weekday</th>\n",
       "      <th>weekofyear</th>\n",
       "      <th>dayofyear</th>\n",
       "      <th>year</th>\n",
       "      <th>month</th>\n",
       "      <th>day</th>\n",
       "      <th>hour</th>\n",
       "      <th>id</th>\n",
       "    </tr>\n",
       "  </thead>\n",
       "  <tbody>\n",
       "    <tr>\n",
       "      <th>9999</th>\n",
       "      <td>40.7656</td>\n",
       "      <td>-73.9697</td>\n",
       "      <td>B02512</td>\n",
       "      <td>Tuesday</td>\n",
       "      <td>15</td>\n",
       "      <td>98</td>\n",
       "      <td>2014</td>\n",
       "      <td>April</td>\n",
       "      <td>8</td>\n",
       "      <td>19</td>\n",
       "      <td>19999</td>\n",
       "    </tr>\n",
       "  </tbody>\n",
       "</table>\n",
       "</div>"
      ],
      "text/plain": [
       "          lat      lon    base  weekday  weekofyear  dayofyear  year  month  \\\n",
       "9999  40.7656 -73.9697  B02512  Tuesday          15         98  2014  April   \n",
       "\n",
       "      day  hour     id  \n",
       "9999    8    19  19999  "
      ]
     },
     "execution_count": 11,
     "metadata": {},
     "output_type": "execute_result"
    }
   ],
   "source": [
    "(first_chunk >> add_dateparts \n",
    " >> add_primary_key(i*c_size) >> tail(1))"
   ]
  },
  {
   "cell_type": "code",
   "execution_count": 12,
   "metadata": {
    "slideshow": {
     "slide_type": "slide"
    }
   },
   "outputs": [
    {
     "data": {
      "text/html": [
       "<div>\n",
       "<style scoped>\n",
       "    .dataframe tbody tr th:only-of-type {\n",
       "        vertical-align: middle;\n",
       "    }\n",
       "\n",
       "    .dataframe tbody tr th {\n",
       "        vertical-align: top;\n",
       "    }\n",
       "\n",
       "    .dataframe thead th {\n",
       "        text-align: right;\n",
       "    }\n",
       "</style>\n",
       "<table border=\"1\" class=\"dataframe\">\n",
       "  <thead>\n",
       "    <tr style=\"text-align: right;\">\n",
       "      <th></th>\n",
       "      <th>lat</th>\n",
       "      <th>lon</th>\n",
       "      <th>base</th>\n",
       "      <th>weekday</th>\n",
       "      <th>weekofyear</th>\n",
       "      <th>dayofyear</th>\n",
       "      <th>year</th>\n",
       "      <th>month</th>\n",
       "      <th>day</th>\n",
       "      <th>hour</th>\n",
       "      <th>id</th>\n",
       "    </tr>\n",
       "  </thead>\n",
       "  <tbody>\n",
       "    <tr>\n",
       "      <th>0</th>\n",
       "      <td>40.769</td>\n",
       "      <td>-73.9549</td>\n",
       "      <td>B02512</td>\n",
       "      <td>Tuesday</td>\n",
       "      <td>14</td>\n",
       "      <td>91</td>\n",
       "      <td>2014</td>\n",
       "      <td>April</td>\n",
       "      <td>1</td>\n",
       "      <td>0</td>\n",
       "      <td>20000</td>\n",
       "    </tr>\n",
       "  </tbody>\n",
       "</table>\n",
       "</div>"
      ],
      "text/plain": [
       "      lat      lon    base  weekday  weekofyear  dayofyear  year  month  day  \\\n",
       "0  40.769 -73.9549  B02512  Tuesday          14         91  2014  April    1   \n",
       "\n",
       "   hour     id  \n",
       "0     0  20000  "
      ]
     },
     "execution_count": 12,
     "metadata": {},
     "output_type": "execute_result"
    }
   ],
   "source": [
    "i = 2\n",
    "(first_chunk >> add_dateparts \n",
    " >> add_primary_key(i*c_size) >> head(1))"
   ]
  },
  {
   "cell_type": "code",
   "execution_count": 13,
   "metadata": {
    "slideshow": {
     "slide_type": "fragment"
    }
   },
   "outputs": [
    {
     "data": {
      "text/html": [
       "<div>\n",
       "<style scoped>\n",
       "    .dataframe tbody tr th:only-of-type {\n",
       "        vertical-align: middle;\n",
       "    }\n",
       "\n",
       "    .dataframe tbody tr th {\n",
       "        vertical-align: top;\n",
       "    }\n",
       "\n",
       "    .dataframe thead th {\n",
       "        text-align: right;\n",
       "    }\n",
       "</style>\n",
       "<table border=\"1\" class=\"dataframe\">\n",
       "  <thead>\n",
       "    <tr style=\"text-align: right;\">\n",
       "      <th></th>\n",
       "      <th>lat</th>\n",
       "      <th>lon</th>\n",
       "      <th>base</th>\n",
       "      <th>weekday</th>\n",
       "      <th>weekofyear</th>\n",
       "      <th>dayofyear</th>\n",
       "      <th>year</th>\n",
       "      <th>month</th>\n",
       "      <th>day</th>\n",
       "      <th>hour</th>\n",
       "      <th>id</th>\n",
       "    </tr>\n",
       "  </thead>\n",
       "  <tbody>\n",
       "    <tr>\n",
       "      <th>9999</th>\n",
       "      <td>40.7656</td>\n",
       "      <td>-73.9697</td>\n",
       "      <td>B02512</td>\n",
       "      <td>Tuesday</td>\n",
       "      <td>15</td>\n",
       "      <td>98</td>\n",
       "      <td>2014</td>\n",
       "      <td>April</td>\n",
       "      <td>8</td>\n",
       "      <td>19</td>\n",
       "      <td>29999</td>\n",
       "    </tr>\n",
       "  </tbody>\n",
       "</table>\n",
       "</div>"
      ],
      "text/plain": [
       "          lat      lon    base  weekday  weekofyear  dayofyear  year  month  \\\n",
       "9999  40.7656 -73.9697  B02512  Tuesday          15         98  2014  April   \n",
       "\n",
       "      day  hour     id  \n",
       "9999    8    19  29999  "
      ]
     },
     "execution_count": 13,
     "metadata": {},
     "output_type": "execute_result"
    }
   ],
   "source": [
    "(first_chunk >> add_dateparts \n",
    " >> add_primary_key(i*c_size) >> tail(1))"
   ]
  },
  {
   "cell_type": "markdown",
   "metadata": {
    "slideshow": {
     "slide_type": "slide"
    }
   },
   "source": [
    "#### Compose the helper functions"
   ]
  },
  {
   "cell_type": "code",
   "execution_count": 14,
   "metadata": {
    "slideshow": {
     "slide_type": "fragment"
    }
   },
   "outputs": [
    {
     "data": {
      "text/html": [
       "<div>\n",
       "<style scoped>\n",
       "    .dataframe tbody tr th:only-of-type {\n",
       "        vertical-align: middle;\n",
       "    }\n",
       "\n",
       "    .dataframe tbody tr th {\n",
       "        vertical-align: top;\n",
       "    }\n",
       "\n",
       "    .dataframe thead th {\n",
       "        text-align: right;\n",
       "    }\n",
       "</style>\n",
       "<table border=\"1\" class=\"dataframe\">\n",
       "  <thead>\n",
       "    <tr style=\"text-align: right;\">\n",
       "      <th></th>\n",
       "      <th>lat</th>\n",
       "      <th>lon</th>\n",
       "      <th>base</th>\n",
       "      <th>weekday</th>\n",
       "      <th>weekofyear</th>\n",
       "      <th>dayofyear</th>\n",
       "      <th>year</th>\n",
       "      <th>month</th>\n",
       "      <th>day</th>\n",
       "      <th>hour</th>\n",
       "      <th>id</th>\n",
       "    </tr>\n",
       "  </thead>\n",
       "  <tbody>\n",
       "    <tr>\n",
       "      <th>9999</th>\n",
       "      <td>40.7656</td>\n",
       "      <td>-73.9697</td>\n",
       "      <td>B02512</td>\n",
       "      <td>Tuesday</td>\n",
       "      <td>15</td>\n",
       "      <td>98</td>\n",
       "      <td>2014</td>\n",
       "      <td>April</td>\n",
       "      <td>8</td>\n",
       "      <td>19</td>\n",
       "      <td>9999</td>\n",
       "    </tr>\n",
       "  </tbody>\n",
       "</table>\n",
       "</div>"
      ],
      "text/plain": [
       "          lat      lon    base  weekday  weekofyear  dayofyear  year  month  \\\n",
       "9999  40.7656 -73.9697  B02512  Tuesday          15         98  2014  April   \n",
       "\n",
       "      day  hour    id  \n",
       "9999    8    19  9999  "
      ]
     },
     "execution_count": 14,
     "metadata": {},
     "output_type": "execute_result"
    }
   ],
   "source": [
    "process_chunk = pipeable(lambda i, df, chunksize=c_size: df >> add_dateparts >> add_primary_key(i*c_size))\n",
    "first_chunk >> process_chunk(0) >> tail(1)"
   ]
  },
  {
   "cell_type": "markdown",
   "metadata": {
    "slideshow": {
     "slide_type": "slide"
    }
   },
   "source": [
    "#### Get the `sqlalchemy` types"
   ]
  },
  {
   "cell_type": "code",
   "execution_count": 15,
   "metadata": {
    "slideshow": {
     "slide_type": "fragment"
    }
   },
   "outputs": [
    {
     "data": {
      "text/plain": [
       "{'lat': sqlalchemy.sql.sqltypes.Float,\n",
       " 'lon': sqlalchemy.sql.sqltypes.Float,\n",
       " 'base': sqlalchemy.sql.sqltypes.String,\n",
       " 'weekday': sqlalchemy.sql.sqltypes.String,\n",
       " 'weekofyear': sqlalchemy.sql.sqltypes.Integer,\n",
       " 'dayofyear': sqlalchemy.sql.sqltypes.Integer,\n",
       " 'year': sqlalchemy.sql.sqltypes.Integer,\n",
       " 'month': sqlalchemy.sql.sqltypes.String,\n",
       " 'day': sqlalchemy.sql.sqltypes.Integer,\n",
       " 'hour': sqlalchemy.sql.sqltypes.Integer,\n",
       " 'id': sqlalchemy.sql.sqltypes.Integer}"
      ]
     },
     "execution_count": 15,
     "metadata": {},
     "output_type": "execute_result"
    }
   ],
   "source": [
    "from more_sqlalchemy import get_sql_types\n",
    "i = 0\n",
    "complete_first_chunk = first_chunk >> process_chunk(i)\n",
    "sql_types = get_sql_types(complete_first_chunk)\n",
    "sql_types"
   ]
  },
  {
   "cell_type": "markdown",
   "metadata": {
    "slideshow": {
     "slide_type": "slide"
    }
   },
   "source": [
    "## Step 2 - Read, process, and write the first chunk\n",
    "\n",
    "Use `if_exists='replace'` on this first chuck."
   ]
  },
  {
   "cell_type": "markdown",
   "metadata": {
    "slideshow": {
     "slide_type": "slide"
    }
   },
   "source": [
    "#### Create a new database"
   ]
  },
  {
   "cell_type": "code",
   "execution_count": 16,
   "metadata": {
    "slideshow": {
     "slide_type": "fragment"
    }
   },
   "outputs": [],
   "source": [
    "!rm ./databases/uber.db"
   ]
  },
  {
   "cell_type": "code",
   "execution_count": 17,
   "metadata": {
    "slideshow": {
     "slide_type": "fragment"
    }
   },
   "outputs": [],
   "source": [
    "from sqlalchemy import create_engine\n",
    "engine = create_engine('sqlite:///databases/uber.db', echo=False)"
   ]
  },
  {
   "cell_type": "markdown",
   "metadata": {
    "slideshow": {
     "slide_type": "slide"
    }
   },
   "source": [
    "#### Get the sql schema and create the table"
   ]
  },
  {
   "cell_type": "code",
   "execution_count": 18,
   "metadata": {
    "slideshow": {
     "slide_type": "fragment"
    }
   },
   "outputs": [
    {
     "name": "stdout",
     "output_type": "stream",
     "text": [
      "\n",
      "CREATE TABLE uber (\n",
      "\tlat FLOAT, \n",
      "\tlon FLOAT, \n",
      "\tbase VARCHAR, \n",
      "\tweekday VARCHAR, \n",
      "\tweekofyear INTEGER, \n",
      "\tdayofyear INTEGER, \n",
      "\tyear INTEGER, \n",
      "\tmonth VARCHAR, \n",
      "\tday INTEGER, \n",
      "\thour INTEGER, \n",
      "\tid INTEGER NOT NULL, \n",
      "\tCONSTRAINT uber_pk PRIMARY KEY (id)\n",
      ")\n",
      "\n",
      "\n"
     ]
    },
    {
     "data": {
      "text/plain": [
       "<sqlalchemy.engine.result.ResultProxy at 0x112b6b208>"
      ]
     },
     "execution_count": 18,
     "metadata": {},
     "output_type": "execute_result"
    }
   ],
   "source": [
    "schema = pd.io.sql.get_schema(complete_first_chunk, # dataframe\n",
    "                              'uber', # name in SQL db\n",
    "                              keys='id', # primary key\n",
    "                              con=engine, # connection\n",
    "                              dtype=sql_types # SQL types\n",
    ")\n",
    "print(schema)\n",
    "engine.execute(schema)"
   ]
  },
  {
   "cell_type": "markdown",
   "metadata": {
    "slideshow": {
     "slide_type": "slide"
    }
   },
   "source": [
    "## Step 3 - Getting the `df` iterator and read in each processed chunk\n"
   ]
  },
  {
   "cell_type": "code",
   "execution_count": 19,
   "metadata": {
    "slideshow": {
     "slide_type": "fragment"
    }
   },
   "outputs": [],
   "source": [
    "c_size = 10000\n",
    "df_iter = enumerate(pd.read_csv(\"./data/uber-raw-data-apr14.csv\", \n",
    "                                header=0, names=new_names, \n",
    "                                parse_dates=date_cols,\n",
    "                                chunksize=c_size,\n",
    "                                sep=',',\n",
    "                                engine='python'))"
   ]
  },
  {
   "cell_type": "code",
   "execution_count": 20,
   "metadata": {
    "scrolled": true,
    "slideshow": {
     "slide_type": "slide"
    }
   },
   "outputs": [
    {
     "name": "stdout",
     "output_type": "stream",
     "text": [
      "writing chunk 0\n",
      "writing chunk 1\n",
      "writing chunk 2\n",
      "writing chunk 3\n",
      "writing chunk 4\n",
      "writing chunk 5\n",
      "writing chunk 6\n",
      "writing chunk 7\n",
      "writing chunk 8\n",
      "writing chunk 9\n",
      "writing chunk 10\n",
      "writing chunk 11\n",
      "writing chunk 12\n",
      "writing chunk 13\n",
      "writing chunk 14\n",
      "writing chunk 15\n",
      "writing chunk 16\n",
      "writing chunk 17\n",
      "writing chunk 18\n",
      "writing chunk 19\n",
      "writing chunk 20\n",
      "writing chunk 21\n",
      "writing chunk 22\n",
      "writing chunk 23\n",
      "writing chunk 24\n",
      "writing chunk 25\n",
      "writing chunk 26\n",
      "writing chunk 27\n",
      "writing chunk 28\n",
      "writing chunk 29\n",
      "writing chunk 30\n",
      "writing chunk 31\n",
      "writing chunk 32\n",
      "writing chunk 33\n",
      "writing chunk 34\n",
      "writing chunk 35\n",
      "writing chunk 36\n",
      "writing chunk 37\n",
      "writing chunk 38\n",
      "writing chunk 39\n",
      "writing chunk 40\n",
      "writing chunk 41\n",
      "writing chunk 42\n",
      "writing chunk 43\n",
      "writing chunk 44\n",
      "writing chunk 45\n",
      "writing chunk 46\n",
      "writing chunk 47\n",
      "writing chunk 48\n",
      "writing chunk 49\n",
      "writing chunk 50\n",
      "writing chunk 51\n",
      "writing chunk 52\n",
      "writing chunk 53\n",
      "writing chunk 54\n",
      "writing chunk 55\n",
      "writing chunk 56\n"
     ]
    }
   ],
   "source": [
    "for i, chunk in df_iter:\n",
    "    processed_chunk = chunk >> process_chunk(i)\n",
    "    print('writing chunk {0}'.format(i))\n",
    "    processed_chunk.to_sql('uber', \n",
    "                           con=engine, \n",
    "                           dtype=sql_types, \n",
    "                           index=False,\n",
    "                           if_exists='append')"
   ]
  },
  {
   "cell_type": "markdown",
   "metadata": {
    "slideshow": {
     "slide_type": "slide"
    }
   },
   "source": [
    "## Step 4 - Query the database to test the results\n"
   ]
  },
  {
   "cell_type": "code",
   "execution_count": 28,
   "metadata": {
    "slideshow": {
     "slide_type": "fragment"
    }
   },
   "outputs": [],
   "source": [
    "from sqlalchemy import create_engine\n",
    "from sqlalchemy.ext.automap import automap_base\n",
    "engine2 = create_engine('sqlite:///databases/uber.db')\n",
    "Base = automap_base()\n",
    "Base.prepare(engine2, reflect=True)\n",
    "Uber = Base.classes.uber"
   ]
  },
  {
   "cell_type": "code",
   "execution_count": 29,
   "metadata": {
    "slideshow": {
     "slide_type": "slide"
    }
   },
   "outputs": [
    {
     "data": {
      "text/html": [
       "<div>\n",
       "<style scoped>\n",
       "    .dataframe tbody tr th:only-of-type {\n",
       "        vertical-align: middle;\n",
       "    }\n",
       "\n",
       "    .dataframe tbody tr th {\n",
       "        vertical-align: top;\n",
       "    }\n",
       "\n",
       "    .dataframe thead th {\n",
       "        text-align: right;\n",
       "    }\n",
       "</style>\n",
       "<table border=\"1\" class=\"dataframe\">\n",
       "  <thead>\n",
       "    <tr style=\"text-align: right;\">\n",
       "      <th></th>\n",
       "      <th>weekday</th>\n",
       "      <th>cnt</th>\n",
       "    </tr>\n",
       "  </thead>\n",
       "  <tbody>\n",
       "    <tr>\n",
       "      <th>0</th>\n",
       "      <td>Friday</td>\n",
       "      <td>90303</td>\n",
       "    </tr>\n",
       "    <tr>\n",
       "      <th>1</th>\n",
       "      <td>Monday</td>\n",
       "      <td>60861</td>\n",
       "    </tr>\n",
       "    <tr>\n",
       "      <th>2</th>\n",
       "      <td>Saturday</td>\n",
       "      <td>77218</td>\n",
       "    </tr>\n",
       "    <tr>\n",
       "      <th>3</th>\n",
       "      <td>Sunday</td>\n",
       "      <td>51251</td>\n",
       "    </tr>\n",
       "    <tr>\n",
       "      <th>4</th>\n",
       "      <td>Thursday</td>\n",
       "      <td>85067</td>\n",
       "    </tr>\n",
       "    <tr>\n",
       "      <th>5</th>\n",
       "      <td>Tuesday</td>\n",
       "      <td>91185</td>\n",
       "    </tr>\n",
       "    <tr>\n",
       "      <th>6</th>\n",
       "      <td>Wednesday</td>\n",
       "      <td>108631</td>\n",
       "    </tr>\n",
       "  </tbody>\n",
       "</table>\n",
       "</div>"
      ],
      "text/plain": [
       "     weekday     cnt\n",
       "0     Friday   90303\n",
       "1     Monday   60861\n",
       "2   Saturday   77218\n",
       "3     Sunday   51251\n",
       "4   Thursday   85067\n",
       "5    Tuesday   91185\n",
       "6  Wednesday  108631"
      ]
     },
     "execution_count": 29,
     "metadata": {},
     "output_type": "execute_result"
    }
   ],
   "source": [
    "from sqlalchemy import select, func\n",
    "stmt = (select([Uber.weekday, \n",
    "               func.count(Uber.weekday).label('cnt')])\n",
    "        .group_by(Uber.weekday))\n",
    "cnts = pd.read_sql_query(stmt, con=engine2)\n",
    "cnts"
   ]
  },
  {
   "cell_type": "code",
   "execution_count": 30,
   "metadata": {
    "slideshow": {
     "slide_type": "slide"
    }
   },
   "outputs": [
    {
     "data": {
      "image/png": "[encoded data removed]",
      "text/plain": [
       "<Figure size 360x360 with 1 Axes>"
      ]
     },
     "metadata": {},
     "output_type": "display_data"
    }
   ],
   "source": [
    "import seaborn as sns\n",
    "%matplotlib inline\n",
    "import matplotlib.pylab as plt\n",
    "ax = (sns\n",
    "      .catplot(x=\"weekday\", \n",
    "               y = 'cnt',\n",
    "               kind=\"bar\", \n",
    "               order=day_name,\n",
    "               palette=\"ch:.25\", \n",
    "               data=cnts))\n",
    "\n",
    "ax.set_xticklabels(ax.ax.get_xticklabels(), rotation=40, ha=\"right\")\n",
    "ax.set(title='Uber Pick-Ups by Day of the Week',\n",
    "       xlabel='Day of the Week', \n",
    "       ylabel='Num of Pick-ups')\n",
    "plt.tight_layout()\n",
    "plt.show()"
   ]
  },
  {
   "cell_type": "markdown",
   "metadata": {
    "slideshow": {
     "slide_type": "slide"
    }
   },
   "source": [
    "## <font color=\"red\"> Exercise 3 </font>\n",
    "\n",
    "Add the data from the other 5 months to the database.  To do this\n",
    "\n",
    "1. Use `glob` to get all the file names (filter out april).\n",
    "2. Write a double `for` loop where\n",
    "    a. The outer loop is over the file names\n",
    "    b. The inner loop write each file, in chunks, to the database.\n",
    "3. You will need keep track of the number of rows added using an accumulator.\n",
    "\n",
    "\n",
    "Compute and visualize the hourly frequencies for Uber pick-ups for all 6 months, this time with `SQL` queries.\n",
    "\n",
    "**Hint:** Recall that the primary key column, `id`, needs unique values.  You will need to adjust the `id` column in each chunk using `rows_so_far` (see below)."
   ]
  },
  {
   "cell_type": "code",
   "execution_count": 31,
   "metadata": {
    "slideshow": {
     "slide_type": "fragment"
    }
   },
   "outputs": [],
   "source": [
    "rows_so_far = cnts.cnt.sum()"
   ]
  },
  {
   "cell_type": "code",
   "execution_count": 32,
   "metadata": {
    "slideshow": {
     "slide_type": "fragment"
    }
   },
   "outputs": [
    {
     "data": {
      "text/plain": [
       "['./data/uber/uber-trip-data/taxi-zone-lookup.csv',\n",
       " './data/uber/uber-trip-data/uber-raw-data-apr14.csv',\n",
       " './data/uber/uber-trip-data/uber-raw-data-aug14.csv',\n",
       " './data/uber/uber-trip-data/uber-raw-data-sep14.csv',\n",
       " './data/uber/uber-trip-data/uber-raw-data-jul14.csv',\n",
       " './data/uber/uber-trip-data/uber-raw-data-jun14.csv',\n",
       " './data/uber/uber-trip-data/uber-raw-data-may14.csv']"
      ]
     },
     "execution_count": 32,
     "metadata": {},
     "output_type": "execute_result"
    }
   ],
   "source": [
    "from glob import glob\n",
    "uber_files = glob('./data/uber/uber-trip-data/*.csv')\n",
    "uber_files"
   ]
  },
  {
   "cell_type": "code",
   "execution_count": 33,
   "metadata": {},
   "outputs": [
    {
     "data": {
      "text/plain": [
       "['taxi-zone-lookup', 'uber-raw-data-apr14']"
      ]
     },
     "execution_count": 33,
     "metadata": {},
     "output_type": "execute_result"
    }
   ],
   "source": [
    "import re\n",
    "FILE_NAME_RE = re.compile(r'^\\./data/uber/uber-trip-data/([a-zA-Z0-9_-]*)\\.csv$')\n",
    "file_name = lambda p: FILE_NAME_RE.match(p).group(1) \n",
    "file_names = lambda files: [file_name(p) for p in files]\n",
    "file_names(uber_files)[:2]"
   ]
  },
  {
   "cell_type": "code",
   "execution_count": 34,
   "metadata": {},
   "outputs": [
    {
     "data": {
      "text/plain": [
       "['./data/uber/uber-trip-data/uber-raw-data-aug14.csv',\n",
       " './data/uber/uber-trip-data/uber-raw-data-sep14.csv',\n",
       " './data/uber/uber-trip-data/uber-raw-data-jul14.csv',\n",
       " './data/uber/uber-trip-data/uber-raw-data-jun14.csv',\n",
       " './data/uber/uber-trip-data/uber-raw-data-may14.csv']"
      ]
     },
     "execution_count": 34,
     "metadata": {},
     "output_type": "execute_result"
    }
   ],
   "source": [
    "dfs = [path for name, path in zip(file_names(uber_files), uber_files) if name not in ['taxi-zone-lookup', 'uber-raw-data-apr14']]\n",
    "dfs"
   ]
  },
  {
   "cell_type": "code",
   "execution_count": 35,
   "metadata": {},
   "outputs": [],
   "source": [
    "c_size = 10000\n",
    "df_iterer = (lambda path: enumerate(pd.read_csv(path, \n",
    "                                header=0, names=new_names, \n",
    "                                parse_dates=date_cols,\n",
    "                                chunksize=c_size,\n",
    "                                sep=',',\n",
    "                                engine='python')))"
   ]
  },
  {
   "cell_type": "code",
   "execution_count": 36,
   "metadata": {},
   "outputs": [
    {
     "name": "stdout",
     "output_type": "stream",
     "text": [
      "done with ./data/uber/uber-trip-data/uber-raw-data-aug14.csv\n",
      "writing chunk 0\n",
      "writing chunk 1\n",
      "writing chunk 2\n",
      "writing chunk 3\n",
      "writing chunk 4\n",
      "writing chunk 5\n",
      "writing chunk 6\n",
      "writing chunk 7\n",
      "writing chunk 8\n",
      "writing chunk 9\n",
      "writing chunk 10\n",
      "writing chunk 11\n",
      "writing chunk 12\n",
      "writing chunk 13\n",
      "writing chunk 14\n",
      "writing chunk 15\n",
      "writing chunk 16\n",
      "writing chunk 17\n",
      "writing chunk 18\n",
      "writing chunk 19\n",
      "writing chunk 20\n",
      "writing chunk 21\n",
      "writing chunk 22\n",
      "writing chunk 23\n",
      "writing chunk 24\n",
      "writing chunk 25\n",
      "writing chunk 26\n",
      "writing chunk 27\n",
      "writing chunk 28\n",
      "writing chunk 29\n",
      "writing chunk 30\n",
      "writing chunk 31\n",
      "writing chunk 32\n",
      "writing chunk 33\n",
      "writing chunk 34\n",
      "writing chunk 35\n",
      "writing chunk 36\n",
      "writing chunk 37\n",
      "writing chunk 38\n",
      "writing chunk 39\n",
      "writing chunk 40\n",
      "writing chunk 41\n",
      "writing chunk 42\n",
      "writing chunk 43\n",
      "writing chunk 44\n",
      "writing chunk 45\n",
      "writing chunk 46\n",
      "writing chunk 47\n",
      "writing chunk 48\n",
      "writing chunk 49\n",
      "writing chunk 50\n",
      "writing chunk 51\n",
      "writing chunk 52\n",
      "writing chunk 53\n",
      "writing chunk 54\n",
      "writing chunk 55\n",
      "writing chunk 56\n",
      "writing chunk 57\n",
      "writing chunk 58\n",
      "writing chunk 59\n",
      "writing chunk 60\n",
      "writing chunk 61\n",
      "writing chunk 62\n",
      "writing chunk 63\n",
      "writing chunk 64\n",
      "writing chunk 65\n",
      "writing chunk 66\n",
      "writing chunk 67\n",
      "writing chunk 68\n",
      "writing chunk 69\n",
      "writing chunk 70\n",
      "writing chunk 71\n",
      "writing chunk 72\n",
      "writing chunk 73\n",
      "writing chunk 74\n",
      "writing chunk 75\n",
      "writing chunk 76\n",
      "writing chunk 77\n",
      "writing chunk 78\n",
      "writing chunk 79\n",
      "writing chunk 80\n",
      "writing chunk 81\n",
      "writing chunk 82\n",
      "done with ./data/uber/uber-trip-data/uber-raw-data-sep14.csv\n",
      "writing chunk 0\n",
      "writing chunk 1\n",
      "writing chunk 2\n",
      "writing chunk 3\n",
      "writing chunk 4\n",
      "writing chunk 5\n",
      "writing chunk 6\n",
      "writing chunk 7\n",
      "writing chunk 8\n",
      "writing chunk 9\n",
      "writing chunk 10\n",
      "writing chunk 11\n",
      "writing chunk 12\n",
      "writing chunk 13\n",
      "writing chunk 14\n",
      "writing chunk 15\n",
      "writing chunk 16\n",
      "writing chunk 17\n",
      "writing chunk 18\n",
      "writing chunk 19\n",
      "writing chunk 20\n",
      "writing chunk 21\n",
      "writing chunk 22\n",
      "writing chunk 23\n",
      "writing chunk 24\n",
      "writing chunk 25\n",
      "writing chunk 26\n",
      "writing chunk 27\n",
      "writing chunk 28\n",
      "writing chunk 29\n",
      "writing chunk 30\n",
      "writing chunk 31\n",
      "writing chunk 32\n",
      "writing chunk 33\n",
      "writing chunk 34\n",
      "writing chunk 35\n",
      "writing chunk 36\n",
      "writing chunk 37\n",
      "writing chunk 38\n",
      "writing chunk 39\n",
      "writing chunk 40\n",
      "writing chunk 41\n",
      "writing chunk 42\n",
      "writing chunk 43\n",
      "writing chunk 44\n",
      "writing chunk 45\n",
      "writing chunk 46\n",
      "writing chunk 47\n",
      "writing chunk 48\n",
      "writing chunk 49\n",
      "writing chunk 50\n",
      "writing chunk 51\n",
      "writing chunk 52\n",
      "writing chunk 53\n",
      "writing chunk 54\n",
      "writing chunk 55\n",
      "writing chunk 56\n",
      "writing chunk 57\n",
      "writing chunk 58\n",
      "writing chunk 59\n",
      "writing chunk 60\n",
      "writing chunk 61\n",
      "writing chunk 62\n",
      "writing chunk 63\n",
      "writing chunk 64\n",
      "writing chunk 65\n",
      "writing chunk 66\n",
      "writing chunk 67\n",
      "writing chunk 68\n",
      "writing chunk 69\n",
      "writing chunk 70\n",
      "writing chunk 71\n",
      "writing chunk 72\n",
      "writing chunk 73\n",
      "writing chunk 74\n",
      "writing chunk 75\n",
      "writing chunk 76\n",
      "writing chunk 77\n",
      "writing chunk 78\n",
      "writing chunk 79\n",
      "writing chunk 80\n",
      "writing chunk 81\n",
      "writing chunk 82\n",
      "writing chunk 83\n",
      "writing chunk 84\n",
      "writing chunk 85\n",
      "writing chunk 86\n",
      "writing chunk 87\n",
      "writing chunk 88\n",
      "writing chunk 89\n",
      "writing chunk 90\n",
      "writing chunk 91\n",
      "writing chunk 92\n",
      "writing chunk 93\n",
      "writing chunk 94\n",
      "writing chunk 95\n",
      "writing chunk 96\n",
      "writing chunk 97\n",
      "writing chunk 98\n",
      "writing chunk 99\n",
      "writing chunk 100\n",
      "writing chunk 101\n",
      "writing chunk 102\n",
      "done with ./data/uber/uber-trip-data/uber-raw-data-jul14.csv\n",
      "writing chunk 0\n",
      "writing chunk 1\n",
      "writing chunk 2\n",
      "writing chunk 3\n",
      "writing chunk 4\n",
      "writing chunk 5\n",
      "writing chunk 6\n",
      "writing chunk 7\n",
      "writing chunk 8\n",
      "writing chunk 9\n",
      "writing chunk 10\n",
      "writing chunk 11\n",
      "writing chunk 12\n",
      "writing chunk 13\n",
      "writing chunk 14\n",
      "writing chunk 15\n",
      "writing chunk 16\n",
      "writing chunk 17\n",
      "writing chunk 18\n",
      "writing chunk 19\n",
      "writing chunk 20\n",
      "writing chunk 21\n",
      "writing chunk 22\n",
      "writing chunk 23\n",
      "writing chunk 24\n",
      "writing chunk 25\n",
      "writing chunk 26\n",
      "writing chunk 27\n",
      "writing chunk 28\n",
      "writing chunk 29\n",
      "writing chunk 30\n",
      "writing chunk 31\n",
      "writing chunk 32\n",
      "writing chunk 33\n",
      "writing chunk 34\n",
      "writing chunk 35\n",
      "writing chunk 36\n",
      "writing chunk 37\n",
      "writing chunk 38\n",
      "writing chunk 39\n",
      "writing chunk 40\n",
      "writing chunk 41\n",
      "writing chunk 42\n",
      "writing chunk 43\n",
      "writing chunk 44\n",
      "writing chunk 45\n",
      "writing chunk 46\n",
      "writing chunk 47\n",
      "writing chunk 48\n",
      "writing chunk 49\n",
      "writing chunk 50\n",
      "writing chunk 51\n",
      "writing chunk 52\n",
      "writing chunk 53\n",
      "writing chunk 54\n",
      "writing chunk 55\n",
      "writing chunk 56\n",
      "writing chunk 57\n",
      "writing chunk 58\n",
      "writing chunk 59\n",
      "writing chunk 60\n",
      "writing chunk 61\n",
      "writing chunk 62\n",
      "writing chunk 63\n",
      "writing chunk 64\n",
      "writing chunk 65\n",
      "writing chunk 66\n",
      "writing chunk 67\n",
      "writing chunk 68\n",
      "writing chunk 69\n",
      "writing chunk 70\n",
      "writing chunk 71\n",
      "writing chunk 72\n",
      "writing chunk 73\n",
      "writing chunk 74\n",
      "writing chunk 75\n",
      "writing chunk 76\n",
      "writing chunk 77\n",
      "writing chunk 78\n",
      "writing chunk 79\n",
      "done with ./data/uber/uber-trip-data/uber-raw-data-jun14.csv\n",
      "writing chunk 0\n",
      "writing chunk 1\n",
      "writing chunk 2\n",
      "writing chunk 3\n",
      "writing chunk 4\n",
      "writing chunk 5\n",
      "writing chunk 6\n",
      "writing chunk 7\n",
      "writing chunk 8\n",
      "writing chunk 9\n",
      "writing chunk 10\n",
      "writing chunk 11\n",
      "writing chunk 12\n",
      "writing chunk 13\n",
      "writing chunk 14\n",
      "writing chunk 15\n",
      "writing chunk 16\n",
      "writing chunk 17\n",
      "writing chunk 18\n",
      "writing chunk 19\n",
      "writing chunk 20\n",
      "writing chunk 21\n",
      "writing chunk 22\n",
      "writing chunk 23\n",
      "writing chunk 24\n",
      "writing chunk 25\n",
      "writing chunk 26\n",
      "writing chunk 27\n",
      "writing chunk 28\n",
      "writing chunk 29\n",
      "writing chunk 30\n",
      "writing chunk 31\n",
      "writing chunk 32\n",
      "writing chunk 33\n",
      "writing chunk 34\n",
      "writing chunk 35\n",
      "writing chunk 36\n",
      "writing chunk 37\n",
      "writing chunk 38\n",
      "writing chunk 39\n",
      "writing chunk 40\n",
      "writing chunk 41\n",
      "writing chunk 42\n",
      "writing chunk 43\n",
      "writing chunk 44\n",
      "writing chunk 45\n",
      "writing chunk 46\n",
      "writing chunk 47\n",
      "writing chunk 48\n",
      "writing chunk 49\n",
      "writing chunk 50\n",
      "writing chunk 51\n",
      "writing chunk 52\n",
      "writing chunk 53\n",
      "writing chunk 54\n",
      "writing chunk 55\n",
      "writing chunk 56\n",
      "writing chunk 57\n",
      "writing chunk 58\n",
      "writing chunk 59\n",
      "writing chunk 60\n",
      "writing chunk 61\n",
      "writing chunk 62\n",
      "writing chunk 63\n",
      "writing chunk 64\n",
      "writing chunk 65\n",
      "writing chunk 66\n",
      "done with ./data/uber/uber-trip-data/uber-raw-data-may14.csv\n",
      "writing chunk 0\n",
      "writing chunk 1\n",
      "writing chunk 2\n",
      "writing chunk 3\n",
      "writing chunk 4\n",
      "writing chunk 5\n",
      "writing chunk 6\n",
      "writing chunk 7\n",
      "writing chunk 8\n",
      "writing chunk 9\n",
      "writing chunk 10\n",
      "writing chunk 11\n",
      "writing chunk 12\n",
      "writing chunk 13\n",
      "writing chunk 14\n",
      "writing chunk 15\n",
      "writing chunk 16\n",
      "writing chunk 17\n",
      "writing chunk 18\n",
      "writing chunk 19\n",
      "writing chunk 20\n",
      "writing chunk 21\n",
      "writing chunk 22\n",
      "writing chunk 23\n",
      "writing chunk 24\n",
      "writing chunk 25\n",
      "writing chunk 26\n",
      "writing chunk 27\n",
      "writing chunk 28\n",
      "writing chunk 29\n",
      "writing chunk 30\n",
      "writing chunk 31\n",
      "writing chunk 32\n",
      "writing chunk 33\n",
      "writing chunk 34\n",
      "writing chunk 35\n",
      "writing chunk 36\n",
      "writing chunk 37\n",
      "writing chunk 38\n",
      "writing chunk 39\n",
      "writing chunk 40\n",
      "writing chunk 41\n",
      "writing chunk 42\n",
      "writing chunk 43\n",
      "writing chunk 44\n",
      "writing chunk 45\n",
      "writing chunk 46\n",
      "writing chunk 47\n",
      "writing chunk 48\n",
      "writing chunk 49\n",
      "writing chunk 50\n",
      "writing chunk 51\n",
      "writing chunk 52\n",
      "writing chunk 53\n",
      "writing chunk 54\n",
      "writing chunk 55\n",
      "writing chunk 56\n",
      "writing chunk 57\n",
      "writing chunk 58\n",
      "writing chunk 59\n",
      "writing chunk 60\n",
      "writing chunk 61\n",
      "writing chunk 62\n",
      "writing chunk 63\n",
      "writing chunk 64\n",
      "writing chunk 65\n"
     ]
    }
   ],
   "source": [
    "c_size = 10000\n",
    "process_chunk = pipeable(lambda i, df, chunksize=c_size: df >> add_dateparts >> add_primary_key(i))\n",
    "\n",
    "rows_so_far = cnts.cnt.sum()\n",
    "\n",
    "for path in dfs:\n",
    "    df_iter = df_iterer(path)\n",
    "    print('done with ' + path)\n",
    "    \n",
    "    for i, chunk in df_iter:\n",
    "        processed_chunk = chunk >> process_chunk(rows_so_far)\n",
    "        print('writing chunk {0}'.format(i))\n",
    "        processed_chunk.to_sql('uber', \n",
    "                               con=engine, \n",
    "                               dtype=sql_types, \n",
    "                               index=False,\n",
    "                               if_exists='append')\n",
    "        rows_so_far = rows_so_far + len(chunk)"
   ]
  },
  {
   "cell_type": "code",
   "execution_count": 37,
   "metadata": {},
   "outputs": [],
   "source": [
    "from sqlalchemy import create_engine\n",
    "from sqlalchemy.ext.automap import automap_base\n",
    "engine2 = create_engine('sqlite:///databases/uber.db')\n",
    "Base = automap_base()\n",
    "Base.prepare(engine2, reflect=True)\n",
    "Uber = Base.classes.uber"
   ]
  },
  {
   "cell_type": "code",
   "execution_count": 38,
   "metadata": {},
   "outputs": [
    {
     "data": {
      "text/html": [
       "<div>\n",
       "<style scoped>\n",
       "    .dataframe tbody tr th:only-of-type {\n",
       "        vertical-align: middle;\n",
       "    }\n",
       "\n",
       "    .dataframe tbody tr th {\n",
       "        vertical-align: top;\n",
       "    }\n",
       "\n",
       "    .dataframe thead th {\n",
       "        text-align: right;\n",
       "    }\n",
       "</style>\n",
       "<table border=\"1\" class=\"dataframe\">\n",
       "  <thead>\n",
       "    <tr style=\"text-align: right;\">\n",
       "      <th></th>\n",
       "      <th>hour</th>\n",
       "      <th>cnt</th>\n",
       "    </tr>\n",
       "  </thead>\n",
       "  <tbody>\n",
       "    <tr>\n",
       "      <th>0</th>\n",
       "      <td>0</td>\n",
       "      <td>103836</td>\n",
       "    </tr>\n",
       "    <tr>\n",
       "      <th>1</th>\n",
       "      <td>1</td>\n",
       "      <td>67227</td>\n",
       "    </tr>\n",
       "    <tr>\n",
       "      <th>2</th>\n",
       "      <td>2</td>\n",
       "      <td>45865</td>\n",
       "    </tr>\n",
       "    <tr>\n",
       "      <th>3</th>\n",
       "      <td>3</td>\n",
       "      <td>48287</td>\n",
       "    </tr>\n",
       "    <tr>\n",
       "      <th>4</th>\n",
       "      <td>4</td>\n",
       "      <td>55230</td>\n",
       "    </tr>\n",
       "    <tr>\n",
       "      <th>5</th>\n",
       "      <td>5</td>\n",
       "      <td>83939</td>\n",
       "    </tr>\n",
       "    <tr>\n",
       "      <th>6</th>\n",
       "      <td>6</td>\n",
       "      <td>143213</td>\n",
       "    </tr>\n",
       "    <tr>\n",
       "      <th>7</th>\n",
       "      <td>7</td>\n",
       "      <td>193094</td>\n",
       "    </tr>\n",
       "    <tr>\n",
       "      <th>8</th>\n",
       "      <td>8</td>\n",
       "      <td>190504</td>\n",
       "    </tr>\n",
       "    <tr>\n",
       "      <th>9</th>\n",
       "      <td>9</td>\n",
       "      <td>159967</td>\n",
       "    </tr>\n",
       "    <tr>\n",
       "      <th>10</th>\n",
       "      <td>10</td>\n",
       "      <td>159148</td>\n",
       "    </tr>\n",
       "    <tr>\n",
       "      <th>11</th>\n",
       "      <td>11</td>\n",
       "      <td>165703</td>\n",
       "    </tr>\n",
       "    <tr>\n",
       "      <th>12</th>\n",
       "      <td>12</td>\n",
       "      <td>170452</td>\n",
       "    </tr>\n",
       "    <tr>\n",
       "      <th>13</th>\n",
       "      <td>13</td>\n",
       "      <td>195877</td>\n",
       "    </tr>\n",
       "    <tr>\n",
       "      <th>14</th>\n",
       "      <td>14</td>\n",
       "      <td>230625</td>\n",
       "    </tr>\n",
       "    <tr>\n",
       "      <th>15</th>\n",
       "      <td>15</td>\n",
       "      <td>275466</td>\n",
       "    </tr>\n",
       "    <tr>\n",
       "      <th>16</th>\n",
       "      <td>16</td>\n",
       "      <td>313400</td>\n",
       "    </tr>\n",
       "    <tr>\n",
       "      <th>17</th>\n",
       "      <td>17</td>\n",
       "      <td>336190</td>\n",
       "    </tr>\n",
       "    <tr>\n",
       "      <th>18</th>\n",
       "      <td>18</td>\n",
       "      <td>324679</td>\n",
       "    </tr>\n",
       "    <tr>\n",
       "      <th>19</th>\n",
       "      <td>19</td>\n",
       "      <td>294513</td>\n",
       "    </tr>\n",
       "    <tr>\n",
       "      <th>20</th>\n",
       "      <td>20</td>\n",
       "      <td>284604</td>\n",
       "    </tr>\n",
       "    <tr>\n",
       "      <th>21</th>\n",
       "      <td>21</td>\n",
       "      <td>281460</td>\n",
       "    </tr>\n",
       "    <tr>\n",
       "      <th>22</th>\n",
       "      <td>22</td>\n",
       "      <td>241858</td>\n",
       "    </tr>\n",
       "    <tr>\n",
       "      <th>23</th>\n",
       "      <td>23</td>\n",
       "      <td>169190</td>\n",
       "    </tr>\n",
       "  </tbody>\n",
       "</table>\n",
       "</div>"
      ],
      "text/plain": [
       "    hour     cnt\n",
       "0      0  103836\n",
       "1      1   67227\n",
       "2      2   45865\n",
       "3      3   48287\n",
       "4      4   55230\n",
       "5      5   83939\n",
       "6      6  143213\n",
       "7      7  193094\n",
       "8      8  190504\n",
       "9      9  159967\n",
       "10    10  159148\n",
       "11    11  165703\n",
       "12    12  170452\n",
       "13    13  195877\n",
       "14    14  230625\n",
       "15    15  275466\n",
       "16    16  313400\n",
       "17    17  336190\n",
       "18    18  324679\n",
       "19    19  294513\n",
       "20    20  284604\n",
       "21    21  281460\n",
       "22    22  241858\n",
       "23    23  169190"
      ]
     },
     "execution_count": 38,
     "metadata": {},
     "output_type": "execute_result"
    }
   ],
   "source": [
    "from sqlalchemy import select, func\n",
    "stmt = (select([Uber.hour, \n",
    "               func.count(Uber.hour).label('cnt')])\n",
    "        .group_by(Uber.hour))\n",
    "cnts = pd.read_sql_query(stmt, con=engine2)\n",
    "cnts"
   ]
  },
  {
   "cell_type": "code",
   "execution_count": 39,
   "metadata": {},
   "outputs": [
    {
     "data": {
      "image/png": "[encoded data removed]",
      "text/plain": [
       "<Figure size 360x360 with 1 Axes>"
      ]
     },
     "metadata": {},
     "output_type": "display_data"
    }
   ],
   "source": [
    "import seaborn as sns\n",
    "%matplotlib inline\n",
    "import matplotlib.pylab as plt\n",
    "ax = (sns\n",
    "      .catplot(x=\"hour\", \n",
    "               y = 'cnt',\n",
    "               kind=\"bar\", \n",
    "               #order=day_name,\n",
    "               palette=\"ch:.25\", \n",
    "               data=cnts))\n",
    "\n",
    "ax.set_xticklabels(ax.ax.get_xticklabels(), rotation=40, ha=\"right\")\n",
    "ax.set(title='Uber Pick-Ups by Hour of Day',\n",
    "       xlabel='Hour of the Day', \n",
    "       ylabel='Num of Pick-ups')\n",
    "plt.tight_layout()\n",
    "plt.show()"
   ]
  },
  {
   "cell_type": "markdown",
   "metadata": {},
   "source": [
    "## Up Next\n",
    "\n",
    "Stuff"
   ]
  }
 ],
 "metadata": {
  "celltoolbar": "Slideshow",
  "kernelspec": {
   "display_name": "Python 3",
   "language": "python",
   "name": "python3"
  },
  "language_info": {
   "codemirror_mode": {
    "name": "ipython",
    "version": 3
   },
   "file_extension": ".py",
   "mimetype": "text/x-python",
   "name": "python",
   "nbconvert_exporter": "python",
   "pygments_lexer": "ipython3",
   "version": "3.6.5"
  },
  "varInspector": {
   "cols": {
    "lenName": 16,
    "lenType": 16,
    "lenVar": 40
   },
   "kernels_config": {
    "python": {
     "delete_cmd_postfix": "",
     "delete_cmd_prefix": "del ",
     "library": "var_list.py",
     "varRefreshCmd": "print(var_dic_list())"
    },
    "r": {
     "delete_cmd_postfix": ") ",
     "delete_cmd_prefix": "rm(",
     "library": "var_list.r",
     "varRefreshCmd": "cat(var_dic_list()) "
    }
   },
   "types_to_exclude": [
    "module",
    "function",
    "builtin_function_or_method",
    "instance",
    "_Feature"
   ],
   "window_display": false
  }
 },
 "nbformat": 4,
 "nbformat_minor": 2
}
