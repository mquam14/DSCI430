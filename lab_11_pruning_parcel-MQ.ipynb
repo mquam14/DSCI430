{
 "cells": [
  {
   "cell_type": "markdown",
   "metadata": {},
   "source": [
    "# Lab 11 - Pruning Parcels"
   ]
  },
  {
   "cell_type": "markdown",
   "metadata": {},
   "source": [
    "## Tasks\n",
    "\n",
    "#### Task 1 - Proptype on 2004 parcel data\n",
    "\n",
    "Build a query that will filter the 2004 parcel file\n",
    "\n",
    "1. Read in the 2004 parce file\n",
    "2. Create a column that contains True if the parcel is close to our 49 lakes (see lab 10) and flase otherwise. (Hint: create `lat_long` -> map to `code` -> check `isin` for the lakes we identified in lab 10).\n",
    "3. Create a query that selects the correct columns, filters on the new column, then adds lake_names, lake_codes, and lake distance.  Finally filter by distance to the lake.\n",
    "\n",
    "How much have we reduced the size of the parcel file?  Can you safely union all the files after these filters?\n",
    "\n",
    "#### Task 2 - Read all 11 files and apply the process defined in the last task\n",
    "\n",
    "\n",
    "#### Task 3 - Union all 11 files then write out the result."
   ]
  },
  {
   "cell_type": "code",
   "execution_count": 1,
   "metadata": {},
   "outputs": [],
   "source": [
    "from project_data_Quam import *\n",
    "from project_cols_to_keep_and_drop import *"
   ]
  },
  {
   "cell_type": "code",
   "execution_count": 2,
   "metadata": {},
   "outputs": [],
   "source": [
    "lakes_to_keep = lake_year_stats.DNR_ID_Site_Number.unique()"
   ]
  },
  {
   "cell_type": "code",
   "execution_count": 3,
   "metadata": {},
   "outputs": [],
   "source": [
    "dtypes_dict = {'centroid_lat': str,\n",
    "               'centroid_long': str}"
   ]
  },
  {
   "cell_type": "code",
   "execution_count": 4,
   "metadata": {},
   "outputs": [
    {
     "name": "stderr",
     "output_type": "stream",
     "text": [
      "/anaconda3/lib/python3.6/site-packages/IPython/core/interactiveshell.py:2785: DtypeWarning: Columns (2,3,4,5,6,7,10,12,17,20,22,24,25,26,27,28,29,30,31,32,33,36,37,38,44,45,48,49,50,52,53,55,56,57,58,59,60,61,62,63,64,67) have mixed types. Specify dtype option on import or set low_memory=False.\n",
      "  interactivity=interactivity, compiler=compiler, result=result)\n"
     ]
    }
   ],
   "source": [
    "import pandas as pd\n",
    "example_parcel = pd.read_csv(\"./MinneMUDAC_raw_files/2004_metro_tax_parcels.txt\", sep= \"|\", dtype=dtypes_dict)\n"
   ]
  },
  {
   "cell_type": "code",
   "execution_count": 5,
   "metadata": {},
   "outputs": [
    {
     "data": {
      "text/html": [
       "<div>\n",
       "<style scoped>\n",
       "    .dataframe tbody tr th:only-of-type {\n",
       "        vertical-align: middle;\n",
       "    }\n",
       "\n",
       "    .dataframe tbody tr th {\n",
       "        vertical-align: top;\n",
       "    }\n",
       "\n",
       "    .dataframe thead th {\n",
       "        text-align: right;\n",
       "    }\n",
       "</style>\n",
       "<table border=\"1\" class=\"dataframe\">\n",
       "  <thead>\n",
       "    <tr style=\"text-align: right;\">\n",
       "      <th></th>\n",
       "      <th>ACRES_DEED</th>\n",
       "      <th>ACRES_POLY</th>\n",
       "      <th>AGPRE_ENRD</th>\n",
       "      <th>AGPRE_EXPD</th>\n",
       "      <th>AG_PRESERV</th>\n",
       "      <th>BASEMENT</th>\n",
       "      <th>BLDG_NUM</th>\n",
       "      <th>BLOCK</th>\n",
       "      <th>CITY</th>\n",
       "      <th>CITY_USPS</th>\n",
       "      <th>...</th>\n",
       "      <th>XUSE1_DESC</th>\n",
       "      <th>XUSE2_DESC</th>\n",
       "      <th>XUSE3_DESC</th>\n",
       "      <th>XUSE4_DESC</th>\n",
       "      <th>YEAR_BUILT</th>\n",
       "      <th>Year</th>\n",
       "      <th>ZIP</th>\n",
       "      <th>ZIP4</th>\n",
       "      <th>centroid_lat</th>\n",
       "      <th>centroid_long</th>\n",
       "    </tr>\n",
       "  </thead>\n",
       "  <tbody>\n",
       "    <tr>\n",
       "      <th>0</th>\n",
       "      <td>0.0</td>\n",
       "      <td>8.03</td>\n",
       "      <td>NaN</td>\n",
       "      <td>NaN</td>\n",
       "      <td>N</td>\n",
       "      <td>NaN</td>\n",
       "      <td>NaN</td>\n",
       "      <td>NaN</td>\n",
       "      <td>SAINT FRANCIS</td>\n",
       "      <td>NaN</td>\n",
       "      <td>...</td>\n",
       "      <td>NaN</td>\n",
       "      <td>NaN</td>\n",
       "      <td>NaN</td>\n",
       "      <td>NaN</td>\n",
       "      <td>1980.0</td>\n",
       "      <td>2004</td>\n",
       "      <td>NaN</td>\n",
       "      <td>NaN</td>\n",
       "      <td>45.41332</td>\n",
       "      <td>-93.26739</td>\n",
       "    </tr>\n",
       "    <tr>\n",
       "      <th>1</th>\n",
       "      <td>0.0</td>\n",
       "      <td>0.93</td>\n",
       "      <td>NaN</td>\n",
       "      <td>NaN</td>\n",
       "      <td>N</td>\n",
       "      <td>NaN</td>\n",
       "      <td>24457</td>\n",
       "      <td>NaN</td>\n",
       "      <td>SAINT FRANCIS</td>\n",
       "      <td>BETHEL</td>\n",
       "      <td>...</td>\n",
       "      <td>NaN</td>\n",
       "      <td>NaN</td>\n",
       "      <td>NaN</td>\n",
       "      <td>NaN</td>\n",
       "      <td>1974.0</td>\n",
       "      <td>2004</td>\n",
       "      <td>55005</td>\n",
       "      <td>NaN</td>\n",
       "      <td>45.41354</td>\n",
       "      <td>-93.2701</td>\n",
       "    </tr>\n",
       "    <tr>\n",
       "      <th>2</th>\n",
       "      <td>0.0</td>\n",
       "      <td>8.75</td>\n",
       "      <td>NaN</td>\n",
       "      <td>NaN</td>\n",
       "      <td>N</td>\n",
       "      <td>NaN</td>\n",
       "      <td>24442</td>\n",
       "      <td>NaN</td>\n",
       "      <td>SAINT FRANCIS</td>\n",
       "      <td>BETHEL</td>\n",
       "      <td>...</td>\n",
       "      <td>NaN</td>\n",
       "      <td>NaN</td>\n",
       "      <td>NaN</td>\n",
       "      <td>NaN</td>\n",
       "      <td>1969.0</td>\n",
       "      <td>2004</td>\n",
       "      <td>55005</td>\n",
       "      <td>NaN</td>\n",
       "      <td>45.41318</td>\n",
       "      <td>-93.27344</td>\n",
       "    </tr>\n",
       "    <tr>\n",
       "      <th>3</th>\n",
       "      <td>0.0</td>\n",
       "      <td>11.17</td>\n",
       "      <td>NaN</td>\n",
       "      <td>NaN</td>\n",
       "      <td>N</td>\n",
       "      <td>NaN</td>\n",
       "      <td>410</td>\n",
       "      <td>NaN</td>\n",
       "      <td>SAINT FRANCIS</td>\n",
       "      <td>BETHEL</td>\n",
       "      <td>...</td>\n",
       "      <td>NaN</td>\n",
       "      <td>NaN</td>\n",
       "      <td>NaN</td>\n",
       "      <td>NaN</td>\n",
       "      <td>1989.0</td>\n",
       "      <td>2004</td>\n",
       "      <td>55005</td>\n",
       "      <td>NaN</td>\n",
       "      <td>45.41167</td>\n",
       "      <td>-93.27684</td>\n",
       "    </tr>\n",
       "    <tr>\n",
       "      <th>4</th>\n",
       "      <td>0.0</td>\n",
       "      <td>14.46</td>\n",
       "      <td>NaN</td>\n",
       "      <td>NaN</td>\n",
       "      <td>N</td>\n",
       "      <td>NaN</td>\n",
       "      <td>480</td>\n",
       "      <td>NaN</td>\n",
       "      <td>SAINT FRANCIS</td>\n",
       "      <td>BETHEL</td>\n",
       "      <td>...</td>\n",
       "      <td>NaN</td>\n",
       "      <td>NaN</td>\n",
       "      <td>NaN</td>\n",
       "      <td>NaN</td>\n",
       "      <td>1995.0</td>\n",
       "      <td>2004</td>\n",
       "      <td>55070</td>\n",
       "      <td>NaN</td>\n",
       "      <td>45.41169</td>\n",
       "      <td>-93.27849</td>\n",
       "    </tr>\n",
       "  </tbody>\n",
       "</table>\n",
       "<p>5 rows × 71 columns</p>\n",
       "</div>"
      ],
      "text/plain": [
       "   ACRES_DEED  ACRES_POLY AGPRE_ENRD AGPRE_EXPD AG_PRESERV BASEMENT BLDG_NUM  \\\n",
       "0         0.0        8.03        NaN        NaN          N      NaN      NaN   \n",
       "1         0.0        0.93        NaN        NaN          N      NaN    24457   \n",
       "2         0.0        8.75        NaN        NaN          N      NaN    24442   \n",
       "3         0.0       11.17        NaN        NaN          N      NaN      410   \n",
       "4         0.0       14.46        NaN        NaN          N      NaN      480   \n",
       "\n",
       "  BLOCK           CITY CITY_USPS  ... XUSE1_DESC  XUSE2_DESC XUSE3_DESC  \\\n",
       "0   NaN  SAINT FRANCIS       NaN  ...        NaN         NaN        NaN   \n",
       "1   NaN  SAINT FRANCIS    BETHEL  ...        NaN         NaN        NaN   \n",
       "2   NaN  SAINT FRANCIS    BETHEL  ...        NaN         NaN        NaN   \n",
       "3   NaN  SAINT FRANCIS    BETHEL  ...        NaN         NaN        NaN   \n",
       "4   NaN  SAINT FRANCIS    BETHEL  ...        NaN         NaN        NaN   \n",
       "\n",
       "   XUSE4_DESC  YEAR_BUILT  Year    ZIP ZIP4  centroid_lat centroid_long  \n",
       "0         NaN      1980.0  2004    NaN  NaN      45.41332     -93.26739  \n",
       "1         NaN      1974.0  2004  55005  NaN      45.41354      -93.2701  \n",
       "2         NaN      1969.0  2004  55005  NaN      45.41318     -93.27344  \n",
       "3         NaN      1989.0  2004  55005  NaN      45.41167     -93.27684  \n",
       "4         NaN      1995.0  2004  55070  NaN      45.41169     -93.27849  \n",
       "\n",
       "[5 rows x 71 columns]"
      ]
     },
     "execution_count": 5,
     "metadata": {},
     "output_type": "execute_result"
    }
   ],
   "source": [
    "example_parcel.head()"
   ]
  },
  {
   "cell_type": "code",
   "execution_count": 6,
   "metadata": {},
   "outputs": [],
   "source": [
    "rows_to_keep = (pd.Series(zip(example_parcel.centroid_lat, example_parcel.centroid_long))\n",
    "                .map(lat_long_code_dict)\n",
    "                .isin(lakes_to_keep)\n",
    "               )"
   ]
  },
  {
   "cell_type": "code",
   "execution_count": 7,
   "metadata": {},
   "outputs": [
    {
     "data": {
      "text/plain": [
       "False    1795192\n",
       "True      187183\n",
       "dtype: int64"
      ]
     },
     "execution_count": 7,
     "metadata": {},
     "output_type": "execute_result"
    }
   ],
   "source": [
    "rows_to_keep.value_counts()"
   ]
  },
  {
   "cell_type": "code",
   "execution_count": 8,
   "metadata": {},
   "outputs": [],
   "source": [
    "from dfply import make_symbolic"
   ]
  },
  {
   "cell_type": "code",
   "execution_count": 9,
   "metadata": {},
   "outputs": [],
   "source": [
    "@make_symbolic\n",
    "def col_zip(*cols):\n",
    "    return pd.Series(zip(*cols))"
   ]
  },
  {
   "cell_type": "code",
   "execution_count": 10,
   "metadata": {},
   "outputs": [],
   "source": [
    "make_lat_long = lambda chunk:(chunk\n",
    "                              >> mutate(lat_long = pd.Series(zip(chunk.centroid_lat, chunk.centroid_long))))"
   ]
  },
  {
   "cell_type": "code",
   "execution_count": 11,
   "metadata": {},
   "outputs": [],
   "source": [
    "import pandas as pd\n",
    "read_parcel = lambda file: pd.read_csv(file, sep= \"|\", dtype=dtypes_dict)"
   ]
  },
  {
   "cell_type": "code",
   "execution_count": 15,
   "metadata": {},
   "outputs": [],
   "source": [
    "simplify_parcel = lambda df:(df\n",
    "                             >> select(cols_to_keep)\n",
    "                             >> mutate(lat_long = pd.Series(zip(df.centroid_lat, df.centroid_long)))\n",
    "                             >> mutate(rows_to_keep = (X.lat_long\n",
    "                                                        .map(lat_long_code_dict)\n",
    "                                                        .isin(lakes_to_keep)))\n",
    "                             >> filter_by(X.rows_to_keep)\n",
    "                             >> mutate(lake_name = X.lat_long.map(lat_long_name_dict),\n",
    "                                       lake_code = X.lat_long.map(lat_long_code_dict),\n",
    "                                       distance = X.lat_long.map(lat_long_dist))\n",
    "                             >> filter_by(X.distance.astype(float) <= 1600))\n",
    "\n"
   ]
  },
  {
   "cell_type": "code",
   "execution_count": 38,
   "metadata": {},
   "outputs": [
    {
     "data": {
      "text/html": [
       "<div>\n",
       "<style scoped>\n",
       "    .dataframe tbody tr th:only-of-type {\n",
       "        vertical-align: middle;\n",
       "    }\n",
       "\n",
       "    .dataframe tbody tr th {\n",
       "        vertical-align: top;\n",
       "    }\n",
       "\n",
       "    .dataframe thead th {\n",
       "        text-align: right;\n",
       "    }\n",
       "</style>\n",
       "<table border=\"1\" class=\"dataframe\">\n",
       "  <thead>\n",
       "    <tr style=\"text-align: right;\">\n",
       "      <th></th>\n",
       "      <th>ACRES_DEED</th>\n",
       "      <th>ACRES_POLY</th>\n",
       "      <th>AGPRE_ENRD</th>\n",
       "      <th>AG_PRESERV</th>\n",
       "      <th>BASEMENT</th>\n",
       "      <th>CITY</th>\n",
       "      <th>COOLING</th>\n",
       "      <th>DWELL_TYPE</th>\n",
       "      <th>EMV_BLDG</th>\n",
       "      <th>EMV_LAND</th>\n",
       "      <th>...</th>\n",
       "      <th>XUSE4_DESC</th>\n",
       "      <th>YEAR_BUILT</th>\n",
       "      <th>Year</th>\n",
       "      <th>centroid_lat</th>\n",
       "      <th>centroid_long</th>\n",
       "      <th>lat_long</th>\n",
       "      <th>rows_to_keep</th>\n",
       "      <th>lake_name</th>\n",
       "      <th>lake_code</th>\n",
       "      <th>distance</th>\n",
       "    </tr>\n",
       "  </thead>\n",
       "  <tbody>\n",
       "    <tr>\n",
       "      <th>43581</th>\n",
       "      <td>0.0</td>\n",
       "      <td>3.30</td>\n",
       "      <td>NaN</td>\n",
       "      <td>N</td>\n",
       "      <td>NaN</td>\n",
       "      <td>LINO LAKES</td>\n",
       "      <td>NaN</td>\n",
       "      <td>NaN</td>\n",
       "      <td>0.0</td>\n",
       "      <td>1000.0</td>\n",
       "      <td>...</td>\n",
       "      <td>NaN</td>\n",
       "      <td>0.0</td>\n",
       "      <td>2004</td>\n",
       "      <td>45.19074</td>\n",
       "      <td>-93.08833</td>\n",
       "      <td>(45.19074, -93.08833)</td>\n",
       "      <td>True</td>\n",
       "      <td>George Watch Lake</td>\n",
       "      <td>02000500-01</td>\n",
       "      <td>1593.945766</td>\n",
       "    </tr>\n",
       "    <tr>\n",
       "      <th>43619</th>\n",
       "      <td>0.0</td>\n",
       "      <td>2.70</td>\n",
       "      <td>NaN</td>\n",
       "      <td>N</td>\n",
       "      <td>NaN</td>\n",
       "      <td>LINO LAKES</td>\n",
       "      <td>NaN</td>\n",
       "      <td>NaN</td>\n",
       "      <td>134767.0</td>\n",
       "      <td>84245.0</td>\n",
       "      <td>...</td>\n",
       "      <td>NaN</td>\n",
       "      <td>1982.0</td>\n",
       "      <td>2004</td>\n",
       "      <td>45.19039</td>\n",
       "      <td>-93.09149</td>\n",
       "      <td>(45.19039, -93.09149)</td>\n",
       "      <td>True</td>\n",
       "      <td>George Watch Lake</td>\n",
       "      <td>02000500-01</td>\n",
       "      <td>1565.733074</td>\n",
       "    </tr>\n",
       "    <tr>\n",
       "      <th>43620</th>\n",
       "      <td>0.0</td>\n",
       "      <td>0.78</td>\n",
       "      <td>NaN</td>\n",
       "      <td>N</td>\n",
       "      <td>NaN</td>\n",
       "      <td>LINO LAKES</td>\n",
       "      <td>NaN</td>\n",
       "      <td>NaN</td>\n",
       "      <td>116209.0</td>\n",
       "      <td>81310.0</td>\n",
       "      <td>...</td>\n",
       "      <td>NaN</td>\n",
       "      <td>1978.0</td>\n",
       "      <td>2004</td>\n",
       "      <td>45.19041</td>\n",
       "      <td>-93.09374</td>\n",
       "      <td>(45.19041, -93.09374)</td>\n",
       "      <td>True</td>\n",
       "      <td>George Watch Lake</td>\n",
       "      <td>02000500-01</td>\n",
       "      <td>1599.159173</td>\n",
       "    </tr>\n",
       "    <tr>\n",
       "      <th>43626</th>\n",
       "      <td>0.0</td>\n",
       "      <td>0.72</td>\n",
       "      <td>NaN</td>\n",
       "      <td>N</td>\n",
       "      <td>NaN</td>\n",
       "      <td>LINO LAKES</td>\n",
       "      <td>NaN</td>\n",
       "      <td>NaN</td>\n",
       "      <td>151691.0</td>\n",
       "      <td>81310.0</td>\n",
       "      <td>...</td>\n",
       "      <td>NaN</td>\n",
       "      <td>1979.0</td>\n",
       "      <td>2004</td>\n",
       "      <td>45.19022</td>\n",
       "      <td>-93.09407</td>\n",
       "      <td>(45.19022, -93.09407)</td>\n",
       "      <td>True</td>\n",
       "      <td>George Watch Lake</td>\n",
       "      <td>02000500-01</td>\n",
       "      <td>1584.864382</td>\n",
       "    </tr>\n",
       "    <tr>\n",
       "      <th>43627</th>\n",
       "      <td>0.0</td>\n",
       "      <td>1.18</td>\n",
       "      <td>NaN</td>\n",
       "      <td>N</td>\n",
       "      <td>NaN</td>\n",
       "      <td>LINO LAKES</td>\n",
       "      <td>NaN</td>\n",
       "      <td>NaN</td>\n",
       "      <td>137609.0</td>\n",
       "      <td>81310.0</td>\n",
       "      <td>...</td>\n",
       "      <td>NaN</td>\n",
       "      <td>1985.0</td>\n",
       "      <td>2004</td>\n",
       "      <td>45.19004</td>\n",
       "      <td>-93.09214</td>\n",
       "      <td>(45.19004, -93.09214)</td>\n",
       "      <td>True</td>\n",
       "      <td>George Watch Lake</td>\n",
       "      <td>02000500-01</td>\n",
       "      <td>1534.365912</td>\n",
       "    </tr>\n",
       "  </tbody>\n",
       "</table>\n",
       "<p>5 rows × 44 columns</p>\n",
       "</div>"
      ],
      "text/plain": [
       "       ACRES_DEED  ACRES_POLY AGPRE_ENRD AG_PRESERV BASEMENT        CITY  \\\n",
       "43581         0.0        3.30        NaN          N      NaN  LINO LAKES   \n",
       "43619         0.0        2.70        NaN          N      NaN  LINO LAKES   \n",
       "43620         0.0        0.78        NaN          N      NaN  LINO LAKES   \n",
       "43626         0.0        0.72        NaN          N      NaN  LINO LAKES   \n",
       "43627         0.0        1.18        NaN          N      NaN  LINO LAKES   \n",
       "\n",
       "      COOLING DWELL_TYPE  EMV_BLDG  EMV_LAND  ...  XUSE4_DESC YEAR_BUILT  \\\n",
       "43581     NaN        NaN       0.0    1000.0  ...         NaN        0.0   \n",
       "43619     NaN        NaN  134767.0   84245.0  ...         NaN     1982.0   \n",
       "43620     NaN        NaN  116209.0   81310.0  ...         NaN     1978.0   \n",
       "43626     NaN        NaN  151691.0   81310.0  ...         NaN     1979.0   \n",
       "43627     NaN        NaN  137609.0   81310.0  ...         NaN     1985.0   \n",
       "\n",
       "       Year centroid_lat centroid_long               lat_long rows_to_keep  \\\n",
       "43581  2004     45.19074     -93.08833  (45.19074, -93.08833)         True   \n",
       "43619  2004     45.19039     -93.09149  (45.19039, -93.09149)         True   \n",
       "43620  2004     45.19041     -93.09374  (45.19041, -93.09374)         True   \n",
       "43626  2004     45.19022     -93.09407  (45.19022, -93.09407)         True   \n",
       "43627  2004     45.19004     -93.09214  (45.19004, -93.09214)         True   \n",
       "\n",
       "               lake_name    lake_code     distance  \n",
       "43581  George Watch Lake  02000500-01  1593.945766  \n",
       "43619  George Watch Lake  02000500-01  1565.733074  \n",
       "43620  George Watch Lake  02000500-01  1599.159173  \n",
       "43626  George Watch Lake  02000500-01  1584.864382  \n",
       "43627  George Watch Lake  02000500-01  1534.365912  \n",
       "\n",
       "[5 rows x 44 columns]"
      ]
     },
     "execution_count": 38,
     "metadata": {},
     "output_type": "execute_result"
    }
   ],
   "source": [
    "ex = simplify_parcel(example_parcel)\n",
    "ex.head()"
   ]
  },
  {
   "cell_type": "code",
   "execution_count": 17,
   "metadata": {},
   "outputs": [],
   "source": [
    "from glob import glob\n",
    "files = glob('./MinneMUDAC_raw_files/****_metro_tax_parcels.txt')\n",
    "FILE_NAME_RE = re.compile(r'^./MinneMUDAC_raw_files/([0-9]*)_metro_tax_parcels.txt$')\n",
    "file_name = lambda p: FILE_NAME_RE.match(p).group(1) \n",
    "reduced_files = [file for file in files if file_name(file) not in ['2002', '2003', '2015']]"
   ]
  },
  {
   "cell_type": "code",
   "execution_count": 18,
   "metadata": {},
   "outputs": [
    {
     "name": "stderr",
     "output_type": "stream",
     "text": [
      "/anaconda3/lib/python3.6/site-packages/IPython/core/interactiveshell.py:2963: DtypeWarning: Columns (2,3,4,5,6,7,10,12,17,19,20,21,22,24,25,26,27,28,29,30,31,32,33,34,37,38,39,45,46,49,50,51,54,56,57,58,59,60,61,62,63,64,65) have mixed types. Specify dtype option on import or set low_memory=False.\n",
      "  exec(code_obj, self.user_global_ns, self.user_ns)\n",
      "/anaconda3/lib/python3.6/site-packages/IPython/core/interactiveshell.py:2963: DtypeWarning: Columns (2,3,4,5,6,7,10,12,17,19,20,21,22,23,24,25,26,27,28,29,30,31,32,33,34,37,38,39,40,45,46,49,50,51,53,54,56,57,58,59,60,61,62,63,64,65,68) have mixed types. Specify dtype option on import or set low_memory=False.\n",
      "  exec(code_obj, self.user_global_ns, self.user_ns)\n",
      "/anaconda3/lib/python3.6/site-packages/IPython/core/interactiveshell.py:2963: DtypeWarning: Columns (2,3,4,5,6,7,10,12,17,19,20,23,24,25,27,28,29,30,31,32,35,36,37,40,43,44,47,48,49,51,52,54,56,57,58,59,60,61,62,63) have mixed types. Specify dtype option on import or set low_memory=False.\n",
      "  exec(code_obj, self.user_global_ns, self.user_ns)\n",
      "/anaconda3/lib/python3.6/site-packages/IPython/core/interactiveshell.py:2963: DtypeWarning: Columns (2,3,4,5,6,7,10,12,17,19,20,22,23,24,25,26,27,28,29,30,31,32,35,36,37,38,43,44,47,48,49,51,52,54,55,56,57,58,59,60,61,62,63,66) have mixed types. Specify dtype option on import or set low_memory=False.\n",
      "  exec(code_obj, self.user_global_ns, self.user_ns)\n",
      "/anaconda3/lib/python3.6/site-packages/IPython/core/interactiveshell.py:2963: DtypeWarning: Columns (2,3,5,6,7,10,12,17,18,19,20,23,24,25,27,28,29,30,31,32,36,37,40,43,44,47,48,49,51,52,54,56,57,58,60,61,62,63) have mixed types. Specify dtype option on import or set low_memory=False.\n",
      "  exec(code_obj, self.user_global_ns, self.user_ns)\n",
      "/anaconda3/lib/python3.6/site-packages/IPython/core/interactiveshell.py:2963: DtypeWarning: Columns (2,3,5,6,7,10,12,17,18,19,20,22,23,24,25,27,28,29,30,31,32,36,37,40,43,44,50,51,52,54,55,56,58,60,61,62,64,65,66,67,70) have mixed types. Specify dtype option on import or set low_memory=False.\n",
      "  exec(code_obj, self.user_global_ns, self.user_ns)\n",
      "/anaconda3/lib/python3.6/site-packages/IPython/core/interactiveshell.py:2963: DtypeWarning: Columns (2,3,4,5,6,7,10,12,17,19,20,21,22,23,24,25,26,27,28,29,30,31,32,33,34,37,38,39,45,46,49,50,51,53,54,56,57,58,59,60,61,62,63,64,65) have mixed types. Specify dtype option on import or set low_memory=False.\n",
      "  exec(code_obj, self.user_global_ns, self.user_ns)\n",
      "/anaconda3/lib/python3.6/site-packages/IPython/core/interactiveshell.py:2963: DtypeWarning: Columns (2,3,4,5,6,7,10,12,17,19,20,21,22,24,25,26,27,28,29,30,31,32,33,36,37,38,41,44,45,48,49,50,53,55,57,58,59,60,61,62,63,64) have mixed types. Specify dtype option on import or set low_memory=False.\n",
      "  exec(code_obj, self.user_global_ns, self.user_ns)\n",
      "/anaconda3/lib/python3.6/site-packages/IPython/core/interactiveshell.py:2963: DtypeWarning: Columns (2,3,4,5,6,7,10,12,17,19,20,22,23,24,25,26,27,28,29,30,31,32,35,36,37,38,43,44,47,48,49,51,52,54,55,56,57,58,59,60,61,62,63) have mixed types. Specify dtype option on import or set low_memory=False.\n",
      "  exec(code_obj, self.user_global_ns, self.user_ns)\n",
      "/anaconda3/lib/python3.6/site-packages/IPython/core/interactiveshell.py:2963: DtypeWarning: Columns (2,3,5,6,7,10,12,17,19,20,23,24,25,27,28,29,30,31,32,35,36,37,40,43,44,47,48,49,51,52,54,56,57,58,60,61,62,63) have mixed types. Specify dtype option on import or set low_memory=False.\n",
      "  exec(code_obj, self.user_global_ns, self.user_ns)\n",
      "/anaconda3/lib/python3.6/site-packages/IPython/core/interactiveshell.py:2963: DtypeWarning: Columns (2,3,4,5,6,7,10,12,17,20,22,24,25,26,27,28,29,30,31,32,33,36,37,38,44,45,48,49,50,52,53,55,56,57,58,59,60,61,62,63,64,67) have mixed types. Specify dtype option on import or set low_memory=False.\n",
      "  exec(code_obj, self.user_global_ns, self.user_ns)\n"
     ]
    }
   ],
   "source": [
    "parcel_04_14_dfs = [simplify_parcel(read_parcel(file)) for file in reduced_files]\n",
    "\n",
    "\n"
   ]
  },
  {
   "cell_type": "code",
   "execution_count": 21,
   "metadata": {},
   "outputs": [
    {
     "data": {
      "text/plain": [
       "Index(['ACRES_DEED', 'ACRES_POLY', 'AGPRE_ENRD', 'AG_PRESERV', 'BASEMENT',\n",
       "       'CITY', 'COOLING', 'DWELL_TYPE', 'EMV_BLDG', 'EMV_LAND', 'FIN_SQ_FT',\n",
       "       'GARAGE', 'GARAGESQFT', 'GREEN_ACRE', 'HOMESTEAD', 'LANDMARK',\n",
       "       'OWN_ADD_L1', 'OWN_ADD_L2', 'OWN_ADD_L3', 'PARC_CODE', 'PIN',\n",
       "       'SALE_VALUE', 'SPEC_ASSES', 'TAX_CAPAC', 'TAX_EXEMPT', 'TOTAL_TAX',\n",
       "       'USE1_DESC', 'USE2_DESC', 'USE3_DESC', 'USE4_DESC', 'WSHD_DIST',\n",
       "       'XUSE1_DESC', 'XUSE2_DESC', 'XUSE3_DESC', 'XUSE4_DESC', 'YEAR_BUILT',\n",
       "       'Year', 'centroid_lat', 'centroid_long', 'lat_long', 'rows_to_keep',\n",
       "       'lake_name', 'lake_code', 'distance'],\n",
       "      dtype='object')"
      ]
     },
     "execution_count": 21,
     "metadata": {},
     "output_type": "execute_result"
    }
   ],
   "source": [
    "parcel_04_14_dfs[0].columns"
   ]
  },
  {
   "cell_type": "code",
   "execution_count": 22,
   "metadata": {},
   "outputs": [],
   "source": [
    "cols = ['ACRES_DEED', 'ACRES_POLY', 'AGPRE_ENRD', 'AG_PRESERV', 'BASEMENT',\n",
    "       'CITY', 'COOLING', 'DWELL_TYPE', 'EMV_BLDG', 'EMV_LAND', 'FIN_SQ_FT',\n",
    "       'GARAGE', 'GARAGESQFT', 'GREEN_ACRE', 'HOMESTEAD', 'LANDMARK',\n",
    "       'OWN_ADD_L1', 'OWN_ADD_L2', 'OWN_ADD_L3', 'PARC_CODE', 'PIN',\n",
    "       'SALE_VALUE', 'SPEC_ASSES', 'TAX_CAPAC', 'TAX_EXEMPT', 'TOTAL_TAX',\n",
    "       'USE1_DESC', 'USE2_DESC', 'USE3_DESC', 'USE4_DESC', 'WSHD_DIST',\n",
    "       'XUSE1_DESC', 'XUSE2_DESC', 'XUSE3_DESC', 'XUSE4_DESC', 'YEAR_BUILT',\n",
    "       'Year', 'centroid_lat', 'centroid_long', 'lat_long', 'rows_to_keep',\n",
    "       'lake_name', 'lake_code', 'distance']"
   ]
  },
  {
   "cell_type": "code",
   "execution_count": 20,
   "metadata": {},
   "outputs": [],
   "source": [
    "@dfpipe\n",
    "def union_all(left_df, right_df, ignore_index=True):\n",
    "    return pd.concat([left_df, right_df], ignore_index=ignore_index)"
   ]
  },
  {
   "cell_type": "code",
   "execution_count": 24,
   "metadata": {},
   "outputs": [],
   "source": [
    "all_parcels_df = pd.DataFrame(columns=cols)\n",
    "for df in parcel_04_14_dfs:\n",
    "    all_parcels_df = all_parcels_df >> union_all(df)"
   ]
  },
  {
   "cell_type": "code",
   "execution_count": 82,
   "metadata": {},
   "outputs": [
    {
     "data": {
      "text/plain": [
       "array([  1694.,      0., 423734., ...,  14750.,  23504.,  26928.])"
      ]
     },
     "execution_count": 82,
     "metadata": {},
     "output_type": "execute_result"
    }
   ],
   "source": [
    "all_parcels_df.TOTAL_TAX.unique()"
   ]
  },
  {
   "cell_type": "code",
   "execution_count": 27,
   "metadata": {},
   "outputs": [
    {
     "data": {
      "text/html": [
       "<div>\n",
       "<style scoped>\n",
       "    .dataframe tbody tr th:only-of-type {\n",
       "        vertical-align: middle;\n",
       "    }\n",
       "\n",
       "    .dataframe tbody tr th {\n",
       "        vertical-align: top;\n",
       "    }\n",
       "\n",
       "    .dataframe thead th {\n",
       "        text-align: right;\n",
       "    }\n",
       "</style>\n",
       "<table border=\"1\" class=\"dataframe\">\n",
       "  <thead>\n",
       "    <tr style=\"text-align: right;\">\n",
       "      <th></th>\n",
       "      <th>ACRES_DEED</th>\n",
       "      <th>ACRES_POLY</th>\n",
       "      <th>AGPRE_ENRD</th>\n",
       "      <th>AG_PRESERV</th>\n",
       "      <th>BASEMENT</th>\n",
       "      <th>CITY</th>\n",
       "      <th>COOLING</th>\n",
       "      <th>DWELL_TYPE</th>\n",
       "      <th>EMV_BLDG</th>\n",
       "      <th>EMV_LAND</th>\n",
       "      <th>...</th>\n",
       "      <th>XUSE4_DESC</th>\n",
       "      <th>YEAR_BUILT</th>\n",
       "      <th>Year</th>\n",
       "      <th>centroid_lat</th>\n",
       "      <th>centroid_long</th>\n",
       "      <th>lat_long</th>\n",
       "      <th>rows_to_keep</th>\n",
       "      <th>lake_name</th>\n",
       "      <th>lake_code</th>\n",
       "      <th>distance</th>\n",
       "    </tr>\n",
       "  </thead>\n",
       "  <tbody>\n",
       "    <tr>\n",
       "      <th>0</th>\n",
       "      <td>0.00</td>\n",
       "      <td>2.22</td>\n",
       "      <td>1899-12-30</td>\n",
       "      <td>N</td>\n",
       "      <td>NaN</td>\n",
       "      <td>LINO LAKES</td>\n",
       "      <td>NaN</td>\n",
       "      <td>RESIDENTIAL SINGLE FAMILY</td>\n",
       "      <td>18000.0</td>\n",
       "      <td>102800.0</td>\n",
       "      <td>...</td>\n",
       "      <td>NaN</td>\n",
       "      <td>0.0</td>\n",
       "      <td>2009</td>\n",
       "      <td>45.18883</td>\n",
       "      <td>-93.09643</td>\n",
       "      <td>(45.18883, -93.09643)</td>\n",
       "      <td>True</td>\n",
       "      <td>George Watch Lake</td>\n",
       "      <td>02000500-01</td>\n",
       "      <td>1497.303125</td>\n",
       "    </tr>\n",
       "    <tr>\n",
       "      <th>1</th>\n",
       "      <td>4.87</td>\n",
       "      <td>4.65</td>\n",
       "      <td>1899-12-30</td>\n",
       "      <td>N</td>\n",
       "      <td>NaN</td>\n",
       "      <td>LINO LAKES</td>\n",
       "      <td>NaN</td>\n",
       "      <td>EXEMPT - COUNTY PUBLIC SERVICE</td>\n",
       "      <td>0.0</td>\n",
       "      <td>42000.0</td>\n",
       "      <td>...</td>\n",
       "      <td>NaN</td>\n",
       "      <td>0.0</td>\n",
       "      <td>2009</td>\n",
       "      <td>45.1825</td>\n",
       "      <td>-93.10329</td>\n",
       "      <td>(45.1825, -93.10329)</td>\n",
       "      <td>True</td>\n",
       "      <td>George Watch Lake</td>\n",
       "      <td>02000500-01</td>\n",
       "      <td>1307.638376</td>\n",
       "    </tr>\n",
       "    <tr>\n",
       "      <th>2</th>\n",
       "      <td>0.00</td>\n",
       "      <td>15.95</td>\n",
       "      <td>1899-12-30</td>\n",
       "      <td>N</td>\n",
       "      <td>N</td>\n",
       "      <td>LINO LAKES</td>\n",
       "      <td>NaN</td>\n",
       "      <td>COMMERCIAL / GOLF COURSE</td>\n",
       "      <td>8645400.0</td>\n",
       "      <td>4130700.0</td>\n",
       "      <td>...</td>\n",
       "      <td>NaN</td>\n",
       "      <td>2002.0</td>\n",
       "      <td>2009</td>\n",
       "      <td>45.18437</td>\n",
       "      <td>-93.10511</td>\n",
       "      <td>(45.18437, -93.10511)</td>\n",
       "      <td>True</td>\n",
       "      <td>George Watch Lake</td>\n",
       "      <td>02000500-01</td>\n",
       "      <td>1541.113584</td>\n",
       "    </tr>\n",
       "    <tr>\n",
       "      <th>3</th>\n",
       "      <td>0.00</td>\n",
       "      <td>3.74</td>\n",
       "      <td>1899-12-30</td>\n",
       "      <td>N</td>\n",
       "      <td>NaN</td>\n",
       "      <td>LINO LAKES</td>\n",
       "      <td>NaN</td>\n",
       "      <td>COMMERCIAL / GOLF COURSE</td>\n",
       "      <td>0.0</td>\n",
       "      <td>160000.0</td>\n",
       "      <td>...</td>\n",
       "      <td>NaN</td>\n",
       "      <td>0.0</td>\n",
       "      <td>2009</td>\n",
       "      <td>45.18447</td>\n",
       "      <td>-93.10292</td>\n",
       "      <td>(45.18447, -93.10292)</td>\n",
       "      <td>True</td>\n",
       "      <td>George Watch Lake</td>\n",
       "      <td>02000500-01</td>\n",
       "      <td>1410.709951</td>\n",
       "    </tr>\n",
       "    <tr>\n",
       "      <th>4</th>\n",
       "      <td>39.98</td>\n",
       "      <td>35.38</td>\n",
       "      <td>1899-12-30</td>\n",
       "      <td>N</td>\n",
       "      <td>NaN</td>\n",
       "      <td>LINO LAKES</td>\n",
       "      <td>NaN</td>\n",
       "      <td>EXEMPT - COUNTY OTHER</td>\n",
       "      <td>0.0</td>\n",
       "      <td>220900.0</td>\n",
       "      <td>...</td>\n",
       "      <td>NaN</td>\n",
       "      <td>0.0</td>\n",
       "      <td>2009</td>\n",
       "      <td>45.16591</td>\n",
       "      <td>-93.0944</td>\n",
       "      <td>(45.16591, -93.0944)</td>\n",
       "      <td>True</td>\n",
       "      <td>George Watch Lake</td>\n",
       "      <td>02000500-01</td>\n",
       "      <td>1239.856136</td>\n",
       "    </tr>\n",
       "  </tbody>\n",
       "</table>\n",
       "<p>5 rows × 44 columns</p>\n",
       "</div>"
      ],
      "text/plain": [
       "   ACRES_DEED  ACRES_POLY  AGPRE_ENRD AG_PRESERV BASEMENT        CITY COOLING  \\\n",
       "0        0.00        2.22  1899-12-30          N      NaN  LINO LAKES     NaN   \n",
       "1        4.87        4.65  1899-12-30          N      NaN  LINO LAKES     NaN   \n",
       "2        0.00       15.95  1899-12-30          N        N  LINO LAKES     NaN   \n",
       "3        0.00        3.74  1899-12-30          N      NaN  LINO LAKES     NaN   \n",
       "4       39.98       35.38  1899-12-30          N      NaN  LINO LAKES     NaN   \n",
       "\n",
       "                       DWELL_TYPE   EMV_BLDG   EMV_LAND  ...  XUSE4_DESC  \\\n",
       "0       RESIDENTIAL SINGLE FAMILY    18000.0   102800.0  ...         NaN   \n",
       "1  EXEMPT - COUNTY PUBLIC SERVICE        0.0    42000.0  ...         NaN   \n",
       "2        COMMERCIAL / GOLF COURSE  8645400.0  4130700.0  ...         NaN   \n",
       "3        COMMERCIAL / GOLF COURSE        0.0   160000.0  ...         NaN   \n",
       "4           EXEMPT - COUNTY OTHER        0.0   220900.0  ...         NaN   \n",
       "\n",
       "  YEAR_BUILT  Year centroid_lat centroid_long               lat_long  \\\n",
       "0        0.0  2009     45.18883     -93.09643  (45.18883, -93.09643)   \n",
       "1        0.0  2009      45.1825     -93.10329   (45.1825, -93.10329)   \n",
       "2     2002.0  2009     45.18437     -93.10511  (45.18437, -93.10511)   \n",
       "3        0.0  2009     45.18447     -93.10292  (45.18447, -93.10292)   \n",
       "4        0.0  2009     45.16591      -93.0944   (45.16591, -93.0944)   \n",
       "\n",
       "  rows_to_keep          lake_name    lake_code     distance  \n",
       "0         True  George Watch Lake  02000500-01  1497.303125  \n",
       "1         True  George Watch Lake  02000500-01  1307.638376  \n",
       "2         True  George Watch Lake  02000500-01  1541.113584  \n",
       "3         True  George Watch Lake  02000500-01  1410.709951  \n",
       "4         True  George Watch Lake  02000500-01  1239.856136  \n",
       "\n",
       "[5 rows x 44 columns]"
      ]
     },
     "execution_count": 27,
     "metadata": {},
     "output_type": "execute_result"
    }
   ],
   "source": [
    "all_parcels_df.head()"
   ]
  },
  {
   "cell_type": "code",
   "execution_count": 69,
   "metadata": {},
   "outputs": [
    {
     "data": {
      "text/plain": [
       "array([ 102800.,   42000., 4130700., ..., 2154000.,  751800., 1583900.])"
      ]
     },
     "execution_count": 69,
     "metadata": {},
     "output_type": "execute_result"
    }
   ],
   "source": [
    "all_parcels_df.EMV_LAND.unique()"
   ]
  },
  {
   "cell_type": "code",
   "execution_count": 40,
   "metadata": {},
   "outputs": [],
   "source": [
    "from dfply import if_else"
   ]
  },
  {
   "cell_type": "code",
   "execution_count": 28,
   "metadata": {},
   "outputs": [],
   "source": [
    "all_parcels_df.to_csv(\"./MinneMUDAC_raw_files/all_parcels.csv\")"
   ]
  },
  {
   "cell_type": "code",
   "execution_count": 83,
   "metadata": {},
   "outputs": [],
   "source": [
    "lake_year_parcel_info = (all_parcels_df\n",
    " >> select(X.ACRES_POLY, X.TOTAL_TAX, X.EMV_LAND, X.SALE_VALUE, X.AG_PRESERV,X.SPEC_ASSES, X.FIN_SQ_FT, X.lake_name, X.Year, X.lake_code)\n",
    " >> mutate(SALE_VALUE = if_else(X.SALE_VALUE == 0.0, float('NaN') , X.SALE_VALUE),\n",
    "           SPEC_ASSES = if_else(X.SPEC_ASSES == 0.0, float('NaN') , X.SPEC_ASSES),\n",
    "           FIN_SQ_FT = if_else(X.FIN_SQ_FT == 0.0, float('NaN') , X.FIN_SQ_FT),\n",
    "           EMV_LAND = if_else(X.EMV_LAND == 0.0, float('NaN') , X.EMV_LAND),\n",
    "           ACRES_POLY = if_else(X.ACRES_POLY == 0.0, float('NaN') , X.ACRES_POLY),\n",
    "           TOTAL_TAXf = if_else(X.TOTAL_TAX == 0.0, float('NaN') , X.TOTAL_TAX))\n",
    " >> group_by(X.lake_name, X.Year, X.lake_code)\n",
    " >> summarise(mean_sale_value = mean(X.SALE_VALUE),\n",
    "              overall_ag_preserv = n(X.AG_PRESERV == 'Y'),\n",
    "              mean_fin_sqft = mean(X.FIN_SQ_FT),\n",
    "              mean_land_value = mean(X.EMV_LAND),\n",
    "              mean_acres_poly = mean(X.ACRES_POLY),\n",
    "              mean_total_tax = mean(X.TOTAL_TAX)))\n"
   ]
  },
  {
   "cell_type": "code",
   "execution_count": 84,
   "metadata": {},
   "outputs": [
    {
     "data": {
      "text/html": [
       "<div>\n",
       "<style scoped>\n",
       "    .dataframe tbody tr th:only-of-type {\n",
       "        vertical-align: middle;\n",
       "    }\n",
       "\n",
       "    .dataframe tbody tr th {\n",
       "        vertical-align: top;\n",
       "    }\n",
       "\n",
       "    .dataframe thead th {\n",
       "        text-align: right;\n",
       "    }\n",
       "</style>\n",
       "<table border=\"1\" class=\"dataframe\">\n",
       "  <thead>\n",
       "    <tr style=\"text-align: right;\">\n",
       "      <th></th>\n",
       "      <th>lake_code</th>\n",
       "      <th>Year</th>\n",
       "      <th>lake_name</th>\n",
       "      <th>mean_sale_value</th>\n",
       "      <th>overall_ag_preserv</th>\n",
       "      <th>mean_fin_sqft</th>\n",
       "      <th>mean_land_value</th>\n",
       "      <th>mean_acres_poly</th>\n",
       "      <th>mean_total_tax</th>\n",
       "    </tr>\n",
       "  </thead>\n",
       "  <tbody>\n",
       "    <tr>\n",
       "      <th>0</th>\n",
       "      <td>19002100-01</td>\n",
       "      <td>2004</td>\n",
       "      <td>Alimagnet Lake</td>\n",
       "      <td>171737.949367</td>\n",
       "      <td>2956</td>\n",
       "      <td>2201.410183</td>\n",
       "      <td>63836.812997</td>\n",
       "      <td>0.547422</td>\n",
       "      <td>2138.620095</td>\n",
       "    </tr>\n",
       "    <tr>\n",
       "      <th>1</th>\n",
       "      <td>19002100-01</td>\n",
       "      <td>2005</td>\n",
       "      <td>Alimagnet Lake</td>\n",
       "      <td>177982.662176</td>\n",
       "      <td>2962</td>\n",
       "      <td>2198.453501</td>\n",
       "      <td>69825.440110</td>\n",
       "      <td>0.547447</td>\n",
       "      <td>2264.375084</td>\n",
       "    </tr>\n",
       "    <tr>\n",
       "      <th>2</th>\n",
       "      <td>19002100-01</td>\n",
       "      <td>2006</td>\n",
       "      <td>Alimagnet Lake</td>\n",
       "      <td>183216.669039</td>\n",
       "      <td>2965</td>\n",
       "      <td>2198.877901</td>\n",
       "      <td>76715.742336</td>\n",
       "      <td>0.547888</td>\n",
       "      <td>2716.030691</td>\n",
       "    </tr>\n",
       "    <tr>\n",
       "      <th>3</th>\n",
       "      <td>19002100-01</td>\n",
       "      <td>2007</td>\n",
       "      <td>Alimagnet Lake</td>\n",
       "      <td>186377.522899</td>\n",
       "      <td>2968</td>\n",
       "      <td>2198.052500</td>\n",
       "      <td>80979.070568</td>\n",
       "      <td>0.547964</td>\n",
       "      <td>2683.084569</td>\n",
       "    </tr>\n",
       "    <tr>\n",
       "      <th>4</th>\n",
       "      <td>19002100-01</td>\n",
       "      <td>2008</td>\n",
       "      <td>Alimagnet Lake</td>\n",
       "      <td>188350.780952</td>\n",
       "      <td>2968</td>\n",
       "      <td>2196.843739</td>\n",
       "      <td>80766.127367</td>\n",
       "      <td>0.547964</td>\n",
       "      <td>2692.964286</td>\n",
       "    </tr>\n",
       "  </tbody>\n",
       "</table>\n",
       "</div>"
      ],
      "text/plain": [
       "     lake_code  Year       lake_name  mean_sale_value  overall_ag_preserv  \\\n",
       "0  19002100-01  2004  Alimagnet Lake    171737.949367                2956   \n",
       "1  19002100-01  2005  Alimagnet Lake    177982.662176                2962   \n",
       "2  19002100-01  2006  Alimagnet Lake    183216.669039                2965   \n",
       "3  19002100-01  2007  Alimagnet Lake    186377.522899                2968   \n",
       "4  19002100-01  2008  Alimagnet Lake    188350.780952                2968   \n",
       "\n",
       "   mean_fin_sqft  mean_land_value  mean_acres_poly  mean_total_tax  \n",
       "0    2201.410183     63836.812997         0.547422     2138.620095  \n",
       "1    2198.453501     69825.440110         0.547447     2264.375084  \n",
       "2    2198.877901     76715.742336         0.547888     2716.030691  \n",
       "3    2198.052500     80979.070568         0.547964     2683.084569  \n",
       "4    2196.843739     80766.127367         0.547964     2692.964286  "
      ]
     },
     "execution_count": 84,
     "metadata": {},
     "output_type": "execute_result"
    }
   ],
   "source": [
    "lake_year_parcel_info.head()"
   ]
  },
  {
   "cell_type": "code",
   "execution_count": 85,
   "metadata": {},
   "outputs": [
    {
     "data": {
      "text/plain": [
       "528"
      ]
     },
     "execution_count": 85,
     "metadata": {},
     "output_type": "execute_result"
    }
   ],
   "source": [
    "len(lake_year_parcel_info)"
   ]
  },
  {
   "cell_type": "code",
   "execution_count": 89,
   "metadata": {},
   "outputs": [],
   "source": [
    "lake_info = pd.read_csv(\"./MinneMUDAC_raw_files/lake_year_stats.csv\")"
   ]
  },
  {
   "cell_type": "code",
   "execution_count": 90,
   "metadata": {},
   "outputs": [
    {
     "data": {
      "text/plain": [
       "539"
      ]
     },
     "execution_count": 90,
     "metadata": {},
     "output_type": "execute_result"
    }
   ],
   "source": [
    "len(lake_info)"
   ]
  },
  {
   "cell_type": "code",
   "execution_count": 92,
   "metadata": {},
   "outputs": [],
   "source": [
    "combined_parcel_lake_info = lake_info >> left_join(lake_year_parcel_info, by=['lake_code', 'Year'])"
   ]
  },
  {
   "cell_type": "code",
   "execution_count": 93,
   "metadata": {},
   "outputs": [],
   "source": [
    "combined_parcel_lake_info.to_csv(\"./MinneMUDAC_raw_files/combined_parcel_lake_info.csv\")"
   ]
  },
  {
   "cell_type": "code",
   "execution_count": null,
   "metadata": {},
   "outputs": [],
   "source": []
  },
  {
   "cell_type": "code",
   "execution_count": null,
   "metadata": {},
   "outputs": [],
   "source": []
  }
 ],
 "metadata": {
  "kernelspec": {
   "display_name": "Python 3",
   "language": "python",
   "name": "python3"
  },
  "language_info": {
   "codemirror_mode": {
    "name": "ipython",
    "version": 3
   },
   "file_extension": ".py",
   "mimetype": "text/x-python",
   "name": "python",
   "nbconvert_exporter": "python",
   "pygments_lexer": "ipython3",
   "version": "3.6.5"
  }
 },
 "nbformat": 4,
 "nbformat_minor": 2
}
