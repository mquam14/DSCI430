{
 "cells": [
  {
   "cell_type": "markdown",
   "metadata": {},
   "source": [
    "# Select, Filter, and Mutate\n",
    "\n",
    "In this lecture, we will look at three important actions used to process data frames.  While each framework uses different names for these functions, we will use the names from the `R` library `dplyr`, namely `select`, `mutate`, and `filter`.  The most important takeaway will be that, regardless of framework or scale, we can process data frames in the same way by applying the same sequence of data verbs."
   ]
  },
  {
   "cell_type": "markdown",
   "metadata": {},
   "source": [
    "## R and Python can interact!"
   ]
  },
  {
   "cell_type": "code",
   "execution_count": 6,
   "metadata": {},
   "outputs": [
    {
     "name": "stdout",
     "output_type": "stream",
     "text": [
      "Collecting rpy2\n",
      "  Using cached https://files.pythonhosted.org/packages/02/d1/074ffbbe7b4bf74c60b75d74c8e67a1e4515b0d85f85cd6540e39610754a/rpy2-2.9.5.tar.gz\n",
      "Collecting tzlocal\n",
      "Requirement already satisfied: six in /anaconda3/lib/python3.6/site-packages (from rpy2) (1.11.0)\n",
      "Requirement already satisfied: jinja2 in /anaconda3/lib/python3.6/site-packages (from rpy2) (2.10)\n",
      "Requirement already satisfied: pytz in /anaconda3/lib/python3.6/site-packages (from tzlocal) (2018.4)\n",
      "Requirement already satisfied: MarkupSafe>=0.23 in /anaconda3/lib/python3.6/site-packages (from jinja2->rpy2) (1.0)\n",
      "Building wheels for collected packages: rpy2\n",
      "  Running setup.py bdist_wheel for rpy2 ... \u001b[?25lerror\n",
      "  Complete output from command /anaconda3/bin/python -u -c \"import setuptools, tokenize;__file__='/private/var/folders/26/n34qd6bn3xx9_37q2ynmw2tr8tmckx/T/pip-install-fym0mx9z/rpy2/setup.py';f=getattr(tokenize, 'open', open)(__file__);code=f.read().replace('\\r\\n', '\\n');f.close();exec(compile(code, __file__, 'exec'))\" bdist_wheel -d /private/var/folders/26/n34qd6bn3xx9_37q2ynmw2tr8tmckx/T/pip-wheel-tijuq0ux --python-tag cp36:\n",
      "  R version 3.4.1 (2017-06-30) -- \"Single Candle\"\n",
      "  /Library/Frameworks/R.framework/Resources/bin/R CMD config --ldflags\n",
      "  /Library/Frameworks/R.framework/Resources/bin/R CMD config --cppflags\n",
      "  \n",
      "      Compilation parameters for rpy2's C components:\n",
      "          include_dirs    = ['/Library/Frameworks/R.framework/Resources/include']\n",
      "          library_dirs    = ['/usr/local/lib']\n",
      "          libraries       = ['pcre', 'lzma', 'bz2', 'z', 'icucore', 'm', 'iconv']\n",
      "          extra_link_args = ['-fopenmp', '-F/Library/Frameworks/R.framework/..', '-framework', 'R']\n",
      "  \n",
      "  running bdist_wheel\n",
      "  running build\n",
      "  running build_py\n",
      "  creating build\n",
      "  creating build/lib.macosx-10.7-x86_64-3.6\n",
      "  creating build/lib.macosx-10.7-x86_64-3.6/rpy2\n",
      "  copying ./rpy/situation.py -> build/lib.macosx-10.7-x86_64-3.6/rpy2\n",
      "  copying ./rpy/rpy_classic.py -> build/lib.macosx-10.7-x86_64-3.6/rpy2\n",
      "  copying ./rpy/__init__.py -> build/lib.macosx-10.7-x86_64-3.6/rpy2\n",
      "  copying ./rpy/tests.py -> build/lib.macosx-10.7-x86_64-3.6/rpy2\n",
      "  copying ./rpy/tests_rpy_classic.py -> build/lib.macosx-10.7-x86_64-3.6/rpy2\n",
      "  creating build/lib.macosx-10.7-x86_64-3.6/rpy2/rlike\n",
      "  copying ./rpy/rlike/__init__.py -> build/lib.macosx-10.7-x86_64-3.6/rpy2/rlike\n",
      "  copying ./rpy/rlike/container.py -> build/lib.macosx-10.7-x86_64-3.6/rpy2/rlike\n",
      "  copying ./rpy/rlike/functional.py -> build/lib.macosx-10.7-x86_64-3.6/rpy2/rlike\n",
      "  copying ./rpy/rlike/indexing.py -> build/lib.macosx-10.7-x86_64-3.6/rpy2/rlike\n",
      "  creating build/lib.macosx-10.7-x86_64-3.6/rpy2/rlike/tests\n",
      "  copying ./rpy/rlike/tests/test_container.py -> build/lib.macosx-10.7-x86_64-3.6/rpy2/rlike/tests\n",
      "  copying ./rpy/rlike/tests/test_functional.py -> build/lib.macosx-10.7-x86_64-3.6/rpy2/rlike/tests\n",
      "  copying ./rpy/rlike/tests/__init__.py -> build/lib.macosx-10.7-x86_64-3.6/rpy2/rlike/tests\n",
      "  copying ./rpy/rlike/tests/test_indexing.py -> build/lib.macosx-10.7-x86_64-3.6/rpy2/rlike/tests\n",
      "  creating build/lib.macosx-10.7-x86_64-3.6/rpy2/rinterface\n",
      "  copying ./rpy/rinterface/__init__.py -> build/lib.macosx-10.7-x86_64-3.6/rpy2/rinterface\n",
      "  creating build/lib.macosx-10.7-x86_64-3.6/rpy2/rinterface/tests\n",
      "  copying ./rpy/rinterface/tests/test_SexpVector.py -> build/lib.macosx-10.7-x86_64-3.6/rpy2/rinterface/tests\n",
      "  copying ./rpy/rinterface/tests/test_SexpEnvironment.py -> build/lib.macosx-10.7-x86_64-3.6/rpy2/rinterface/tests\n",
      "  copying ./rpy/rinterface/tests/test_SexpSymbol.py -> build/lib.macosx-10.7-x86_64-3.6/rpy2/rinterface/tests\n",
      "  copying ./rpy/rinterface/tests/__init__.py -> build/lib.macosx-10.7-x86_64-3.6/rpy2/rinterface/tests\n",
      "  copying ./rpy/rinterface/tests/test_SexpVectorNumeric.py -> build/lib.macosx-10.7-x86_64-3.6/rpy2/rinterface/tests\n",
      "  copying ./rpy/rinterface/tests/test_SexpClosure.py -> build/lib.macosx-10.7-x86_64-3.6/rpy2/rinterface/tests\n",
      "  copying ./rpy/rinterface/tests/test_SexpExtPtr.py -> build/lib.macosx-10.7-x86_64-3.6/rpy2/rinterface/tests\n",
      "  copying ./rpy/rinterface/tests/test_Device.py -> build/lib.macosx-10.7-x86_64-3.6/rpy2/rinterface/tests\n",
      "  copying ./rpy/rinterface/tests/test_EmbeddedR.py -> build/lib.macosx-10.7-x86_64-3.6/rpy2/rinterface/tests\n",
      "  copying ./rpy/rinterface/tests/test_Sexp.py -> build/lib.macosx-10.7-x86_64-3.6/rpy2/rinterface/tests\n",
      "  creating build/lib.macosx-10.7-x86_64-3.6/rpy2/robjects\n",
      "  copying ./rpy/robjects/functions.py -> build/lib.macosx-10.7-x86_64-3.6/rpy2/robjects\n",
      "  copying ./rpy/robjects/vectors.py -> build/lib.macosx-10.7-x86_64-3.6/rpy2/robjects\n",
      "  copying ./rpy/robjects/numpy2ri.py -> build/lib.macosx-10.7-x86_64-3.6/rpy2/robjects\n",
      "  copying ./rpy/robjects/methods.py -> build/lib.macosx-10.7-x86_64-3.6/rpy2/robjects\n",
      "  copying ./rpy/robjects/constants.py -> build/lib.macosx-10.7-x86_64-3.6/rpy2/robjects\n",
      "  copying ./rpy/robjects/conversion.py -> build/lib.macosx-10.7-x86_64-3.6/rpy2/robjects\n",
      "  copying ./rpy/robjects/packages_utils.py -> build/lib.macosx-10.7-x86_64-3.6/rpy2/robjects\n",
      "  copying ./rpy/robjects/__init__.py -> build/lib.macosx-10.7-x86_64-3.6/rpy2/robjects\n",
      "  copying ./rpy/robjects/pandas2ri.py -> build/lib.macosx-10.7-x86_64-3.6/rpy2/robjects\n",
      "  copying ./rpy/robjects/packages.py -> build/lib.macosx-10.7-x86_64-3.6/rpy2/robjects\n",
      "  copying ./rpy/robjects/language.py -> build/lib.macosx-10.7-x86_64-3.6/rpy2/robjects\n",
      "  copying ./rpy/robjects/environments.py -> build/lib.macosx-10.7-x86_64-3.6/rpy2/robjects\n",
      "  copying ./rpy/robjects/help.py -> build/lib.macosx-10.7-x86_64-3.6/rpy2/robjects\n",
      "  copying ./rpy/robjects/robject.py -> build/lib.macosx-10.7-x86_64-3.6/rpy2/robjects\n",
      "  creating build/lib.macosx-10.7-x86_64-3.6/rpy2/robjects/tests\n",
      "  copying ./rpy/robjects/tests/testArray.py -> build/lib.macosx-10.7-x86_64-3.6/rpy2/robjects/tests\n",
      "  copying ./rpy/robjects/tests/testEnvironment.py -> build/lib.macosx-10.7-x86_64-3.6/rpy2/robjects/tests\n",
      "  copying ./rpy/robjects/tests/testRobjects.py -> build/lib.macosx-10.7-x86_64-3.6/rpy2/robjects/tests\n",
      "  copying ./rpy/robjects/tests/testDataFrame.py -> build/lib.macosx-10.7-x86_64-3.6/rpy2/robjects/tests\n",
      "  copying ./rpy/robjects/tests/testMethods.py -> build/lib.macosx-10.7-x86_64-3.6/rpy2/robjects/tests\n",
      "  copying ./rpy/robjects/tests/testFormula.py -> build/lib.macosx-10.7-x86_64-3.6/rpy2/robjects/tests\n",
      "  copying ./rpy/robjects/tests/testHelp.py -> build/lib.macosx-10.7-x86_64-3.6/rpy2/robjects/tests\n",
      "  copying ./rpy/robjects/tests/testPackages.py -> build/lib.macosx-10.7-x86_64-3.6/rpy2/robjects/tests\n",
      "  copying ./rpy/robjects/tests/testNumpyConversions.py -> build/lib.macosx-10.7-x86_64-3.6/rpy2/robjects/tests\n",
      "  copying ./rpy/robjects/tests/testPandasConversions.py -> build/lib.macosx-10.7-x86_64-3.6/rpy2/robjects/tests\n",
      "  copying ./rpy/robjects/tests/__init__.py -> build/lib.macosx-10.7-x86_64-3.6/rpy2/robjects/tests\n",
      "  copying ./rpy/robjects/tests/testRObject.py -> build/lib.macosx-10.7-x86_64-3.6/rpy2/robjects/tests\n",
      "  copying ./rpy/robjects/tests/testLanguage.py -> build/lib.macosx-10.7-x86_64-3.6/rpy2/robjects/tests\n",
      "  copying ./rpy/robjects/tests/testVector.py -> build/lib.macosx-10.7-x86_64-3.6/rpy2/robjects/tests\n",
      "  copying ./rpy/robjects/tests/testFunction.py -> build/lib.macosx-10.7-x86_64-3.6/rpy2/robjects/tests\n",
      "  creating build/lib.macosx-10.7-x86_64-3.6/rpy2/robjects/lib\n",
      "  copying ./rpy/robjects/lib/grid.py -> build/lib.macosx-10.7-x86_64-3.6/rpy2/robjects/lib\n",
      "  copying ./rpy/robjects/lib/tidyr.py -> build/lib.macosx-10.7-x86_64-3.6/rpy2/robjects/lib\n",
      "  copying ./rpy/robjects/lib/test_dplyr.py -> build/lib.macosx-10.7-x86_64-3.6/rpy2/robjects/lib\n",
      "  copying ./rpy/robjects/lib/ggplot2.py -> build/lib.macosx-10.7-x86_64-3.6/rpy2/robjects/lib\n",
      "  copying ./rpy/robjects/lib/__init__.py -> build/lib.macosx-10.7-x86_64-3.6/rpy2/robjects/lib\n",
      "  copying ./rpy/robjects/lib/grdevices.py -> build/lib.macosx-10.7-x86_64-3.6/rpy2/robjects/lib\n",
      "  copying ./rpy/robjects/lib/dbplyr.py -> build/lib.macosx-10.7-x86_64-3.6/rpy2/robjects/lib\n",
      "  copying ./rpy/robjects/lib/dplyr.py -> build/lib.macosx-10.7-x86_64-3.6/rpy2/robjects/lib\n",
      "  creating build/lib.macosx-10.7-x86_64-3.6/rpy2/robjects/lib/tests\n",
      "  copying ./rpy/robjects/lib/tests/test_grdevices.py -> build/lib.macosx-10.7-x86_64-3.6/rpy2/robjects/lib/tests\n",
      "  copying ./rpy/robjects/lib/tests/test_ggplot2.py -> build/lib.macosx-10.7-x86_64-3.6/rpy2/robjects/lib/tests\n",
      "  copying ./rpy/robjects/lib/tests/test_dplyr.py -> build/lib.macosx-10.7-x86_64-3.6/rpy2/robjects/lib/tests\n",
      "  copying ./rpy/robjects/lib/tests/__init__.py -> build/lib.macosx-10.7-x86_64-3.6/rpy2/robjects/lib/tests\n",
      "  creating build/lib.macosx-10.7-x86_64-3.6/rpy2/interactive\n",
      "  copying ./rpy/interactive/__init__.py -> build/lib.macosx-10.7-x86_64-3.6/rpy2/interactive\n",
      "  copying ./rpy/interactive/packages.py -> build/lib.macosx-10.7-x86_64-3.6/rpy2/interactive\n",
      "  copying ./rpy/interactive/process_revents.py -> build/lib.macosx-10.7-x86_64-3.6/rpy2/interactive\n",
      "  creating build/lib.macosx-10.7-x86_64-3.6/rpy2/interactive/tests\n",
      "  copying ./rpy/interactive/tests/__init__.py -> build/lib.macosx-10.7-x86_64-3.6/rpy2/interactive/tests\n",
      "  creating build/lib.macosx-10.7-x86_64-3.6/rpy2/ipython\n",
      "  copying ./rpy/ipython/rmagic.py -> build/lib.macosx-10.7-x86_64-3.6/rpy2/ipython\n",
      "  copying ./rpy/ipython/html.py -> build/lib.macosx-10.7-x86_64-3.6/rpy2/ipython\n",
      "  copying ./rpy/ipython/__init__.py -> build/lib.macosx-10.7-x86_64-3.6/rpy2/ipython\n",
      "  copying ./rpy/ipython/ggplot.py -> build/lib.macosx-10.7-x86_64-3.6/rpy2/ipython\n",
      "  creating build/lib.macosx-10.7-x86_64-3.6/rpy2/ipython/tests\n",
      "  copying ./rpy/ipython/tests/__init__.py -> build/lib.macosx-10.7-x86_64-3.6/rpy2/ipython/tests\n",
      "  copying ./rpy/ipython/tests/test_rmagic.py -> build/lib.macosx-10.7-x86_64-3.6/rpy2/ipython/tests\n",
      "  running build_clib\n",
      "  building 'r_utils' library\n",
      "  creating build/temp.macosx-10.7-x86_64-3.6\n",
      "  creating build/temp.macosx-10.7-x86_64-3.6/rpy\n",
      "  creating build/temp.macosx-10.7-x86_64-3.6/rpy/rinterface\n",
      "  gcc -Wno-unused-result -Wsign-compare -Wunreachable-code -DNDEBUG -g -fwrapv -O3 -Wall -Wstrict-prototypes -I/anaconda3/include -arch x86_64 -I/anaconda3/include -arch x86_64 -I./rpy/rinterface -I/Library/Frameworks/R.framework/Resources/include -c ./rpy/rinterface/r_utils.c -o build/temp.macosx-10.7-x86_64-3.6/./rpy/rinterface/r_utils.o\n",
      "  In file included from ./rpy/rinterface/r_utils.c:24:\n",
      "  In file included from /Library/Frameworks/R.framework/Resources/include/Rdefines.h:36:\n",
      "  /Library/Frameworks/R.framework/Resources/include/R_ext/Memory.h:48:17: warning: this function declaration is not a prototype [-Wstrict-prototypes]\n",
      "  int     R_gc_running();\n",
      "                      ^\n",
      "                       void\n",
      "  In file included from ./rpy/rinterface/r_utils.c:24:\n",
      "  In file included from /Library/Frameworks/R.framework/Resources/include/Rdefines.h:40:\n",
      "  In file included from /Library/Frameworks/R.framework/Resources/include/Rinternals.h:51:\n",
      "  /Library/Frameworks/R.framework/Resources/include/R_ext/Rdynload.h:38:26: warning: this function declaration is not a prototype [-Wstrict-prototypes]\n",
      "  typedef void * (*DL_FUNC)();\n",
      "                           ^\n",
      "                            void\n",
      "  In file included from ./rpy/rinterface/r_utils.c:24:\n",
      "  In file included from /Library/Frameworks/R.framework/Resources/include/Rdefines.h:40:\n",
      "  /Library/Frameworks/R.framework/Resources/include/Rinternals.h:919:26: warning: this function declaration is not a prototype [-Wstrict-prototypes]\n",
      "  const char *R_curErrorBuf();\n",
      "                           ^\n",
      "                            void\n",
      "  3 warnings generated.\n",
      "  ar rc build/temp.macosx-10.7-x86_64-3.6/libr_utils.a build/temp.macosx-10.7-x86_64-3.6/./rpy/rinterface/r_utils.o\n",
      "  ranlib build/temp.macosx-10.7-x86_64-3.6/libr_utils.a\n",
      "  running build_ext\n",
      "  R version 3.4.1 (2017-06-30) -- \"Single Candle\"\n",
      "  building 'rpy2.rinterface._rinterface' extension\n",
      "  gcc -Wno-unused-result -Wsign-compare -Wunreachable-code -DNDEBUG -g -fwrapv -O3 -Wall -Wstrict-prototypes -I/anaconda3/include -arch x86_64 -I/anaconda3/include -arch x86_64 -DR_INTERFACE_PTRS=1 -DHAVE_POSIX_SIGJMP=1 -DRIF_HAS_RSIGHAND=1 -DCSTACK_DEFNS=1 -DHAS_READLINE=1 -I./rpy/rinterface -I/Library/Frameworks/R.framework/Resources/include -I/anaconda3/include/python3.6m -c ./rpy/rinterface/_rinterface.c -o build/temp.macosx-10.7-x86_64-3.6/./rpy/rinterface/_rinterface.o\n",
      "  In file included from ./rpy/rinterface/_rinterface.c:52:\n",
      "  In file included from ./rpy/rinterface/_rinterface.h:8:\n",
      "  In file included from /Library/Frameworks/R.framework/Resources/include/R.h:87:\n",
      "  /Library/Frameworks/R.framework/Resources/include/R_ext/Memory.h:48:17: warning: this function declaration is not a prototype [-Wstrict-prototypes]\n",
      "  int     R_gc_running();\n",
      "                      ^\n",
      "                       void\n",
      "  In file included from ./rpy/rinterface/_rinterface.c:52:\n",
      "  In file included from ./rpy/rinterface/_rinterface.h:9:\n",
      "  In file included from /Library/Frameworks/R.framework/Resources/include/Rinternals.h:51:\n",
      "  /Library/Frameworks/R.framework/Resources/include/R_ext/Rdynload.h:38:26: warning: this function declaration is not a prototype [-Wstrict-prototypes]\n",
      "  typedef void * (*DL_FUNC)();\n",
      "                           ^\n",
      "                            void\n",
      "  In file included from ./rpy/rinterface/_rinterface.c:52:\n",
      "  In file included from ./rpy/rinterface/_rinterface.h:9:\n",
      "  /Library/Frameworks/R.framework/Resources/include/Rinternals.h:919:26: warning: this function declaration is not a prototype [-Wstrict-prototypes]\n",
      "  const char *R_curErrorBuf();\n",
      "                           ^\n",
      "                            void\n",
      "  In file included from ./rpy/rinterface/_rinterface.c:64:\n",
      "  /Library/Frameworks/R.framework/Resources/include/Rinterface.h:157:35: warning: this function declaration is not a prototype [-Wstrict-prototypes]\n",
      "  extern void (*ptr_R_ProcessEvents)();\n",
      "                                    ^\n",
      "                                     void\n",
      "  In file included from ./rpy/rinterface/_rinterface.c:80:\n",
      "  In file included from /anaconda3/include/readline/readline.h:36:\n",
      "  /anaconda3/include/readline/rltypedefs.h:35:22: warning: this function declaration is not a prototype [-Wstrict-prototypes]\n",
      "  typedef int Function () __attribute__ ((deprecated));\n",
      "                       ^\n",
      "                        void\n",
      "  /anaconda3/include/readline/rltypedefs.h:36:24: warning: this function declaration is not a prototype [-Wstrict-prototypes]\n",
      "  typedef void VFunction () __attribute__ ((deprecated));\n",
      "                         ^\n",
      "                          void\n",
      "  /anaconda3/include/readline/rltypedefs.h:37:26: warning: this function declaration is not a prototype [-Wstrict-prototypes]\n",
      "  typedef char *CPFunction () __attribute__ ((deprecated));\n",
      "                           ^\n",
      "                            void\n",
      "  /anaconda3/include/readline/rltypedefs.h:38:28: warning: this function declaration is not a prototype [-Wstrict-prototypes]\n",
      "  typedef char **CPPFunction () __attribute__ ((deprecated));\n",
      "                             ^\n",
      "                              void\n",
      "  In file included from ./rpy/rinterface/_rinterface.c:80:\n",
      "  /anaconda3/include/readline/readline.h:390:23: warning: this function declaration is not a prototype [-Wstrict-prototypes]\n",
      "  extern int rl_message ();\n",
      "                        ^\n",
      "                         void\n",
      "  In file included from ./rpy/rinterface/_rinterface.c:94:\n",
      "  ./rpy/rinterface/embeddedr.h:6:27: warning: duplicate 'const' declaration specifier [-Wduplicate-decl-specifier]\n",
      "  extern const unsigned int const RPY_R_INITIALIZED;\n",
      "                            ^\n",
      "  ./rpy/rinterface/embeddedr.h:7:27: warning: duplicate 'const' declaration specifier [-Wduplicate-decl-specifier]\n",
      "  extern const unsigned int const RPY_R_BUSY;\n",
      "                            ^\n",
      "  In file included from ./rpy/rinterface/_rinterface.c:112:\n",
      "  ./rpy/rinterface/embeddedr.c:5:20: warning: duplicate 'const' declaration specifier [-Wduplicate-decl-specifier]\n",
      "  const unsigned int const RPY_R_INITIALIZED = 0x01;\n",
      "                     ^\n",
      "  ./rpy/rinterface/embeddedr.c:6:20: warning: duplicate 'const' declaration specifier [-Wduplicate-decl-specifier]\n",
      "  const unsigned int const RPY_R_BUSY = 0x02;\n",
      "                     ^\n",
      "  ./rpy/rinterface/embeddedr.c:48:12: warning: unused variable 'res' [-Wunused-variable]\n",
      "        SEXP res = rpy2_remove(Rf_mkString(name_buf),\n",
      "             ^\n",
      "  In file included from ./rpy/rinterface/_rinterface.c:115:\n",
      "  ./rpy/rinterface/sexp.c:679:13: warning: unused variable 'copy' [-Wunused-variable]\n",
      "    PyObject *copy = Py_True;\n",
      "              ^\n",
      "  ./rpy/rinterface/_rinterface.c:1719:21: warning: incompatible pointer types assigning to 'const char *' from 'SEXP' (aka 'struct SEXPREC *') [-Wincompatible-pointer-types]\n",
      "        argNameString = Rf_mkCharCE(PyBytes_AsString(pybytes), CE_UTF8);\n",
      "                      ^ ~~~~~~~~~~~~~~~~~~~~~~~~~~~~~~~~~~~~~~~~~~~~~~~\n",
      "  ./rpy/rinterface/_rinterface.c:1720:32: warning: incompatible pointer types passing 'const char *' to parameter of type 'SEXP' (aka 'struct SEXPREC *') [-Wincompatible-pointer-types]\n",
      "        SET_TAG(c_R, installChar(argNameString));\n",
      "                                 ^~~~~~~~~~~~~\n",
      "  /Library/Frameworks/R.framework/Resources/include/Rinternals.h:855:25: note: passing argument to parameter here\n",
      "  SEXP Rf_installChar(SEXP);\n",
      "                          ^\n",
      "  In file included from ./rpy/rinterface/_rinterface.c:52:\n",
      "  ./rpy/rinterface/_rinterface.h:194:44: warning: unused function 'PyRinterface_IsInitialized' [-Wunused-function]\n",
      "    static PyRinterface_IsInitialized_RETURN PyRinterface_IsInitialized PyRinterface_IsInitialized_PROTO;\n",
      "                                             ^\n",
      "  ./rpy/rinterface/_rinterface.h:195:38: warning: unused function 'PyRinterface_FindFun' [-Wunused-function]\n",
      "    static PyRinterface_FindFun_RETURN PyRinterface_FindFun PyRinterface_FindFun_PROTO;\n",
      "                                       ^\n",
      "  In file included from ./rpy/rinterface/_rinterface.c:118:\n",
      "  ./rpy/rinterface/sequence.c:1986:1: warning: unused function 'ComplexVectorSexp_AsSexp' [-Wunused-function]\n",
      "  ComplexVectorSexp_AsSexp(PyObject *pyfloat) {\n",
      "  ^\n",
      "  20 warnings generated.\n",
      "  gcc -bundle -undefined dynamic_lookup -L/anaconda3/lib -arch x86_64 -L/anaconda3/lib -arch x86_64 -arch x86_64 build/temp.macosx-10.7-x86_64-3.6/./rpy/rinterface/_rinterface.o -L/usr/local/lib -Lbuild/temp.macosx-10.7-x86_64-3.6 -L/usr/local/lib -lpcre -llzma -lbz2 -lz -licucore -lm -liconv -lr_utils -o build/lib.macosx-10.7-x86_64-3.6/rpy2/rinterface/_rinterface.cpython-36m-darwin.so -fopenmp -F/Library/Frameworks/R.framework/.. -framework R\n",
      "  clang: error: unsupported option '-fopenmp'\n",
      "  error: command 'gcc' failed with exit status 1\n",
      "  \n",
      "  ----------------------------------------\n",
      "\u001b[31m  Failed building wheel for rpy2\u001b[0m\n",
      "\u001b[?25h  Running setup.py clean for rpy2\n"
     ]
    },
    {
     "name": "stdout",
     "output_type": "stream",
     "text": [
      "Failed to build rpy2\n",
      "Installing collected packages: rpy2, tzlocal\n",
      "  Running setup.py install for rpy2 ... \u001b[?25lerror\n",
      "    Complete output from command /anaconda3/bin/python -u -c \"import setuptools, tokenize;__file__='/private/var/folders/26/n34qd6bn3xx9_37q2ynmw2tr8tmckx/T/pip-install-fym0mx9z/rpy2/setup.py';f=getattr(tokenize, 'open', open)(__file__);code=f.read().replace('\\r\\n', '\\n');f.close();exec(compile(code, __file__, 'exec'))\" install --record /private/var/folders/26/n34qd6bn3xx9_37q2ynmw2tr8tmckx/T/pip-record-jc666ah_/install-record.txt --single-version-externally-managed --compile:\n",
      "    R version 3.4.1 (2017-06-30) -- \"Single Candle\"\n",
      "    /Library/Frameworks/R.framework/Resources/bin/R CMD config --ldflags\n",
      "    /Library/Frameworks/R.framework/Resources/bin/R CMD config --cppflags\n",
      "    \n",
      "        Compilation parameters for rpy2's C components:\n",
      "            include_dirs    = ['/Library/Frameworks/R.framework/Resources/include']\n",
      "            library_dirs    = ['/usr/local/lib']\n",
      "            libraries       = ['pcre', 'lzma', 'bz2', 'z', 'icucore', 'm', 'iconv']\n",
      "            extra_link_args = ['-fopenmp', '-F/Library/Frameworks/R.framework/..', '-framework', 'R']\n",
      "    \n",
      "    running install\n",
      "    running build\n",
      "    running build_py\n",
      "    creating build\n",
      "    creating build/lib.macosx-10.7-x86_64-3.6\n",
      "    creating build/lib.macosx-10.7-x86_64-3.6/rpy2\n",
      "    copying ./rpy/situation.py -> build/lib.macosx-10.7-x86_64-3.6/rpy2\n",
      "    copying ./rpy/rpy_classic.py -> build/lib.macosx-10.7-x86_64-3.6/rpy2\n",
      "    copying ./rpy/__init__.py -> build/lib.macosx-10.7-x86_64-3.6/rpy2\n",
      "    copying ./rpy/tests.py -> build/lib.macosx-10.7-x86_64-3.6/rpy2\n",
      "    copying ./rpy/tests_rpy_classic.py -> build/lib.macosx-10.7-x86_64-3.6/rpy2\n",
      "    creating build/lib.macosx-10.7-x86_64-3.6/rpy2/rlike\n",
      "    copying ./rpy/rlike/__init__.py -> build/lib.macosx-10.7-x86_64-3.6/rpy2/rlike\n",
      "    copying ./rpy/rlike/container.py -> build/lib.macosx-10.7-x86_64-3.6/rpy2/rlike\n",
      "    copying ./rpy/rlike/functional.py -> build/lib.macosx-10.7-x86_64-3.6/rpy2/rlike\n",
      "    copying ./rpy/rlike/indexing.py -> build/lib.macosx-10.7-x86_64-3.6/rpy2/rlike\n",
      "    creating build/lib.macosx-10.7-x86_64-3.6/rpy2/rlike/tests\n",
      "    copying ./rpy/rlike/tests/test_container.py -> build/lib.macosx-10.7-x86_64-3.6/rpy2/rlike/tests\n",
      "    copying ./rpy/rlike/tests/test_functional.py -> build/lib.macosx-10.7-x86_64-3.6/rpy2/rlike/tests\n",
      "    copying ./rpy/rlike/tests/__init__.py -> build/lib.macosx-10.7-x86_64-3.6/rpy2/rlike/tests\n",
      "    copying ./rpy/rlike/tests/test_indexing.py -> build/lib.macosx-10.7-x86_64-3.6/rpy2/rlike/tests\n",
      "    creating build/lib.macosx-10.7-x86_64-3.6/rpy2/rinterface\n",
      "    copying ./rpy/rinterface/__init__.py -> build/lib.macosx-10.7-x86_64-3.6/rpy2/rinterface\n",
      "    creating build/lib.macosx-10.7-x86_64-3.6/rpy2/rinterface/tests\n",
      "    copying ./rpy/rinterface/tests/test_SexpVector.py -> build/lib.macosx-10.7-x86_64-3.6/rpy2/rinterface/tests\n",
      "    copying ./rpy/rinterface/tests/test_SexpEnvironment.py -> build/lib.macosx-10.7-x86_64-3.6/rpy2/rinterface/tests\n",
      "    copying ./rpy/rinterface/tests/test_SexpSymbol.py -> build/lib.macosx-10.7-x86_64-3.6/rpy2/rinterface/tests\n",
      "    copying ./rpy/rinterface/tests/__init__.py -> build/lib.macosx-10.7-x86_64-3.6/rpy2/rinterface/tests\n",
      "    copying ./rpy/rinterface/tests/test_SexpVectorNumeric.py -> build/lib.macosx-10.7-x86_64-3.6/rpy2/rinterface/tests\n",
      "    copying ./rpy/rinterface/tests/test_SexpClosure.py -> build/lib.macosx-10.7-x86_64-3.6/rpy2/rinterface/tests\n",
      "    copying ./rpy/rinterface/tests/test_SexpExtPtr.py -> build/lib.macosx-10.7-x86_64-3.6/rpy2/rinterface/tests\n",
      "    copying ./rpy/rinterface/tests/test_Device.py -> build/lib.macosx-10.7-x86_64-3.6/rpy2/rinterface/tests\n",
      "    copying ./rpy/rinterface/tests/test_EmbeddedR.py -> build/lib.macosx-10.7-x86_64-3.6/rpy2/rinterface/tests\n",
      "    copying ./rpy/rinterface/tests/test_Sexp.py -> build/lib.macosx-10.7-x86_64-3.6/rpy2/rinterface/tests\n",
      "    creating build/lib.macosx-10.7-x86_64-3.6/rpy2/robjects\n",
      "    copying ./rpy/robjects/functions.py -> build/lib.macosx-10.7-x86_64-3.6/rpy2/robjects\n",
      "    copying ./rpy/robjects/vectors.py -> build/lib.macosx-10.7-x86_64-3.6/rpy2/robjects\n",
      "    copying ./rpy/robjects/numpy2ri.py -> build/lib.macosx-10.7-x86_64-3.6/rpy2/robjects\n",
      "    copying ./rpy/robjects/methods.py -> build/lib.macosx-10.7-x86_64-3.6/rpy2/robjects\n",
      "    copying ./rpy/robjects/constants.py -> build/lib.macosx-10.7-x86_64-3.6/rpy2/robjects\n",
      "    copying ./rpy/robjects/conversion.py -> build/lib.macosx-10.7-x86_64-3.6/rpy2/robjects\n",
      "    copying ./rpy/robjects/packages_utils.py -> build/lib.macosx-10.7-x86_64-3.6/rpy2/robjects\n",
      "    copying ./rpy/robjects/__init__.py -> build/lib.macosx-10.7-x86_64-3.6/rpy2/robjects\n",
      "    copying ./rpy/robjects/pandas2ri.py -> build/lib.macosx-10.7-x86_64-3.6/rpy2/robjects\n",
      "    copying ./rpy/robjects/packages.py -> build/lib.macosx-10.7-x86_64-3.6/rpy2/robjects\n",
      "    copying ./rpy/robjects/language.py -> build/lib.macosx-10.7-x86_64-3.6/rpy2/robjects\n",
      "    copying ./rpy/robjects/environments.py -> build/lib.macosx-10.7-x86_64-3.6/rpy2/robjects\n",
      "    copying ./rpy/robjects/help.py -> build/lib.macosx-10.7-x86_64-3.6/rpy2/robjects\n",
      "    copying ./rpy/robjects/robject.py -> build/lib.macosx-10.7-x86_64-3.6/rpy2/robjects\n",
      "    creating build/lib.macosx-10.7-x86_64-3.6/rpy2/robjects/tests\n",
      "    copying ./rpy/robjects/tests/testArray.py -> build/lib.macosx-10.7-x86_64-3.6/rpy2/robjects/tests\n",
      "    copying ./rpy/robjects/tests/testEnvironment.py -> build/lib.macosx-10.7-x86_64-3.6/rpy2/robjects/tests\n",
      "    copying ./rpy/robjects/tests/testRobjects.py -> build/lib.macosx-10.7-x86_64-3.6/rpy2/robjects/tests\n",
      "    copying ./rpy/robjects/tests/testDataFrame.py -> build/lib.macosx-10.7-x86_64-3.6/rpy2/robjects/tests\n",
      "    copying ./rpy/robjects/tests/testMethods.py -> build/lib.macosx-10.7-x86_64-3.6/rpy2/robjects/tests\n",
      "    copying ./rpy/robjects/tests/testFormula.py -> build/lib.macosx-10.7-x86_64-3.6/rpy2/robjects/tests\n",
      "    copying ./rpy/robjects/tests/testHelp.py -> build/lib.macosx-10.7-x86_64-3.6/rpy2/robjects/tests\n",
      "    copying ./rpy/robjects/tests/testPackages.py -> build/lib.macosx-10.7-x86_64-3.6/rpy2/robjects/tests\n",
      "    copying ./rpy/robjects/tests/testNumpyConversions.py -> build/lib.macosx-10.7-x86_64-3.6/rpy2/robjects/tests\n",
      "    copying ./rpy/robjects/tests/testPandasConversions.py -> build/lib.macosx-10.7-x86_64-3.6/rpy2/robjects/tests\n",
      "    copying ./rpy/robjects/tests/__init__.py -> build/lib.macosx-10.7-x86_64-3.6/rpy2/robjects/tests\n",
      "    copying ./rpy/robjects/tests/testRObject.py -> build/lib.macosx-10.7-x86_64-3.6/rpy2/robjects/tests\n",
      "    copying ./rpy/robjects/tests/testLanguage.py -> build/lib.macosx-10.7-x86_64-3.6/rpy2/robjects/tests\n",
      "    copying ./rpy/robjects/tests/testVector.py -> build/lib.macosx-10.7-x86_64-3.6/rpy2/robjects/tests\n",
      "    copying ./rpy/robjects/tests/testFunction.py -> build/lib.macosx-10.7-x86_64-3.6/rpy2/robjects/tests\n",
      "    creating build/lib.macosx-10.7-x86_64-3.6/rpy2/robjects/lib\n",
      "    copying ./rpy/robjects/lib/grid.py -> build/lib.macosx-10.7-x86_64-3.6/rpy2/robjects/lib\n",
      "    copying ./rpy/robjects/lib/tidyr.py -> build/lib.macosx-10.7-x86_64-3.6/rpy2/robjects/lib\n",
      "    copying ./rpy/robjects/lib/test_dplyr.py -> build/lib.macosx-10.7-x86_64-3.6/rpy2/robjects/lib\n",
      "    copying ./rpy/robjects/lib/ggplot2.py -> build/lib.macosx-10.7-x86_64-3.6/rpy2/robjects/lib\n",
      "    copying ./rpy/robjects/lib/__init__.py -> build/lib.macosx-10.7-x86_64-3.6/rpy2/robjects/lib\n",
      "    copying ./rpy/robjects/lib/grdevices.py -> build/lib.macosx-10.7-x86_64-3.6/rpy2/robjects/lib\n",
      "    copying ./rpy/robjects/lib/dbplyr.py -> build/lib.macosx-10.7-x86_64-3.6/rpy2/robjects/lib\n",
      "    copying ./rpy/robjects/lib/dplyr.py -> build/lib.macosx-10.7-x86_64-3.6/rpy2/robjects/lib\n",
      "    creating build/lib.macosx-10.7-x86_64-3.6/rpy2/robjects/lib/tests\n",
      "    copying ./rpy/robjects/lib/tests/test_grdevices.py -> build/lib.macosx-10.7-x86_64-3.6/rpy2/robjects/lib/tests\n",
      "    copying ./rpy/robjects/lib/tests/test_ggplot2.py -> build/lib.macosx-10.7-x86_64-3.6/rpy2/robjects/lib/tests\n",
      "    copying ./rpy/robjects/lib/tests/test_dplyr.py -> build/lib.macosx-10.7-x86_64-3.6/rpy2/robjects/lib/tests\n",
      "    copying ./rpy/robjects/lib/tests/__init__.py -> build/lib.macosx-10.7-x86_64-3.6/rpy2/robjects/lib/tests\n",
      "    creating build/lib.macosx-10.7-x86_64-3.6/rpy2/interactive\n",
      "    copying ./rpy/interactive/__init__.py -> build/lib.macosx-10.7-x86_64-3.6/rpy2/interactive\n",
      "    copying ./rpy/interactive/packages.py -> build/lib.macosx-10.7-x86_64-3.6/rpy2/interactive\n",
      "    copying ./rpy/interactive/process_revents.py -> build/lib.macosx-10.7-x86_64-3.6/rpy2/interactive\n",
      "    creating build/lib.macosx-10.7-x86_64-3.6/rpy2/interactive/tests\n",
      "    copying ./rpy/interactive/tests/__init__.py -> build/lib.macosx-10.7-x86_64-3.6/rpy2/interactive/tests\n",
      "    creating build/lib.macosx-10.7-x86_64-3.6/rpy2/ipython\n",
      "    copying ./rpy/ipython/rmagic.py -> build/lib.macosx-10.7-x86_64-3.6/rpy2/ipython\n",
      "    copying ./rpy/ipython/html.py -> build/lib.macosx-10.7-x86_64-3.6/rpy2/ipython\n",
      "    copying ./rpy/ipython/__init__.py -> build/lib.macosx-10.7-x86_64-3.6/rpy2/ipython\n",
      "    copying ./rpy/ipython/ggplot.py -> build/lib.macosx-10.7-x86_64-3.6/rpy2/ipython\n",
      "    creating build/lib.macosx-10.7-x86_64-3.6/rpy2/ipython/tests\n",
      "    copying ./rpy/ipython/tests/__init__.py -> build/lib.macosx-10.7-x86_64-3.6/rpy2/ipython/tests\n",
      "    copying ./rpy/ipython/tests/test_rmagic.py -> build/lib.macosx-10.7-x86_64-3.6/rpy2/ipython/tests\n",
      "    running build_clib\n",
      "    building 'r_utils' library\n",
      "    creating build/temp.macosx-10.7-x86_64-3.6\n",
      "    creating build/temp.macosx-10.7-x86_64-3.6/rpy\n",
      "    creating build/temp.macosx-10.7-x86_64-3.6/rpy/rinterface\n",
      "    gcc -Wno-unused-result -Wsign-compare -Wunreachable-code -DNDEBUG -g -fwrapv -O3 -Wall -Wstrict-prototypes -I/anaconda3/include -arch x86_64 -I/anaconda3/include -arch x86_64 -I./rpy/rinterface -I/Library/Frameworks/R.framework/Resources/include -c ./rpy/rinterface/r_utils.c -o build/temp.macosx-10.7-x86_64-3.6/./rpy/rinterface/r_utils.o\n",
      "    In file included from ./rpy/rinterface/r_utils.c:24:\n",
      "    In file included from /Library/Frameworks/R.framework/Resources/include/Rdefines.h:36:\n",
      "    /Library/Frameworks/R.framework/Resources/include/R_ext/Memory.h:48:17: warning: this function declaration is not a prototype [-Wstrict-prototypes]\n",
      "    int     R_gc_running();\n",
      "                        ^\n",
      "                         void\n",
      "    In file included from ./rpy/rinterface/r_utils.c:24:\n",
      "    In file included from /Library/Frameworks/R.framework/Resources/include/Rdefines.h:40:\n",
      "    In file included from /Library/Frameworks/R.framework/Resources/include/Rinternals.h:51:\n",
      "    /Library/Frameworks/R.framework/Resources/include/R_ext/Rdynload.h:38:26: warning: this function declaration is not a prototype [-Wstrict-prototypes]\n",
      "    typedef void * (*DL_FUNC)();\n",
      "                             ^\n",
      "                              void\n",
      "    In file included from ./rpy/rinterface/r_utils.c:24:\n",
      "    In file included from /Library/Frameworks/R.framework/Resources/include/Rdefines.h:40:\n",
      "    /Library/Frameworks/R.framework/Resources/include/Rinternals.h:919:26: warning: this function declaration is not a prototype [-Wstrict-prototypes]\n",
      "    const char *R_curErrorBuf();\n",
      "                             ^\n",
      "                              void\n",
      "    3 warnings generated.\n",
      "    ar rc build/temp.macosx-10.7-x86_64-3.6/libr_utils.a build/temp.macosx-10.7-x86_64-3.6/./rpy/rinterface/r_utils.o\n",
      "    ranlib build/temp.macosx-10.7-x86_64-3.6/libr_utils.a\n",
      "    running build_ext\n",
      "    R version 3.4.1 (2017-06-30) -- \"Single Candle\"\n",
      "    building 'rpy2.rinterface._rinterface' extension\n",
      "    gcc -Wno-unused-result -Wsign-compare -Wunreachable-code -DNDEBUG -g -fwrapv -O3 -Wall -Wstrict-prototypes -I/anaconda3/include -arch x86_64 -I/anaconda3/include -arch x86_64 -DR_INTERFACE_PTRS=1 -DHAVE_POSIX_SIGJMP=1 -DRIF_HAS_RSIGHAND=1 -DCSTACK_DEFNS=1 -DHAS_READLINE=1 -I./rpy/rinterface -I/Library/Frameworks/R.framework/Resources/include -I/anaconda3/include/python3.6m -c ./rpy/rinterface/_rinterface.c -o build/temp.macosx-10.7-x86_64-3.6/./rpy/rinterface/_rinterface.o\n",
      "    In file included from ./rpy/rinterface/_rinterface.c:52:\n",
      "    In file included from ./rpy/rinterface/_rinterface.h:8:\n",
      "    In file included from /Library/Frameworks/R.framework/Resources/include/R.h:87:\n",
      "    /Library/Frameworks/R.framework/Resources/include/R_ext/Memory.h:48:17: warning: this function declaration is not a prototype [-Wstrict-prototypes]\n",
      "    int     R_gc_running();\n",
      "                        ^\n",
      "                         void\n",
      "    In file included from ./rpy/rinterface/_rinterface.c:52:\n",
      "    In file included from ./rpy/rinterface/_rinterface.h:9:\n",
      "    In file included from /Library/Frameworks/R.framework/Resources/include/Rinternals.h:51:\n",
      "    /Library/Frameworks/R.framework/Resources/include/R_ext/Rdynload.h:38:26: warning: this function declaration is not a prototype [-Wstrict-prototypes]\n",
      "    typedef void * (*DL_FUNC)();\n",
      "                             ^\n",
      "                              void\n",
      "    In file included from ./rpy/rinterface/_rinterface.c:52:\n",
      "    In file included from ./rpy/rinterface/_rinterface.h:9:\n",
      "    /Library/Frameworks/R.framework/Resources/include/Rinternals.h:919:26: warning: this function declaration is not a prototype [-Wstrict-prototypes]\n",
      "    const char *R_curErrorBuf();\n",
      "                             ^\n",
      "                              void\n",
      "    In file included from ./rpy/rinterface/_rinterface.c:64:\n",
      "    /Library/Frameworks/R.framework/Resources/include/Rinterface.h:157:35: warning: this function declaration is not a prototype [-Wstrict-prototypes]\n",
      "    extern void (*ptr_R_ProcessEvents)();\n",
      "                                      ^\n",
      "                                       void\n",
      "    In file included from ./rpy/rinterface/_rinterface.c:80:\n",
      "    In file included from /anaconda3/include/readline/readline.h:36:\n",
      "    /anaconda3/include/readline/rltypedefs.h:35:22: warning: this function declaration is not a prototype [-Wstrict-prototypes]\n",
      "    typedef int Function () __attribute__ ((deprecated));\n",
      "                         ^\n",
      "                          void\n",
      "    /anaconda3/include/readline/rltypedefs.h:36:24: warning: this function declaration is not a prototype [-Wstrict-prototypes]\n",
      "    typedef void VFunction () __attribute__ ((deprecated));\n",
      "                           ^\n",
      "                            void\n",
      "    /anaconda3/include/readline/rltypedefs.h:37:26: warning: this function declaration is not a prototype [-Wstrict-prototypes]\n",
      "    typedef char *CPFunction () __attribute__ ((deprecated));\n",
      "                             ^\n",
      "                              void\n",
      "    /anaconda3/include/readline/rltypedefs.h:38:28: warning: this function declaration is not a prototype [-Wstrict-prototypes]\n",
      "    typedef char **CPPFunction () __attribute__ ((deprecated));\n",
      "                               ^\n",
      "                                void\n",
      "    In file included from ./rpy/rinterface/_rinterface.c:80:\n",
      "    /anaconda3/include/readline/readline.h:390:23: warning: this function declaration is not a prototype [-Wstrict-prototypes]\n",
      "    extern int rl_message ();\n",
      "                          ^\n",
      "                           void\n",
      "    In file included from ./rpy/rinterface/_rinterface.c:94:\n",
      "    ./rpy/rinterface/embeddedr.h:6:27: warning: duplicate 'const' declaration specifier [-Wduplicate-decl-specifier]\n",
      "    extern const unsigned int const RPY_R_INITIALIZED;\n",
      "                              ^\n",
      "    ./rpy/rinterface/embeddedr.h:7:27: warning: duplicate 'const' declaration specifier [-Wduplicate-decl-specifier]\n",
      "    extern const unsigned int const RPY_R_BUSY;\n",
      "                              ^\n",
      "    In file included from ./rpy/rinterface/_rinterface.c:112:\n",
      "    ./rpy/rinterface/embeddedr.c:5:20: warning: duplicate 'const' declaration specifier [-Wduplicate-decl-specifier]\n",
      "    const unsigned int const RPY_R_INITIALIZED = 0x01;\n",
      "                       ^\n",
      "    ./rpy/rinterface/embeddedr.c:6:20: warning: duplicate 'const' declaration specifier [-Wduplicate-decl-specifier]\n",
      "    const unsigned int const RPY_R_BUSY = 0x02;\n",
      "                       ^\n",
      "    ./rpy/rinterface/embeddedr.c:48:12: warning: unused variable 'res' [-Wunused-variable]\n",
      "          SEXP res = rpy2_remove(Rf_mkString(name_buf),\n",
      "               ^\n",
      "    In file included from ./rpy/rinterface/_rinterface.c:115:\n",
      "    ./rpy/rinterface/sexp.c:679:13: warning: unused variable 'copy' [-Wunused-variable]\n",
      "      PyObject *copy = Py_True;\n",
      "                ^\n",
      "    ./rpy/rinterface/_rinterface.c:1719:21: warning: incompatible pointer types assigning to 'const char *' from 'SEXP' (aka 'struct SEXPREC *') [-Wincompatible-pointer-types]\n",
      "          argNameString = Rf_mkCharCE(PyBytes_AsString(pybytes), CE_UTF8);\n",
      "                        ^ ~~~~~~~~~~~~~~~~~~~~~~~~~~~~~~~~~~~~~~~~~~~~~~~\n",
      "    ./rpy/rinterface/_rinterface.c:1720:32: warning: incompatible pointer types passing 'const char *' to parameter of type 'SEXP' (aka 'struct SEXPREC *') [-Wincompatible-pointer-types]\n",
      "          SET_TAG(c_R, installChar(argNameString));\n",
      "                                   ^~~~~~~~~~~~~\n",
      "    /Library/Frameworks/R.framework/Resources/include/Rinternals.h:855:25: note: passing argument to parameter here\n",
      "    SEXP Rf_installChar(SEXP);\n",
      "                            ^\n",
      "    In file included from ./rpy/rinterface/_rinterface.c:52:\n",
      "    ./rpy/rinterface/_rinterface.h:194:44: warning: unused function 'PyRinterface_IsInitialized' [-Wunused-function]\n",
      "      static PyRinterface_IsInitialized_RETURN PyRinterface_IsInitialized PyRinterface_IsInitialized_PROTO;\n",
      "                                               ^\n",
      "    ./rpy/rinterface/_rinterface.h:195:38: warning: unused function 'PyRinterface_FindFun' [-Wunused-function]\n",
      "      static PyRinterface_FindFun_RETURN PyRinterface_FindFun PyRinterface_FindFun_PROTO;\n",
      "                                         ^\n",
      "    In file included from ./rpy/rinterface/_rinterface.c:118:\n",
      "    ./rpy/rinterface/sequence.c:1986:1: warning: unused function 'ComplexVectorSexp_AsSexp' [-Wunused-function]\n",
      "    ComplexVectorSexp_AsSexp(PyObject *pyfloat) {\n",
      "    ^\n",
      "    20 warnings generated.\n",
      "    gcc -bundle -undefined dynamic_lookup -L/anaconda3/lib -arch x86_64 -L/anaconda3/lib -arch x86_64 -arch x86_64 build/temp.macosx-10.7-x86_64-3.6/./rpy/rinterface/_rinterface.o -L/usr/local/lib -Lbuild/temp.macosx-10.7-x86_64-3.6 -L/usr/local/lib -lpcre -llzma -lbz2 -lz -licucore -lm -liconv -lr_utils -o build/lib.macosx-10.7-x86_64-3.6/rpy2/rinterface/_rinterface.cpython-36m-darwin.so -fopenmp -F/Library/Frameworks/R.framework/.. -framework R\n",
      "    clang: error: unsupported option '-fopenmp'\n",
      "    error: command 'gcc' failed with exit status 1\n",
      "    \n",
      "    ----------------------------------------\n"
     ]
    },
    {
     "name": "stdout",
     "output_type": "stream",
     "text": [
      "\u001b[31mCommand \"/anaconda3/bin/python -u -c \"import setuptools, tokenize;__file__='/private/var/folders/26/n34qd6bn3xx9_37q2ynmw2tr8tmckx/T/pip-install-fym0mx9z/rpy2/setup.py';f=getattr(tokenize, 'open', open)(__file__);code=f.read().replace('\\r\\n', '\\n');f.close();exec(compile(code, __file__, 'exec'))\" install --record /private/var/folders/26/n34qd6bn3xx9_37q2ynmw2tr8tmckx/T/pip-record-jc666ah_/install-record.txt --single-version-externally-managed --compile\" failed with error code 1 in /private/var/folders/26/n34qd6bn3xx9_37q2ynmw2tr8tmckx/T/pip-install-fym0mx9z/rpy2/\u001b[0m\n",
      "\u001b[33mYou are using pip version 18.0, however version 19.0.1 is available.\n",
      "You should consider upgrading via the 'pip install --upgrade pip' command.\u001b[0m\n",
      "\u001b[?25h"
     ]
    },
    {
     "ename": "ModuleNotFoundError",
     "evalue": "No module named 'rpy2'",
     "output_type": "error",
     "traceback": [
      "\u001b[0;31m---------------------------------------------------------------------------\u001b[0m",
      "\u001b[0;31mModuleNotFoundError\u001b[0m                       Traceback (most recent call last)",
      "\u001b[0;32m<ipython-input-6-1e0c17abcc89>\u001b[0m in \u001b[0;36m<module>\u001b[0;34m()\u001b[0m\n\u001b[1;32m      1\u001b[0m \u001b[0mget_ipython\u001b[0m\u001b[0;34m(\u001b[0m\u001b[0;34m)\u001b[0m\u001b[0;34m.\u001b[0m\u001b[0msystem\u001b[0m\u001b[0;34m(\u001b[0m\u001b[0;34m'pip install rpy2 tzlocal'\u001b[0m\u001b[0;34m)\u001b[0m\u001b[0;34m\u001b[0m\u001b[0m\n\u001b[0;32m----> 2\u001b[0;31m \u001b[0;32mimport\u001b[0m \u001b[0mrpy2\u001b[0m\u001b[0;34m\u001b[0m\u001b[0m\n\u001b[0m\u001b[1;32m      3\u001b[0m \u001b[0mget_ipython\u001b[0m\u001b[0;34m(\u001b[0m\u001b[0;34m)\u001b[0m\u001b[0;34m.\u001b[0m\u001b[0mrun_line_magic\u001b[0m\u001b[0;34m(\u001b[0m\u001b[0;34m'load_ext'\u001b[0m\u001b[0;34m,\u001b[0m \u001b[0;34m'rpy2.ipython'\u001b[0m\u001b[0;34m)\u001b[0m\u001b[0;34m\u001b[0m\u001b[0m\n",
      "\u001b[0;31mModuleNotFoundError\u001b[0m: No module named 'rpy2'"
     ]
    }
   ],
   "source": [
    "#!pip install rpy2 tzlocal\n",
    "import rpy2\n",
    "%load_ext rpy2.ipython"
   ]
  },
  {
   "cell_type": "code",
   "execution_count": 3,
   "metadata": {},
   "outputs": [],
   "source": [
    "import warnings\n",
    "warnings.filterwarnings('ignore')"
   ]
  },
  {
   "cell_type": "code",
   "execution_count": 5,
   "metadata": {},
   "outputs": [
    {
     "name": "stderr",
     "output_type": "stream",
     "text": [
      "UsageError: Cell magic `%%R` not found.\n"
     ]
    }
   ],
   "source": [
    "%%R\n",
    "rnorm(5, 2, 3)"
   ]
  },
  {
   "cell_type": "markdown",
   "metadata": {},
   "source": [
    "## We love dplyr!"
   ]
  },
  {
   "cell_type": "code",
   "execution_count": 4,
   "metadata": {
    "scrolled": true
   },
   "outputs": [
    {
     "data": {
      "text/plain": [
       "  BeginDate     DisplayName Nationality\n",
       "1      1930  Robert Arneson    American\n",
       "2      1936  Doroteo Arnaiz     Spanish\n",
       "3      1941     Bill Arnold    American\n",
       "4      1946 Charles Arnoldi    American\n",
       "5      1941     Per Arnoldi      Danish\n",
       "6      1925   Danilo Aroldi     Italian\n"
      ]
     },
     "metadata": {},
     "output_type": "display_data"
    }
   ],
   "source": [
    "%%R \n",
    "library(dplyr)\n",
    "artists <- read.csv('./data/Artists.csv')\n",
    "\n",
    "(artists %>%\n",
    "  select(BeginDate, DisplayName, Nationality) %>%\n",
    "  filter(BeginDate > 0) %>%\n",
    "  head) -> output\n",
    "output"
   ]
  },
  {
   "cell_type": "markdown",
   "metadata": {},
   "source": [
    "## What makes `dplyr` so great?\n",
    "\n",
    "* Focus on data verbs\n",
    "* Pipes lead to code that is\n",
    "    * More readable\n",
    "    * Easy to compose and debug"
   ]
  },
  {
   "cell_type": "markdown",
   "metadata": {},
   "source": [
    "## Set up\n",
    "\n",
    "Let's read in a data set in each of the three frameworks"
   ]
  },
  {
   "cell_type": "markdown",
   "metadata": {},
   "source": [
    "#### `pandas` and `dfply`"
   ]
  },
  {
   "cell_type": "code",
   "execution_count": 10,
   "metadata": {},
   "outputs": [],
   "source": [
    "import pandas as pd\n",
    "from dfply import *\n",
    "heroes = pd.read_csv('./data/heroes_information.csv')"
   ]
  },
  {
   "cell_type": "markdown",
   "metadata": {},
   "source": [
    "#### `sqlalchemy` "
   ]
  },
  {
   "cell_type": "code",
   "execution_count": 15,
   "metadata": {},
   "outputs": [],
   "source": [
    "from sqlalchemy.orm import sessionmaker\n",
    "from sqlalchemy import create_engine, func\n",
    "from sqlalchemy.ext.automap import automap_base\n",
    "\n",
    "engine = create_engine(\"sqlite:///databases/heroes.db\")\n",
    "\n",
    "Base = automap_base()\n",
    "Base.prepare(engine, reflect=True)\n",
    "#Hero = Base.classes.heroes\n",
    "Heroes = Base.metadata.tables[\"heroes\"]\n",
    "# heroes.c\n",
    "Session = sessionmaker(bind=engine)\n",
    "session = Session()"
   ]
  },
  {
   "cell_type": "code",
   "execution_count": 21,
   "metadata": {},
   "outputs": [
    {
     "data": {
      "text/plain": [
       "immutabledict({})"
      ]
     },
     "execution_count": 21,
     "metadata": {},
     "output_type": "execute_result"
    }
   ],
   "source": [
    "Base.metadata.tables\n"
   ]
  },
  {
   "cell_type": "markdown",
   "metadata": {},
   "source": [
    "#### `pyspark`"
   ]
  },
  {
   "cell_type": "code",
   "execution_count": 14,
   "metadata": {},
   "outputs": [],
   "source": [
    "from pyspark.sql import SparkSession\n",
    "from pyspark.sql.functions import col, mean\n",
    "\n",
    "spark1 = SparkSession.builder.appName('Ops').getOrCreate()\n",
    "df_spark = spark1.read.csv('data/heroes_information.csv', inferSchema=True, header=True)"
   ]
  },
  {
   "cell_type": "markdown",
   "metadata": {},
   "source": [
    "## Selecting Columns\n",
    "\n",
    "The first verb, `select` \n",
    "\n",
    "* filters the *columns*\n",
    "* At the core of `SQL` statements"
   ]
  },
  {
   "cell_type": "markdown",
   "metadata": {},
   "source": [
    "## How to select\n",
    "\n",
    "* `pandas`: pipe (`>>`) into `select`\n",
    "* `sqlalchemy`: Use `session.query`\n",
    "* `pyspark`: Use the `select` method"
   ]
  },
  {
   "cell_type": "markdown",
   "metadata": {},
   "source": [
    "#### `select` in `pandas` + `dfply`"
   ]
  },
  {
   "cell_type": "code",
   "execution_count": 16,
   "metadata": {},
   "outputs": [
    {
     "data": {
      "text/html": [
       "<div>\n",
       "<style scoped>\n",
       "    .dataframe tbody tr th:only-of-type {\n",
       "        vertical-align: middle;\n",
       "    }\n",
       "\n",
       "    .dataframe tbody tr th {\n",
       "        vertical-align: top;\n",
       "    }\n",
       "\n",
       "    .dataframe thead th {\n",
       "        text-align: right;\n",
       "    }\n",
       "</style>\n",
       "<table border=\"1\" class=\"dataframe\">\n",
       "  <thead>\n",
       "    <tr style=\"text-align: right;\">\n",
       "      <th></th>\n",
       "      <th>name</th>\n",
       "      <th>Gender</th>\n",
       "      <th>Weight</th>\n",
       "    </tr>\n",
       "  </thead>\n",
       "  <tbody>\n",
       "    <tr>\n",
       "      <th>0</th>\n",
       "      <td>A-Bomb</td>\n",
       "      <td>Male</td>\n",
       "      <td>441.0</td>\n",
       "    </tr>\n",
       "    <tr>\n",
       "      <th>1</th>\n",
       "      <td>Abe Sapien</td>\n",
       "      <td>Male</td>\n",
       "      <td>65.0</td>\n",
       "    </tr>\n",
       "    <tr>\n",
       "      <th>2</th>\n",
       "      <td>Abin Sur</td>\n",
       "      <td>Male</td>\n",
       "      <td>90.0</td>\n",
       "    </tr>\n",
       "    <tr>\n",
       "      <th>3</th>\n",
       "      <td>Abomination</td>\n",
       "      <td>Male</td>\n",
       "      <td>441.0</td>\n",
       "    </tr>\n",
       "    <tr>\n",
       "      <th>4</th>\n",
       "      <td>Abraxas</td>\n",
       "      <td>Male</td>\n",
       "      <td>-99.0</td>\n",
       "    </tr>\n",
       "  </tbody>\n",
       "</table>\n",
       "</div>"
      ],
      "text/plain": [
       "          name Gender  Weight\n",
       "0       A-Bomb   Male   441.0\n",
       "1   Abe Sapien   Male    65.0\n",
       "2     Abin Sur   Male    90.0\n",
       "3  Abomination   Male   441.0\n",
       "4      Abraxas   Male   -99.0"
      ]
     },
     "execution_count": 16,
     "metadata": {},
     "output_type": "execute_result"
    }
   ],
   "source": [
    "from dfply import select as select_dfply\n",
    "(heroes >>\n",
    "   select_dfply(X.name, X.Gender, X.Weight) >>\n",
    "   head)"
   ]
  },
  {
   "cell_type": "markdown",
   "metadata": {},
   "source": [
    "#### `select` expression in `sqlalchemy`"
   ]
  },
  {
   "cell_type": "code",
   "execution_count": 19,
   "metadata": {},
   "outputs": [
    {
     "ename": "NameError",
     "evalue": "name 'Hero' is not defined",
     "output_type": "error",
     "traceback": [
      "\u001b[0;31m---------------------------------------------------------------------------\u001b[0m",
      "\u001b[0;31mNameError\u001b[0m                                 Traceback (most recent call last)",
      "\u001b[0;32m<ipython-input-19-bc8478efd372>\u001b[0m in \u001b[0;36m<module>\u001b[0;34m()\u001b[0m\n\u001b[1;32m      1\u001b[0m \u001b[0;32mfrom\u001b[0m \u001b[0msqlalchemy\u001b[0m \u001b[0;32mimport\u001b[0m \u001b[0mselect\u001b[0m \u001b[0;32mas\u001b[0m \u001b[0mselect_sql\u001b[0m\u001b[0;34m\u001b[0m\u001b[0m\n\u001b[0;32m----> 2\u001b[0;31m stmt = (select_sql([Hero.name, Hero.gender, Hero.weight]).\n\u001b[0m\u001b[1;32m      3\u001b[0m           \u001b[0mselect_from\u001b[0m\u001b[0;34m(\u001b[0m\u001b[0mHero\u001b[0m\u001b[0;34m)\u001b[0m\u001b[0;34m.\u001b[0m\u001b[0;34m\u001b[0m\u001b[0m\n\u001b[1;32m      4\u001b[0m           limit(5))\n\u001b[1;32m      5\u001b[0m \u001b[0mprint\u001b[0m\u001b[0;34m(\u001b[0m\u001b[0mstmt\u001b[0m\u001b[0;34m)\u001b[0m\u001b[0;34m\u001b[0m\u001b[0m\n",
      "\u001b[0;31mNameError\u001b[0m: name 'Hero' is not defined"
     ]
    }
   ],
   "source": [
    "from sqlalchemy import select as select_sql\n",
    "stmt = (select_sql([Hero.name, Hero.gender, Hero.weight]).\n",
    "          select_from(Hero).\n",
    "          limit(5))\n",
    "print(stmt)"
   ]
  },
  {
   "cell_type": "code",
   "execution_count": 36,
   "metadata": {
    "scrolled": true
   },
   "outputs": [
    {
     "data": {
      "text/plain": [
       "[('A-Bomb', 'Male', 441.0),\n",
       " ('Abe Sapien', 'Male', 65.0),\n",
       " ('Abin Sur', 'Male', 90.0),\n",
       " ('Abomination', 'Male', 441.0),\n",
       " ('Abraxas', 'Male', None)]"
      ]
     },
     "execution_count": 36,
     "metadata": {},
     "output_type": "execute_result"
    }
   ],
   "source": [
    "session.execute(stmt).fetchall()"
   ]
  },
  {
   "cell_type": "markdown",
   "metadata": {},
   "source": [
    "#### Convert the result to a `pandas.DataFrame`"
   ]
  },
  {
   "cell_type": "code",
   "execution_count": 37,
   "metadata": {},
   "outputs": [
    {
     "data": {
      "text/html": [
       "<div>\n",
       "<style scoped>\n",
       "    .dataframe tbody tr th:only-of-type {\n",
       "        vertical-align: middle;\n",
       "    }\n",
       "\n",
       "    .dataframe tbody tr th {\n",
       "        vertical-align: top;\n",
       "    }\n",
       "\n",
       "    .dataframe thead th {\n",
       "        text-align: right;\n",
       "    }\n",
       "</style>\n",
       "<table border=\"1\" class=\"dataframe\">\n",
       "  <thead>\n",
       "    <tr style=\"text-align: right;\">\n",
       "      <th></th>\n",
       "      <th>name</th>\n",
       "      <th>gender</th>\n",
       "      <th>weight</th>\n",
       "    </tr>\n",
       "  </thead>\n",
       "  <tbody>\n",
       "    <tr>\n",
       "      <th>0</th>\n",
       "      <td>A-Bomb</td>\n",
       "      <td>Male</td>\n",
       "      <td>441.0</td>\n",
       "    </tr>\n",
       "    <tr>\n",
       "      <th>1</th>\n",
       "      <td>Abe Sapien</td>\n",
       "      <td>Male</td>\n",
       "      <td>65.0</td>\n",
       "    </tr>\n",
       "    <tr>\n",
       "      <th>2</th>\n",
       "      <td>Abin Sur</td>\n",
       "      <td>Male</td>\n",
       "      <td>90.0</td>\n",
       "    </tr>\n",
       "    <tr>\n",
       "      <th>3</th>\n",
       "      <td>Abomination</td>\n",
       "      <td>Male</td>\n",
       "      <td>441.0</td>\n",
       "    </tr>\n",
       "    <tr>\n",
       "      <th>4</th>\n",
       "      <td>Abraxas</td>\n",
       "      <td>Male</td>\n",
       "      <td>NaN</td>\n",
       "    </tr>\n",
       "  </tbody>\n",
       "</table>\n",
       "</div>"
      ],
      "text/plain": [
       "          name gender  weight\n",
       "0       A-Bomb   Male   441.0\n",
       "1   Abe Sapien   Male    65.0\n",
       "2     Abin Sur   Male    90.0\n",
       "3  Abomination   Male   441.0\n",
       "4      Abraxas   Male     NaN"
      ]
     },
     "execution_count": 37,
     "metadata": {},
     "output_type": "execute_result"
    }
   ],
   "source": [
    "pd.read_sql_query(stmt, con=engine)"
   ]
  },
  {
   "cell_type": "markdown",
   "metadata": {},
   "source": [
    "#### `select` in `pyspark`"
   ]
  },
  {
   "cell_type": "code",
   "execution_count": 49,
   "metadata": {
    "scrolled": true
   },
   "outputs": [
    {
     "data": {
      "text/plain": [
       "[Row(name='A-Bomb', Gender='Male', Weight=441.0),\n",
       " Row(name='Abe Sapien', Gender='Male', Weight=65.0),\n",
       " Row(name='Abin Sur', Gender='Male', Weight=90.0),\n",
       " Row(name='Abomination', Gender='Male', Weight=441.0),\n",
       " Row(name='Abraxas', Gender='Male', Weight=-99.0)]"
      ]
     },
     "execution_count": 49,
     "metadata": {},
     "output_type": "execute_result"
    }
   ],
   "source": [
    "(df_spark.\n",
    "    select(df_spark.name, \n",
    "           df_spark.Gender, \n",
    "           df_spark.Weight).\n",
    "    take(5))"
   ]
  },
  {
   "cell_type": "markdown",
   "metadata": {},
   "source": [
    "#### Convert the result to a `pandas.DataFrame`"
   ]
  },
  {
   "cell_type": "code",
   "execution_count": 48,
   "metadata": {
    "scrolled": true
   },
   "outputs": [
    {
     "data": {
      "text/html": [
       "<div>\n",
       "<style scoped>\n",
       "    .dataframe tbody tr th:only-of-type {\n",
       "        vertical-align: middle;\n",
       "    }\n",
       "\n",
       "    .dataframe tbody tr th {\n",
       "        vertical-align: top;\n",
       "    }\n",
       "\n",
       "    .dataframe thead th {\n",
       "        text-align: right;\n",
       "    }\n",
       "</style>\n",
       "<table border=\"1\" class=\"dataframe\">\n",
       "  <thead>\n",
       "    <tr style=\"text-align: right;\">\n",
       "      <th></th>\n",
       "      <th>name</th>\n",
       "      <th>Gender</th>\n",
       "      <th>Weight</th>\n",
       "    </tr>\n",
       "  </thead>\n",
       "  <tbody>\n",
       "    <tr>\n",
       "      <th>0</th>\n",
       "      <td>A-Bomb</td>\n",
       "      <td>Male</td>\n",
       "      <td>441.0</td>\n",
       "    </tr>\n",
       "    <tr>\n",
       "      <th>1</th>\n",
       "      <td>Abe Sapien</td>\n",
       "      <td>Male</td>\n",
       "      <td>65.0</td>\n",
       "    </tr>\n",
       "    <tr>\n",
       "      <th>2</th>\n",
       "      <td>Abin Sur</td>\n",
       "      <td>Male</td>\n",
       "      <td>90.0</td>\n",
       "    </tr>\n",
       "    <tr>\n",
       "      <th>3</th>\n",
       "      <td>Abomination</td>\n",
       "      <td>Male</td>\n",
       "      <td>441.0</td>\n",
       "    </tr>\n",
       "    <tr>\n",
       "      <th>4</th>\n",
       "      <td>Abraxas</td>\n",
       "      <td>Male</td>\n",
       "      <td>-99.0</td>\n",
       "    </tr>\n",
       "  </tbody>\n",
       "</table>\n",
       "</div>"
      ],
      "text/plain": [
       "          name Gender  Weight\n",
       "0       A-Bomb   Male   441.0\n",
       "1   Abe Sapien   Male    65.0\n",
       "2     Abin Sur   Male    90.0\n",
       "3  Abomination   Male   441.0\n",
       "4      Abraxas   Male   -99.0"
      ]
     },
     "execution_count": 48,
     "metadata": {},
     "output_type": "execute_result"
    }
   ],
   "source": [
    "result = (df_spark.\n",
    "            select(df_spark.name, \n",
    "                   df_spark.Gender, \n",
    "                   df_spark.Weight).\n",
    "            take(5))\n",
    "spark1.createDataFrame(result).toPandas()"
   ]
  },
  {
   "cell_type": "markdown",
   "metadata": {},
   "source": [
    "## Filtering Rows\n",
    "\n",
    "The next verb, `filter` \n",
    "\n",
    "* filters the *rows*\n",
    "* is related to the `SQL` `WHERE` clause"
   ]
  },
  {
   "cell_type": "markdown",
   "metadata": {},
   "source": [
    "## How to filter\n",
    "\n",
    "* `pandas`: pipe (`>>`) into `filter_by`\n",
    "* `sqlalchemy`: Use `session.query.filter` or `session.query.filter_by`\n",
    "* `pyspark`: Use the `where` method"
   ]
  },
  {
   "cell_type": "markdown",
   "metadata": {},
   "source": [
    "#### `filter_by` in `pandas` + `dfply`"
   ]
  },
  {
   "cell_type": "code",
   "execution_count": 17,
   "metadata": {},
   "outputs": [
    {
     "data": {
      "text/html": [
       "<div>\n",
       "<style scoped>\n",
       "    .dataframe tbody tr th:only-of-type {\n",
       "        vertical-align: middle;\n",
       "    }\n",
       "\n",
       "    .dataframe tbody tr th {\n",
       "        vertical-align: top;\n",
       "    }\n",
       "\n",
       "    .dataframe thead th {\n",
       "        text-align: right;\n",
       "    }\n",
       "</style>\n",
       "<table border=\"1\" class=\"dataframe\">\n",
       "  <thead>\n",
       "    <tr style=\"text-align: right;\">\n",
       "      <th></th>\n",
       "      <th>Id</th>\n",
       "      <th>name</th>\n",
       "      <th>Gender</th>\n",
       "      <th>Eye color</th>\n",
       "      <th>Race</th>\n",
       "      <th>Hair color</th>\n",
       "      <th>Height</th>\n",
       "      <th>Publisher</th>\n",
       "      <th>Skin color</th>\n",
       "      <th>Alignment</th>\n",
       "      <th>Weight</th>\n",
       "    </tr>\n",
       "  </thead>\n",
       "  <tbody>\n",
       "    <tr>\n",
       "      <th>0</th>\n",
       "      <td>0</td>\n",
       "      <td>A-Bomb</td>\n",
       "      <td>Male</td>\n",
       "      <td>yellow</td>\n",
       "      <td>Human</td>\n",
       "      <td>No Hair</td>\n",
       "      <td>203.0</td>\n",
       "      <td>Marvel Comics</td>\n",
       "      <td>-</td>\n",
       "      <td>good</td>\n",
       "      <td>441.0</td>\n",
       "    </tr>\n",
       "    <tr>\n",
       "      <th>1</th>\n",
       "      <td>1</td>\n",
       "      <td>Abe Sapien</td>\n",
       "      <td>Male</td>\n",
       "      <td>blue</td>\n",
       "      <td>Icthyo Sapien</td>\n",
       "      <td>No Hair</td>\n",
       "      <td>191.0</td>\n",
       "      <td>Dark Horse Comics</td>\n",
       "      <td>blue</td>\n",
       "      <td>good</td>\n",
       "      <td>65.0</td>\n",
       "    </tr>\n",
       "    <tr>\n",
       "      <th>2</th>\n",
       "      <td>2</td>\n",
       "      <td>Abin Sur</td>\n",
       "      <td>Male</td>\n",
       "      <td>blue</td>\n",
       "      <td>Ungaran</td>\n",
       "      <td>No Hair</td>\n",
       "      <td>185.0</td>\n",
       "      <td>DC Comics</td>\n",
       "      <td>red</td>\n",
       "      <td>good</td>\n",
       "      <td>90.0</td>\n",
       "    </tr>\n",
       "    <tr>\n",
       "      <th>3</th>\n",
       "      <td>3</td>\n",
       "      <td>Abomination</td>\n",
       "      <td>Male</td>\n",
       "      <td>green</td>\n",
       "      <td>Human / Radiation</td>\n",
       "      <td>No Hair</td>\n",
       "      <td>203.0</td>\n",
       "      <td>Marvel Comics</td>\n",
       "      <td>-</td>\n",
       "      <td>bad</td>\n",
       "      <td>441.0</td>\n",
       "    </tr>\n",
       "    <tr>\n",
       "      <th>4</th>\n",
       "      <td>4</td>\n",
       "      <td>Abraxas</td>\n",
       "      <td>Male</td>\n",
       "      <td>blue</td>\n",
       "      <td>Cosmic Entity</td>\n",
       "      <td>Black</td>\n",
       "      <td>-99.0</td>\n",
       "      <td>Marvel Comics</td>\n",
       "      <td>-</td>\n",
       "      <td>bad</td>\n",
       "      <td>-99.0</td>\n",
       "    </tr>\n",
       "  </tbody>\n",
       "</table>\n",
       "</div>"
      ],
      "text/plain": [
       "   Id         name Gender Eye color               Race Hair color  Height  \\\n",
       "0   0       A-Bomb   Male    yellow              Human    No Hair   203.0   \n",
       "1   1   Abe Sapien   Male      blue      Icthyo Sapien    No Hair   191.0   \n",
       "2   2     Abin Sur   Male      blue            Ungaran    No Hair   185.0   \n",
       "3   3  Abomination   Male     green  Human / Radiation    No Hair   203.0   \n",
       "4   4      Abraxas   Male      blue      Cosmic Entity      Black   -99.0   \n",
       "\n",
       "           Publisher Skin color Alignment  Weight  \n",
       "0      Marvel Comics          -      good   441.0  \n",
       "1  Dark Horse Comics       blue      good    65.0  \n",
       "2          DC Comics        red      good    90.0  \n",
       "3      Marvel Comics          -       bad   441.0  \n",
       "4      Marvel Comics          -       bad   -99.0  "
      ]
     },
     "execution_count": 17,
     "metadata": {},
     "output_type": "execute_result"
    }
   ],
   "source": [
    "(heroes >>\n",
    "  filter_by(X.Gender == 'Male') >>\n",
    "  head)"
   ]
  },
  {
   "cell_type": "markdown",
   "metadata": {},
   "source": [
    "#### `where` in a `sqlalchemy` `select` expression"
   ]
  },
  {
   "cell_type": "code",
   "execution_count": 18,
   "metadata": {},
   "outputs": [
    {
     "ename": "NameError",
     "evalue": "name 'select_sql' is not defined",
     "output_type": "error",
     "traceback": [
      "\u001b[0;31m---------------------------------------------------------------------------\u001b[0m",
      "\u001b[0;31mNameError\u001b[0m                                 Traceback (most recent call last)",
      "\u001b[0;32m<ipython-input-18-79f28965edc6>\u001b[0m in \u001b[0;36m<module>\u001b[0;34m()\u001b[0m\n\u001b[1;32m      1\u001b[0m \u001b[0;31m# All SQL statements start with a select\u001b[0m\u001b[0;34m\u001b[0m\u001b[0;34m\u001b[0m\u001b[0m\n\u001b[0;32m----> 2\u001b[0;31m f_stmt = (select_sql('*').\n\u001b[0m\u001b[1;32m      3\u001b[0m            \u001b[0mwhere\u001b[0m\u001b[0;34m(\u001b[0m\u001b[0mHero\u001b[0m\u001b[0;34m.\u001b[0m\u001b[0mgender\u001b[0m \u001b[0;34m==\u001b[0m \u001b[0;34m'Male'\u001b[0m\u001b[0;34m)\u001b[0m\u001b[0;34m.\u001b[0m\u001b[0;34m\u001b[0m\u001b[0m\n\u001b[1;32m      4\u001b[0m            limit(5))\n\u001b[1;32m      5\u001b[0m \u001b[0msession\u001b[0m\u001b[0;34m.\u001b[0m\u001b[0mexecute\u001b[0m\u001b[0;34m(\u001b[0m\u001b[0mf_stmt\u001b[0m\u001b[0;34m)\u001b[0m\u001b[0;34m.\u001b[0m\u001b[0mfetchall\u001b[0m\u001b[0;34m(\u001b[0m\u001b[0;34m)\u001b[0m\u001b[0;34m\u001b[0m\u001b[0m\n",
      "\u001b[0;31mNameError\u001b[0m: name 'select_sql' is not defined"
     ]
    }
   ],
   "source": [
    "# All SQL statements start with a select\n",
    "f_stmt = (select_sql('*').\n",
    "           where(Hero.gender == 'Male').\n",
    "           limit(5))\n",
    "session.execute(f_stmt).fetchall()"
   ]
  },
  {
   "cell_type": "markdown",
   "metadata": {},
   "source": [
    "#### Convert the result to a `pandas.DataFrame`"
   ]
  },
  {
   "cell_type": "code",
   "execution_count": 20,
   "metadata": {},
   "outputs": [
    {
     "ename": "NameError",
     "evalue": "name 'f_stmt' is not defined",
     "output_type": "error",
     "traceback": [
      "\u001b[0;31m---------------------------------------------------------------------------\u001b[0m",
      "\u001b[0;31mNameError\u001b[0m                                 Traceback (most recent call last)",
      "\u001b[0;32m<ipython-input-20-66b8d161cf73>\u001b[0m in \u001b[0;36m<module>\u001b[0;34m()\u001b[0m\n\u001b[0;32m----> 1\u001b[0;31m \u001b[0mpd\u001b[0m\u001b[0;34m.\u001b[0m\u001b[0mread_sql_query\u001b[0m\u001b[0;34m(\u001b[0m\u001b[0mf_stmt\u001b[0m\u001b[0;34m,\u001b[0m \u001b[0mcon\u001b[0m \u001b[0;34m=\u001b[0m \u001b[0mengine\u001b[0m\u001b[0;34m)\u001b[0m\u001b[0;34m\u001b[0m\u001b[0m\n\u001b[0m",
      "\u001b[0;31mNameError\u001b[0m: name 'f_stmt' is not defined"
     ]
    }
   ],
   "source": [
    "pd.read_sql_query(f_stmt, con = engine)"
   ]
  },
  {
   "cell_type": "markdown",
   "metadata": {},
   "source": [
    "#### `where` in `pyspark`"
   ]
  },
  {
   "cell_type": "code",
   "execution_count": 61,
   "metadata": {},
   "outputs": [
    {
     "data": {
      "text/plain": [
       "[Row(Id=0, name='A-Bomb', Gender='Male', Eye color='yellow', Race='Human', Hair color='No Hair', Height=203.0, Publisher='Marvel Comics', Skin color='-', Alignment='good', Weight=441.0),\n",
       " Row(Id=1, name='Abe Sapien', Gender='Male', Eye color='blue', Race='Icthyo Sapien', Hair color='No Hair', Height=191.0, Publisher='Dark Horse Comics', Skin color='blue', Alignment='good', Weight=65.0),\n",
       " Row(Id=2, name='Abin Sur', Gender='Male', Eye color='blue', Race='Ungaran', Hair color='No Hair', Height=185.0, Publisher='DC Comics', Skin color='red', Alignment='good', Weight=90.0),\n",
       " Row(Id=3, name='Abomination', Gender='Male', Eye color='green', Race='Human / Radiation', Hair color='No Hair', Height=203.0, Publisher='Marvel Comics', Skin color='-', Alignment='bad', Weight=441.0),\n",
       " Row(Id=4, name='Abraxas', Gender='Male', Eye color='blue', Race='Cosmic Entity', Hair color='Black', Height=-99.0, Publisher='Marvel Comics', Skin color='-', Alignment='bad', Weight=-99.0)]"
      ]
     },
     "execution_count": 61,
     "metadata": {},
     "output_type": "execute_result"
    }
   ],
   "source": [
    "f_result = (df_spark.\n",
    "            where(df_spark.Gender == 'Male').\n",
    "            take(5))\n",
    "f_result"
   ]
  },
  {
   "cell_type": "code",
   "execution_count": 63,
   "metadata": {},
   "outputs": [
    {
     "data": {
      "text/html": [
       "<div>\n",
       "<style scoped>\n",
       "    .dataframe tbody tr th:only-of-type {\n",
       "        vertical-align: middle;\n",
       "    }\n",
       "\n",
       "    .dataframe tbody tr th {\n",
       "        vertical-align: top;\n",
       "    }\n",
       "\n",
       "    .dataframe thead th {\n",
       "        text-align: right;\n",
       "    }\n",
       "</style>\n",
       "<table border=\"1\" class=\"dataframe\">\n",
       "  <thead>\n",
       "    <tr style=\"text-align: right;\">\n",
       "      <th></th>\n",
       "      <th>Id</th>\n",
       "      <th>name</th>\n",
       "      <th>Gender</th>\n",
       "      <th>Eye color</th>\n",
       "      <th>Race</th>\n",
       "      <th>Hair color</th>\n",
       "      <th>Height</th>\n",
       "      <th>Publisher</th>\n",
       "      <th>Skin color</th>\n",
       "      <th>Alignment</th>\n",
       "      <th>Weight</th>\n",
       "    </tr>\n",
       "  </thead>\n",
       "  <tbody>\n",
       "    <tr>\n",
       "      <th>0</th>\n",
       "      <td>0</td>\n",
       "      <td>A-Bomb</td>\n",
       "      <td>Male</td>\n",
       "      <td>yellow</td>\n",
       "      <td>Human</td>\n",
       "      <td>No Hair</td>\n",
       "      <td>203.0</td>\n",
       "      <td>Marvel Comics</td>\n",
       "      <td>-</td>\n",
       "      <td>good</td>\n",
       "      <td>441.0</td>\n",
       "    </tr>\n",
       "    <tr>\n",
       "      <th>1</th>\n",
       "      <td>1</td>\n",
       "      <td>Abe Sapien</td>\n",
       "      <td>Male</td>\n",
       "      <td>blue</td>\n",
       "      <td>Icthyo Sapien</td>\n",
       "      <td>No Hair</td>\n",
       "      <td>191.0</td>\n",
       "      <td>Dark Horse Comics</td>\n",
       "      <td>blue</td>\n",
       "      <td>good</td>\n",
       "      <td>65.0</td>\n",
       "    </tr>\n",
       "    <tr>\n",
       "      <th>2</th>\n",
       "      <td>2</td>\n",
       "      <td>Abin Sur</td>\n",
       "      <td>Male</td>\n",
       "      <td>blue</td>\n",
       "      <td>Ungaran</td>\n",
       "      <td>No Hair</td>\n",
       "      <td>185.0</td>\n",
       "      <td>DC Comics</td>\n",
       "      <td>red</td>\n",
       "      <td>good</td>\n",
       "      <td>90.0</td>\n",
       "    </tr>\n",
       "    <tr>\n",
       "      <th>3</th>\n",
       "      <td>3</td>\n",
       "      <td>Abomination</td>\n",
       "      <td>Male</td>\n",
       "      <td>green</td>\n",
       "      <td>Human / Radiation</td>\n",
       "      <td>No Hair</td>\n",
       "      <td>203.0</td>\n",
       "      <td>Marvel Comics</td>\n",
       "      <td>-</td>\n",
       "      <td>bad</td>\n",
       "      <td>441.0</td>\n",
       "    </tr>\n",
       "    <tr>\n",
       "      <th>4</th>\n",
       "      <td>4</td>\n",
       "      <td>Abraxas</td>\n",
       "      <td>Male</td>\n",
       "      <td>blue</td>\n",
       "      <td>Cosmic Entity</td>\n",
       "      <td>Black</td>\n",
       "      <td>-99.0</td>\n",
       "      <td>Marvel Comics</td>\n",
       "      <td>-</td>\n",
       "      <td>bad</td>\n",
       "      <td>-99.0</td>\n",
       "    </tr>\n",
       "  </tbody>\n",
       "</table>\n",
       "</div>"
      ],
      "text/plain": [
       "   Id         name Gender Eye color               Race Hair color  Height  \\\n",
       "0   0       A-Bomb   Male    yellow              Human    No Hair   203.0   \n",
       "1   1   Abe Sapien   Male      blue      Icthyo Sapien    No Hair   191.0   \n",
       "2   2     Abin Sur   Male      blue            Ungaran    No Hair   185.0   \n",
       "3   3  Abomination   Male     green  Human / Radiation    No Hair   203.0   \n",
       "4   4      Abraxas   Male      blue      Cosmic Entity      Black   -99.0   \n",
       "\n",
       "           Publisher Skin color Alignment  Weight  \n",
       "0      Marvel Comics          -      good   441.0  \n",
       "1  Dark Horse Comics       blue      good    65.0  \n",
       "2          DC Comics        red      good    90.0  \n",
       "3      Marvel Comics          -       bad   441.0  \n",
       "4      Marvel Comics          -       bad   -99.0  "
      ]
     },
     "execution_count": 63,
     "metadata": {},
     "output_type": "execute_result"
    }
   ],
   "source": [
    "spark1.createDataFrame(f_result).toPandas()"
   ]
  },
  {
   "cell_type": "markdown",
   "metadata": {},
   "source": [
    "## Chaining Data Verbs\n",
    "\n",
    "* Processing df $\\rightarrow$ chaining data verbs\n",
    "* Accomplished through pipes/dot-chains"
   ]
  },
  {
   "cell_type": "markdown",
   "metadata": {},
   "source": [
    "## Example 1 - `select` + `filter`"
   ]
  },
  {
   "cell_type": "markdown",
   "metadata": {},
   "source": [
    "#### `pandas` + `dfply`"
   ]
  },
  {
   "cell_type": "code",
   "execution_count": 50,
   "metadata": {},
   "outputs": [
    {
     "data": {
      "text/html": [
       "<div>\n",
       "<style scoped>\n",
       "    .dataframe tbody tr th:only-of-type {\n",
       "        vertical-align: middle;\n",
       "    }\n",
       "\n",
       "    .dataframe tbody tr th {\n",
       "        vertical-align: top;\n",
       "    }\n",
       "\n",
       "    .dataframe thead th {\n",
       "        text-align: right;\n",
       "    }\n",
       "</style>\n",
       "<table border=\"1\" class=\"dataframe\">\n",
       "  <thead>\n",
       "    <tr style=\"text-align: right;\">\n",
       "      <th></th>\n",
       "      <th>name</th>\n",
       "      <th>Gender</th>\n",
       "      <th>Weight</th>\n",
       "    </tr>\n",
       "  </thead>\n",
       "  <tbody>\n",
       "    <tr>\n",
       "      <th>0</th>\n",
       "      <td>A-Bomb</td>\n",
       "      <td>Male</td>\n",
       "      <td>441.0</td>\n",
       "    </tr>\n",
       "    <tr>\n",
       "      <th>1</th>\n",
       "      <td>Abe Sapien</td>\n",
       "      <td>Male</td>\n",
       "      <td>65.0</td>\n",
       "    </tr>\n",
       "    <tr>\n",
       "      <th>2</th>\n",
       "      <td>Abin Sur</td>\n",
       "      <td>Male</td>\n",
       "      <td>90.0</td>\n",
       "    </tr>\n",
       "    <tr>\n",
       "      <th>3</th>\n",
       "      <td>Abomination</td>\n",
       "      <td>Male</td>\n",
       "      <td>441.0</td>\n",
       "    </tr>\n",
       "    <tr>\n",
       "      <th>4</th>\n",
       "      <td>Abraxas</td>\n",
       "      <td>Male</td>\n",
       "      <td>-99.0</td>\n",
       "    </tr>\n",
       "  </tbody>\n",
       "</table>\n",
       "</div>"
      ],
      "text/plain": [
       "          name Gender  Weight\n",
       "0       A-Bomb   Male   441.0\n",
       "1   Abe Sapien   Male    65.0\n",
       "2     Abin Sur   Male    90.0\n",
       "3  Abomination   Male   441.0\n",
       "4      Abraxas   Male   -99.0"
      ]
     },
     "execution_count": 50,
     "metadata": {},
     "output_type": "execute_result"
    }
   ],
   "source": [
    "(heroes >>\n",
    "   filter_by(X.Gender == 'Male') >>\n",
    "   select_dfply(X.name, X.Gender, X.Weight) >>\n",
    "   head)"
   ]
  },
  {
   "cell_type": "markdown",
   "metadata": {},
   "source": [
    "#### `select`  expression in `sqlalchemy`"
   ]
  },
  {
   "cell_type": "code",
   "execution_count": 66,
   "metadata": {},
   "outputs": [
    {
     "data": {
      "text/html": [
       "<div>\n",
       "<style scoped>\n",
       "    .dataframe tbody tr th:only-of-type {\n",
       "        vertical-align: middle;\n",
       "    }\n",
       "\n",
       "    .dataframe tbody tr th {\n",
       "        vertical-align: top;\n",
       "    }\n",
       "\n",
       "    .dataframe thead th {\n",
       "        text-align: right;\n",
       "    }\n",
       "</style>\n",
       "<table border=\"1\" class=\"dataframe\">\n",
       "  <thead>\n",
       "    <tr style=\"text-align: right;\">\n",
       "      <th></th>\n",
       "      <th>name</th>\n",
       "      <th>gender</th>\n",
       "      <th>weight</th>\n",
       "    </tr>\n",
       "  </thead>\n",
       "  <tbody>\n",
       "    <tr>\n",
       "      <th>0</th>\n",
       "      <td>A-Bomb</td>\n",
       "      <td>Male</td>\n",
       "      <td>441.0</td>\n",
       "    </tr>\n",
       "    <tr>\n",
       "      <th>1</th>\n",
       "      <td>Abe Sapien</td>\n",
       "      <td>Male</td>\n",
       "      <td>65.0</td>\n",
       "    </tr>\n",
       "    <tr>\n",
       "      <th>2</th>\n",
       "      <td>Abin Sur</td>\n",
       "      <td>Male</td>\n",
       "      <td>90.0</td>\n",
       "    </tr>\n",
       "    <tr>\n",
       "      <th>3</th>\n",
       "      <td>Abomination</td>\n",
       "      <td>Male</td>\n",
       "      <td>441.0</td>\n",
       "    </tr>\n",
       "    <tr>\n",
       "      <th>4</th>\n",
       "      <td>Abraxas</td>\n",
       "      <td>Male</td>\n",
       "      <td>NaN</td>\n",
       "    </tr>\n",
       "  </tbody>\n",
       "</table>\n",
       "</div>"
      ],
      "text/plain": [
       "          name gender  weight\n",
       "0       A-Bomb   Male   441.0\n",
       "1   Abe Sapien   Male    65.0\n",
       "2     Abin Sur   Male    90.0\n",
       "3  Abomination   Male   441.0\n",
       "4      Abraxas   Male     NaN"
      ]
     },
     "execution_count": 66,
     "metadata": {},
     "output_type": "execute_result"
    }
   ],
   "source": [
    "from sqlalchemy import select\n",
    "# Make an SQL expression\n",
    "sel_filt_stmt = (select_sql([Hero.name, \n",
    "                             Hero.gender, \n",
    "                             Hero.weight]).\n",
    "                   where(Hero.gender == 'Male').\n",
    "                   limit(5))\n",
    "# Excute the expression\n",
    "pd.read_sql_query(sel_filt_stmt, con=engine)"
   ]
  },
  {
   "cell_type": "markdown",
   "metadata": {},
   "source": [
    "####  `pyspark`"
   ]
  },
  {
   "cell_type": "code",
   "execution_count": 67,
   "metadata": {
    "scrolled": true
   },
   "outputs": [
    {
     "data": {
      "text/html": [
       "<div>\n",
       "<style scoped>\n",
       "    .dataframe tbody tr th:only-of-type {\n",
       "        vertical-align: middle;\n",
       "    }\n",
       "\n",
       "    .dataframe tbody tr th {\n",
       "        vertical-align: top;\n",
       "    }\n",
       "\n",
       "    .dataframe thead th {\n",
       "        text-align: right;\n",
       "    }\n",
       "</style>\n",
       "<table border=\"1\" class=\"dataframe\">\n",
       "  <thead>\n",
       "    <tr style=\"text-align: right;\">\n",
       "      <th></th>\n",
       "      <th>name</th>\n",
       "      <th>Gender</th>\n",
       "      <th>Weight</th>\n",
       "    </tr>\n",
       "  </thead>\n",
       "  <tbody>\n",
       "    <tr>\n",
       "      <th>0</th>\n",
       "      <td>A-Bomb</td>\n",
       "      <td>Male</td>\n",
       "      <td>441.0</td>\n",
       "    </tr>\n",
       "    <tr>\n",
       "      <th>1</th>\n",
       "      <td>Abe Sapien</td>\n",
       "      <td>Male</td>\n",
       "      <td>65.0</td>\n",
       "    </tr>\n",
       "    <tr>\n",
       "      <th>2</th>\n",
       "      <td>Abin Sur</td>\n",
       "      <td>Male</td>\n",
       "      <td>90.0</td>\n",
       "    </tr>\n",
       "    <tr>\n",
       "      <th>3</th>\n",
       "      <td>Abomination</td>\n",
       "      <td>Male</td>\n",
       "      <td>441.0</td>\n",
       "    </tr>\n",
       "    <tr>\n",
       "      <th>4</th>\n",
       "      <td>Abraxas</td>\n",
       "      <td>Male</td>\n",
       "      <td>-99.0</td>\n",
       "    </tr>\n",
       "  </tbody>\n",
       "</table>\n",
       "</div>"
      ],
      "text/plain": [
       "          name Gender  Weight\n",
       "0       A-Bomb   Male   441.0\n",
       "1   Abe Sapien   Male    65.0\n",
       "2     Abin Sur   Male    90.0\n",
       "3  Abomination   Male   441.0\n",
       "4      Abraxas   Male   -99.0"
      ]
     },
     "execution_count": 67,
     "metadata": {},
     "output_type": "execute_result"
    }
   ],
   "source": [
    "sf_result = (df_spark.\n",
    "            select(df_spark.name, \n",
    "                   df_spark.Gender, \n",
    "                   df_spark.Weight).\n",
    "            where(df_spark.Gender == 'Male').\n",
    "            take(5))\n",
    "spark1.createDataFrame(sf_result).toPandas()"
   ]
  },
  {
   "cell_type": "markdown",
   "metadata": {},
   "source": [
    "## Example 2 - `filter` + `filter`\n",
    "\n",
    "Note that chaining `filter`s is an `and` operation."
   ]
  },
  {
   "cell_type": "markdown",
   "metadata": {},
   "source": [
    "####  `pandas` + `dfply`"
   ]
  },
  {
   "cell_type": "code",
   "execution_count": 68,
   "metadata": {},
   "outputs": [
    {
     "data": {
      "text/html": [
       "<div>\n",
       "<style scoped>\n",
       "    .dataframe tbody tr th:only-of-type {\n",
       "        vertical-align: middle;\n",
       "    }\n",
       "\n",
       "    .dataframe tbody tr th {\n",
       "        vertical-align: top;\n",
       "    }\n",
       "\n",
       "    .dataframe thead th {\n",
       "        text-align: right;\n",
       "    }\n",
       "</style>\n",
       "<table border=\"1\" class=\"dataframe\">\n",
       "  <thead>\n",
       "    <tr style=\"text-align: right;\">\n",
       "      <th></th>\n",
       "      <th>name</th>\n",
       "      <th>Gender</th>\n",
       "      <th>Weight</th>\n",
       "    </tr>\n",
       "  </thead>\n",
       "  <tbody>\n",
       "    <tr>\n",
       "      <th>0</th>\n",
       "      <td>A-Bomb</td>\n",
       "      <td>Male</td>\n",
       "      <td>441.0</td>\n",
       "    </tr>\n",
       "    <tr>\n",
       "      <th>1</th>\n",
       "      <td>Abe Sapien</td>\n",
       "      <td>Male</td>\n",
       "      <td>65.0</td>\n",
       "    </tr>\n",
       "    <tr>\n",
       "      <th>2</th>\n",
       "      <td>Abin Sur</td>\n",
       "      <td>Male</td>\n",
       "      <td>90.0</td>\n",
       "    </tr>\n",
       "    <tr>\n",
       "      <th>3</th>\n",
       "      <td>Abomination</td>\n",
       "      <td>Male</td>\n",
       "      <td>441.0</td>\n",
       "    </tr>\n",
       "    <tr>\n",
       "      <th>5</th>\n",
       "      <td>Absorbing Man</td>\n",
       "      <td>Male</td>\n",
       "      <td>122.0</td>\n",
       "    </tr>\n",
       "  </tbody>\n",
       "</table>\n",
       "</div>"
      ],
      "text/plain": [
       "            name Gender  Weight\n",
       "0         A-Bomb   Male   441.0\n",
       "1     Abe Sapien   Male    65.0\n",
       "2       Abin Sur   Male    90.0\n",
       "3    Abomination   Male   441.0\n",
       "5  Absorbing Man   Male   122.0"
      ]
     },
     "execution_count": 68,
     "metadata": {},
     "output_type": "execute_result"
    }
   ],
   "source": [
    "(heroes >>\n",
    "   select_dfply(X.name, X.Gender, X.Weight) >>\n",
    "   filter_by(X.Gender == 'Male') >>\n",
    "   filter_by(X.Weight > 0) >>\n",
    "   head)"
   ]
  },
  {
   "cell_type": "markdown",
   "metadata": {},
   "source": [
    "#### `select`  expression in `sqlalchemy`"
   ]
  },
  {
   "cell_type": "code",
   "execution_count": 70,
   "metadata": {},
   "outputs": [
    {
     "data": {
      "text/html": [
       "<div>\n",
       "<style scoped>\n",
       "    .dataframe tbody tr th:only-of-type {\n",
       "        vertical-align: middle;\n",
       "    }\n",
       "\n",
       "    .dataframe tbody tr th {\n",
       "        vertical-align: top;\n",
       "    }\n",
       "\n",
       "    .dataframe thead th {\n",
       "        text-align: right;\n",
       "    }\n",
       "</style>\n",
       "<table border=\"1\" class=\"dataframe\">\n",
       "  <thead>\n",
       "    <tr style=\"text-align: right;\">\n",
       "      <th></th>\n",
       "      <th>name</th>\n",
       "      <th>gender</th>\n",
       "      <th>weight</th>\n",
       "    </tr>\n",
       "  </thead>\n",
       "  <tbody>\n",
       "    <tr>\n",
       "      <th>0</th>\n",
       "      <td>A-Bomb</td>\n",
       "      <td>Male</td>\n",
       "      <td>441.0</td>\n",
       "    </tr>\n",
       "    <tr>\n",
       "      <th>1</th>\n",
       "      <td>Abe Sapien</td>\n",
       "      <td>Male</td>\n",
       "      <td>65.0</td>\n",
       "    </tr>\n",
       "    <tr>\n",
       "      <th>2</th>\n",
       "      <td>Abin Sur</td>\n",
       "      <td>Male</td>\n",
       "      <td>90.0</td>\n",
       "    </tr>\n",
       "    <tr>\n",
       "      <th>3</th>\n",
       "      <td>Abomination</td>\n",
       "      <td>Male</td>\n",
       "      <td>441.0</td>\n",
       "    </tr>\n",
       "    <tr>\n",
       "      <th>4</th>\n",
       "      <td>Absorbing Man</td>\n",
       "      <td>Male</td>\n",
       "      <td>122.0</td>\n",
       "    </tr>\n",
       "  </tbody>\n",
       "</table>\n",
       "</div>"
      ],
      "text/plain": [
       "            name gender  weight\n",
       "0         A-Bomb   Male   441.0\n",
       "1     Abe Sapien   Male    65.0\n",
       "2       Abin Sur   Male    90.0\n",
       "3    Abomination   Male   441.0\n",
       "4  Absorbing Man   Male   122.0"
      ]
     },
     "execution_count": 70,
     "metadata": {},
     "output_type": "execute_result"
    }
   ],
   "source": [
    "from sqlalchemy import select\n",
    "# Make an SQL expression\n",
    "ff_stmt = (select_sql([Hero.name, \n",
    "                       Hero.gender, \n",
    "                       Hero.weight]).\n",
    "            where(Hero.gender == 'Male').\n",
    "            where(Hero.weight > 0).\n",
    "            limit(5))\n",
    "# Excute the expression\n",
    "pd.read_sql_query(ff_stmt, con=engine)"
   ]
  },
  {
   "cell_type": "markdown",
   "metadata": {},
   "source": [
    "####  `pyspark`"
   ]
  },
  {
   "cell_type": "code",
   "execution_count": 71,
   "metadata": {
    "scrolled": true
   },
   "outputs": [
    {
     "data": {
      "text/html": [
       "<div>\n",
       "<style scoped>\n",
       "    .dataframe tbody tr th:only-of-type {\n",
       "        vertical-align: middle;\n",
       "    }\n",
       "\n",
       "    .dataframe tbody tr th {\n",
       "        vertical-align: top;\n",
       "    }\n",
       "\n",
       "    .dataframe thead th {\n",
       "        text-align: right;\n",
       "    }\n",
       "</style>\n",
       "<table border=\"1\" class=\"dataframe\">\n",
       "  <thead>\n",
       "    <tr style=\"text-align: right;\">\n",
       "      <th></th>\n",
       "      <th>name</th>\n",
       "      <th>Gender</th>\n",
       "      <th>Weight</th>\n",
       "    </tr>\n",
       "  </thead>\n",
       "  <tbody>\n",
       "    <tr>\n",
       "      <th>0</th>\n",
       "      <td>A-Bomb</td>\n",
       "      <td>Male</td>\n",
       "      <td>441.0</td>\n",
       "    </tr>\n",
       "    <tr>\n",
       "      <th>1</th>\n",
       "      <td>Abe Sapien</td>\n",
       "      <td>Male</td>\n",
       "      <td>65.0</td>\n",
       "    </tr>\n",
       "    <tr>\n",
       "      <th>2</th>\n",
       "      <td>Abin Sur</td>\n",
       "      <td>Male</td>\n",
       "      <td>90.0</td>\n",
       "    </tr>\n",
       "    <tr>\n",
       "      <th>3</th>\n",
       "      <td>Abomination</td>\n",
       "      <td>Male</td>\n",
       "      <td>441.0</td>\n",
       "    </tr>\n",
       "    <tr>\n",
       "      <th>4</th>\n",
       "      <td>Absorbing Man</td>\n",
       "      <td>Male</td>\n",
       "      <td>122.0</td>\n",
       "    </tr>\n",
       "  </tbody>\n",
       "</table>\n",
       "</div>"
      ],
      "text/plain": [
       "            name Gender  Weight\n",
       "0         A-Bomb   Male   441.0\n",
       "1     Abe Sapien   Male    65.0\n",
       "2       Abin Sur   Male    90.0\n",
       "3    Abomination   Male   441.0\n",
       "4  Absorbing Man   Male   122.0"
      ]
     },
     "execution_count": 71,
     "metadata": {},
     "output_type": "execute_result"
    }
   ],
   "source": [
    "ff_result = (df_spark.\n",
    "               select(df_spark.name, df_spark.Gender, df_spark.Weight).\n",
    "               where(df_spark.Gender == 'Male').\n",
    "               where(df_spark.Weight > 0).\n",
    "               take(5))\n",
    "spark1.createDataFrame(ff_result).toPandas()"
   ]
  },
  {
   "cell_type": "markdown",
   "metadata": {},
   "source": [
    "## <font color=\"red\"> Exercise 1: Blue-eyed Heroes </font>\n",
    "\n",
    "Create a query that\n",
    "\n",
    "1. Selects the name, Gender, and Eye Color columns\n",
    "2. Filters on eye_color == 'blue'"
   ]
  },
  {
   "cell_type": "markdown",
   "metadata": {},
   "source": [
    "####  `pandas` + `dfply`"
   ]
  },
  {
   "cell_type": "code",
   "execution_count": null,
   "metadata": {},
   "outputs": [],
   "source": []
  },
  {
   "cell_type": "markdown",
   "metadata": {},
   "source": [
    "#### `query`  in `sqlalchemy`"
   ]
  },
  {
   "cell_type": "code",
   "execution_count": null,
   "metadata": {},
   "outputs": [],
   "source": []
  },
  {
   "cell_type": "markdown",
   "metadata": {},
   "source": [
    "#### `select`  expression in `sqlalchemy`"
   ]
  },
  {
   "cell_type": "code",
   "execution_count": null,
   "metadata": {},
   "outputs": [],
   "source": []
  },
  {
   "cell_type": "markdown",
   "metadata": {},
   "source": [
    "####  `pyspark`"
   ]
  },
  {
   "cell_type": "code",
   "execution_count": null,
   "metadata": {
    "scrolled": true
   },
   "outputs": [],
   "source": []
  },
  {
   "cell_type": "markdown",
   "metadata": {},
   "source": [
    "## Constructing New Columns\n",
    "\n",
    "The third verb, `mutate` \n",
    "\n",
    "* Creates new columns\n",
    "* Changes existing columns"
   ]
  },
  {
   "cell_type": "markdown",
   "metadata": {},
   "source": [
    "## How to mutate\n",
    "\n",
    "* `pandas`: pipe (`>>`) into `mutate`\n",
    "* `sqlalchemy`: Use a formula and alias in `session.query` or `select`\n",
    "* `pyspark`: Use the `withColumns` method"
   ]
  },
  {
   "cell_type": "markdown",
   "metadata": {},
   "source": [
    "## Example 3 - Converting Weight to kilograms\n",
    "\n",
    "Currently, the weight column is in pounds.  Let's convert to kilograms."
   ]
  },
  {
   "cell_type": "markdown",
   "metadata": {},
   "source": [
    "####  `pandas` + `dfply`"
   ]
  },
  {
   "cell_type": "code",
   "execution_count": 72,
   "metadata": {},
   "outputs": [
    {
     "data": {
      "text/html": [
       "<div>\n",
       "<style scoped>\n",
       "    .dataframe tbody tr th:only-of-type {\n",
       "        vertical-align: middle;\n",
       "    }\n",
       "\n",
       "    .dataframe tbody tr th {\n",
       "        vertical-align: top;\n",
       "    }\n",
       "\n",
       "    .dataframe thead th {\n",
       "        text-align: right;\n",
       "    }\n",
       "</style>\n",
       "<table border=\"1\" class=\"dataframe\">\n",
       "  <thead>\n",
       "    <tr style=\"text-align: right;\">\n",
       "      <th></th>\n",
       "      <th>name</th>\n",
       "      <th>Gender</th>\n",
       "      <th>Weight</th>\n",
       "      <th>Weight_kg</th>\n",
       "    </tr>\n",
       "  </thead>\n",
       "  <tbody>\n",
       "    <tr>\n",
       "      <th>0</th>\n",
       "      <td>A-Bomb</td>\n",
       "      <td>Male</td>\n",
       "      <td>441.0</td>\n",
       "      <td>200.036288</td>\n",
       "    </tr>\n",
       "    <tr>\n",
       "      <th>1</th>\n",
       "      <td>Abe Sapien</td>\n",
       "      <td>Male</td>\n",
       "      <td>65.0</td>\n",
       "      <td>29.483807</td>\n",
       "    </tr>\n",
       "    <tr>\n",
       "      <th>2</th>\n",
       "      <td>Abin Sur</td>\n",
       "      <td>Male</td>\n",
       "      <td>90.0</td>\n",
       "      <td>40.823732</td>\n",
       "    </tr>\n",
       "    <tr>\n",
       "      <th>3</th>\n",
       "      <td>Abomination</td>\n",
       "      <td>Male</td>\n",
       "      <td>441.0</td>\n",
       "      <td>200.036288</td>\n",
       "    </tr>\n",
       "    <tr>\n",
       "      <th>4</th>\n",
       "      <td>Abraxas</td>\n",
       "      <td>Male</td>\n",
       "      <td>-99.0</td>\n",
       "      <td>-44.906105</td>\n",
       "    </tr>\n",
       "  </tbody>\n",
       "</table>\n",
       "</div>"
      ],
      "text/plain": [
       "          name Gender  Weight   Weight_kg\n",
       "0       A-Bomb   Male   441.0  200.036288\n",
       "1   Abe Sapien   Male    65.0   29.483807\n",
       "2     Abin Sur   Male    90.0   40.823732\n",
       "3  Abomination   Male   441.0  200.036288\n",
       "4      Abraxas   Male   -99.0  -44.906105"
      ]
     },
     "execution_count": 72,
     "metadata": {},
     "output_type": "execute_result"
    }
   ],
   "source": [
    "(heroes >>\n",
    "   select_dfply(X.name, \n",
    "                X.Gender, \n",
    "                X.Weight) >>\n",
    "   mutate(Weight_kg = X.Weight/2.2046) >>\n",
    "   head)"
   ]
  },
  {
   "cell_type": "markdown",
   "metadata": {},
   "source": [
    "#### `select`  expression in `sqlalchemy`"
   ]
  },
  {
   "cell_type": "code",
   "execution_count": 75,
   "metadata": {},
   "outputs": [
    {
     "data": {
      "text/html": [
       "<div>\n",
       "<style scoped>\n",
       "    .dataframe tbody tr th:only-of-type {\n",
       "        vertical-align: middle;\n",
       "    }\n",
       "\n",
       "    .dataframe tbody tr th {\n",
       "        vertical-align: top;\n",
       "    }\n",
       "\n",
       "    .dataframe thead th {\n",
       "        text-align: right;\n",
       "    }\n",
       "</style>\n",
       "<table border=\"1\" class=\"dataframe\">\n",
       "  <thead>\n",
       "    <tr style=\"text-align: right;\">\n",
       "      <th></th>\n",
       "      <th>name</th>\n",
       "      <th>gender</th>\n",
       "      <th>weight</th>\n",
       "      <th>Weight_kg</th>\n",
       "    </tr>\n",
       "  </thead>\n",
       "  <tbody>\n",
       "    <tr>\n",
       "      <th>0</th>\n",
       "      <td>A-Bomb</td>\n",
       "      <td>Male</td>\n",
       "      <td>441.0</td>\n",
       "      <td>200.036288</td>\n",
       "    </tr>\n",
       "    <tr>\n",
       "      <th>1</th>\n",
       "      <td>Abe Sapien</td>\n",
       "      <td>Male</td>\n",
       "      <td>65.0</td>\n",
       "      <td>29.483807</td>\n",
       "    </tr>\n",
       "    <tr>\n",
       "      <th>2</th>\n",
       "      <td>Abin Sur</td>\n",
       "      <td>Male</td>\n",
       "      <td>90.0</td>\n",
       "      <td>40.823732</td>\n",
       "    </tr>\n",
       "    <tr>\n",
       "      <th>3</th>\n",
       "      <td>Abomination</td>\n",
       "      <td>Male</td>\n",
       "      <td>441.0</td>\n",
       "      <td>200.036288</td>\n",
       "    </tr>\n",
       "    <tr>\n",
       "      <th>4</th>\n",
       "      <td>Abraxas</td>\n",
       "      <td>Male</td>\n",
       "      <td>NaN</td>\n",
       "      <td>NaN</td>\n",
       "    </tr>\n",
       "  </tbody>\n",
       "</table>\n",
       "</div>"
      ],
      "text/plain": [
       "          name gender  weight   Weight_kg\n",
       "0       A-Bomb   Male   441.0  200.036288\n",
       "1   Abe Sapien   Male    65.0   29.483807\n",
       "2     Abin Sur   Male    90.0   40.823732\n",
       "3  Abomination   Male   441.0  200.036288\n",
       "4      Abraxas   Male     NaN         NaN"
      ]
     },
     "execution_count": 75,
     "metadata": {},
     "output_type": "execute_result"
    }
   ],
   "source": [
    "from sqlalchemy import select\n",
    "m_stmt = (select_sql([Hero.name, \n",
    "                      Hero.gender, \n",
    "                      Hero.weight, \n",
    "                      (Hero.weight/2.2046).label('Weight_kg')]).\n",
    "            limit(5))\n",
    "pd.read_sql_query(m_stmt, con=engine)"
   ]
  },
  {
   "cell_type": "markdown",
   "metadata": {},
   "source": [
    "####  `pyspark`"
   ]
  },
  {
   "cell_type": "code",
   "execution_count": 77,
   "metadata": {
    "scrolled": false
   },
   "outputs": [
    {
     "data": {
      "text/html": [
       "<div>\n",
       "<style scoped>\n",
       "    .dataframe tbody tr th:only-of-type {\n",
       "        vertical-align: middle;\n",
       "    }\n",
       "\n",
       "    .dataframe tbody tr th {\n",
       "        vertical-align: top;\n",
       "    }\n",
       "\n",
       "    .dataframe thead th {\n",
       "        text-align: right;\n",
       "    }\n",
       "</style>\n",
       "<table border=\"1\" class=\"dataframe\">\n",
       "  <thead>\n",
       "    <tr style=\"text-align: right;\">\n",
       "      <th></th>\n",
       "      <th>name</th>\n",
       "      <th>Gender</th>\n",
       "      <th>Weight</th>\n",
       "      <th>Weight_kg</th>\n",
       "    </tr>\n",
       "  </thead>\n",
       "  <tbody>\n",
       "    <tr>\n",
       "      <th>0</th>\n",
       "      <td>A-Bomb</td>\n",
       "      <td>Male</td>\n",
       "      <td>441.0</td>\n",
       "      <td>200.036288</td>\n",
       "    </tr>\n",
       "    <tr>\n",
       "      <th>1</th>\n",
       "      <td>Abe Sapien</td>\n",
       "      <td>Male</td>\n",
       "      <td>65.0</td>\n",
       "      <td>29.483807</td>\n",
       "    </tr>\n",
       "    <tr>\n",
       "      <th>2</th>\n",
       "      <td>Abin Sur</td>\n",
       "      <td>Male</td>\n",
       "      <td>90.0</td>\n",
       "      <td>40.823732</td>\n",
       "    </tr>\n",
       "    <tr>\n",
       "      <th>3</th>\n",
       "      <td>Abomination</td>\n",
       "      <td>Male</td>\n",
       "      <td>441.0</td>\n",
       "      <td>200.036288</td>\n",
       "    </tr>\n",
       "    <tr>\n",
       "      <th>4</th>\n",
       "      <td>Abraxas</td>\n",
       "      <td>Male</td>\n",
       "      <td>-99.0</td>\n",
       "      <td>-44.906105</td>\n",
       "    </tr>\n",
       "  </tbody>\n",
       "</table>\n",
       "</div>"
      ],
      "text/plain": [
       "          name Gender  Weight   Weight_kg\n",
       "0       A-Bomb   Male   441.0  200.036288\n",
       "1   Abe Sapien   Male    65.0   29.483807\n",
       "2     Abin Sur   Male    90.0   40.823732\n",
       "3  Abomination   Male   441.0  200.036288\n",
       "4      Abraxas   Male   -99.0  -44.906105"
      ]
     },
     "execution_count": 77,
     "metadata": {},
     "output_type": "execute_result"
    }
   ],
   "source": [
    "m_result = (df_spark.\n",
    "              select(df_spark.name, \n",
    "                     df_spark.Gender, \n",
    "                     df_spark.Weight).\n",
    "              withColumn('Weight_kg', df_spark.Weight/2.2046).\n",
    "              take(5))\n",
    "spark1.createDataFrame(m_result).toPandas()"
   ]
  },
  {
   "cell_type": "markdown",
   "metadata": {},
   "source": [
    "## Referencing a new column\n",
    "\n",
    "Each framework provides a way to reference a new column.\n",
    "\n",
    "* `pandas` + `dfply`: Use the `X` `Intention`\n",
    "* `sqlalchemy`: Use `column` function with the label from `select`\n",
    "* `pyspark`: Use the `col` function with the label from `withColumn`"
   ]
  },
  {
   "cell_type": "markdown",
   "metadata": {},
   "source": [
    "## Example 4 - Converting Weight to kilograms and filter\n",
    "\n",
    "Let's find all heroes with a weight under 100kg."
   ]
  },
  {
   "cell_type": "markdown",
   "metadata": {},
   "source": [
    "####  `pandas` + `dfply`"
   ]
  },
  {
   "cell_type": "code",
   "execution_count": 78,
   "metadata": {},
   "outputs": [
    {
     "data": {
      "text/html": [
       "<div>\n",
       "<style scoped>\n",
       "    .dataframe tbody tr th:only-of-type {\n",
       "        vertical-align: middle;\n",
       "    }\n",
       "\n",
       "    .dataframe tbody tr th {\n",
       "        vertical-align: top;\n",
       "    }\n",
       "\n",
       "    .dataframe thead th {\n",
       "        text-align: right;\n",
       "    }\n",
       "</style>\n",
       "<table border=\"1\" class=\"dataframe\">\n",
       "  <thead>\n",
       "    <tr style=\"text-align: right;\">\n",
       "      <th></th>\n",
       "      <th>name</th>\n",
       "      <th>Gender</th>\n",
       "      <th>Weight</th>\n",
       "      <th>Weight_kg</th>\n",
       "    </tr>\n",
       "  </thead>\n",
       "  <tbody>\n",
       "    <tr>\n",
       "      <th>1</th>\n",
       "      <td>Abe Sapien</td>\n",
       "      <td>Male</td>\n",
       "      <td>65.0</td>\n",
       "      <td>29.483807</td>\n",
       "    </tr>\n",
       "    <tr>\n",
       "      <th>2</th>\n",
       "      <td>Abin Sur</td>\n",
       "      <td>Male</td>\n",
       "      <td>90.0</td>\n",
       "      <td>40.823732</td>\n",
       "    </tr>\n",
       "    <tr>\n",
       "      <th>4</th>\n",
       "      <td>Abraxas</td>\n",
       "      <td>Male</td>\n",
       "      <td>-99.0</td>\n",
       "      <td>-44.906105</td>\n",
       "    </tr>\n",
       "    <tr>\n",
       "      <th>5</th>\n",
       "      <td>Absorbing Man</td>\n",
       "      <td>Male</td>\n",
       "      <td>122.0</td>\n",
       "      <td>55.338837</td>\n",
       "    </tr>\n",
       "    <tr>\n",
       "      <th>6</th>\n",
       "      <td>Adam Monroe</td>\n",
       "      <td>Male</td>\n",
       "      <td>-99.0</td>\n",
       "      <td>-44.906105</td>\n",
       "    </tr>\n",
       "  </tbody>\n",
       "</table>\n",
       "</div>"
      ],
      "text/plain": [
       "            name Gender  Weight  Weight_kg\n",
       "1     Abe Sapien   Male    65.0  29.483807\n",
       "2       Abin Sur   Male    90.0  40.823732\n",
       "4        Abraxas   Male   -99.0 -44.906105\n",
       "5  Absorbing Man   Male   122.0  55.338837\n",
       "6    Adam Monroe   Male   -99.0 -44.906105"
      ]
     },
     "execution_count": 78,
     "metadata": {},
     "output_type": "execute_result"
    }
   ],
   "source": [
    "(heroes >>\n",
    "   select_dfply(X.name, X.Gender, X.Weight) >>\n",
    "   mutate(Weight_kg = X.Weight/2.2046) >>\n",
    "   filter_by(X.Weight_kg < 100) >>\n",
    "   head)"
   ]
  },
  {
   "cell_type": "markdown",
   "metadata": {},
   "source": [
    "#### `select`  expression in `sqlalchemy`"
   ]
  },
  {
   "cell_type": "code",
   "execution_count": 82,
   "metadata": {},
   "outputs": [
    {
     "data": {
      "text/html": [
       "<div>\n",
       "<style scoped>\n",
       "    .dataframe tbody tr th:only-of-type {\n",
       "        vertical-align: middle;\n",
       "    }\n",
       "\n",
       "    .dataframe tbody tr th {\n",
       "        vertical-align: top;\n",
       "    }\n",
       "\n",
       "    .dataframe thead th {\n",
       "        text-align: right;\n",
       "    }\n",
       "</style>\n",
       "<table border=\"1\" class=\"dataframe\">\n",
       "  <thead>\n",
       "    <tr style=\"text-align: right;\">\n",
       "      <th></th>\n",
       "      <th>name</th>\n",
       "      <th>gender</th>\n",
       "      <th>weight</th>\n",
       "      <th>Weight_kg</th>\n",
       "    </tr>\n",
       "  </thead>\n",
       "  <tbody>\n",
       "    <tr>\n",
       "      <th>0</th>\n",
       "      <td>Abe Sapien</td>\n",
       "      <td>Male</td>\n",
       "      <td>65.0</td>\n",
       "      <td>29.483807</td>\n",
       "    </tr>\n",
       "    <tr>\n",
       "      <th>1</th>\n",
       "      <td>Abin Sur</td>\n",
       "      <td>Male</td>\n",
       "      <td>90.0</td>\n",
       "      <td>40.823732</td>\n",
       "    </tr>\n",
       "    <tr>\n",
       "      <th>2</th>\n",
       "      <td>Absorbing Man</td>\n",
       "      <td>Male</td>\n",
       "      <td>122.0</td>\n",
       "      <td>55.338837</td>\n",
       "    </tr>\n",
       "    <tr>\n",
       "      <th>3</th>\n",
       "      <td>Adam Strange</td>\n",
       "      <td>Male</td>\n",
       "      <td>88.0</td>\n",
       "      <td>39.916538</td>\n",
       "    </tr>\n",
       "    <tr>\n",
       "      <th>4</th>\n",
       "      <td>Agent 13</td>\n",
       "      <td>Female</td>\n",
       "      <td>61.0</td>\n",
       "      <td>27.669418</td>\n",
       "    </tr>\n",
       "  </tbody>\n",
       "</table>\n",
       "</div>"
      ],
      "text/plain": [
       "            name  gender  weight  Weight_kg\n",
       "0     Abe Sapien    Male    65.0  29.483807\n",
       "1       Abin Sur    Male    90.0  40.823732\n",
       "2  Absorbing Man    Male   122.0  55.338837\n",
       "3   Adam Strange    Male    88.0  39.916538\n",
       "4       Agent 13  Female    61.0  27.669418"
      ]
     },
     "execution_count": 82,
     "metadata": {},
     "output_type": "execute_result"
    }
   ],
   "source": [
    "from sqlalchemy import column\n",
    "new_col_stmt = (select_sql([Hero.name, \n",
    "                            Hero.gender, \n",
    "                            Hero.weight, \n",
    "                            (Hero.weight/2.2046).label('Weight_kg')]).\n",
    "                  where(column('Weight_kg') < 100).\n",
    "                  limit(5))\n",
    "pd.read_sql_query(new_col_stmt, con=engine)"
   ]
  },
  {
   "cell_type": "markdown",
   "metadata": {},
   "source": [
    "####  `pyspark`"
   ]
  },
  {
   "cell_type": "code",
   "execution_count": 83,
   "metadata": {
    "scrolled": false
   },
   "outputs": [
    {
     "data": {
      "text/html": [
       "<div>\n",
       "<style scoped>\n",
       "    .dataframe tbody tr th:only-of-type {\n",
       "        vertical-align: middle;\n",
       "    }\n",
       "\n",
       "    .dataframe tbody tr th {\n",
       "        vertical-align: top;\n",
       "    }\n",
       "\n",
       "    .dataframe thead th {\n",
       "        text-align: right;\n",
       "    }\n",
       "</style>\n",
       "<table border=\"1\" class=\"dataframe\">\n",
       "  <thead>\n",
       "    <tr style=\"text-align: right;\">\n",
       "      <th></th>\n",
       "      <th>name</th>\n",
       "      <th>Gender</th>\n",
       "      <th>Weight</th>\n",
       "      <th>Weight_kg</th>\n",
       "    </tr>\n",
       "  </thead>\n",
       "  <tbody>\n",
       "    <tr>\n",
       "      <th>0</th>\n",
       "      <td>Abe Sapien</td>\n",
       "      <td>Male</td>\n",
       "      <td>65.0</td>\n",
       "      <td>29.483807</td>\n",
       "    </tr>\n",
       "    <tr>\n",
       "      <th>1</th>\n",
       "      <td>Abin Sur</td>\n",
       "      <td>Male</td>\n",
       "      <td>90.0</td>\n",
       "      <td>40.823732</td>\n",
       "    </tr>\n",
       "    <tr>\n",
       "      <th>2</th>\n",
       "      <td>Abraxas</td>\n",
       "      <td>Male</td>\n",
       "      <td>-99.0</td>\n",
       "      <td>-44.906105</td>\n",
       "    </tr>\n",
       "    <tr>\n",
       "      <th>3</th>\n",
       "      <td>Absorbing Man</td>\n",
       "      <td>Male</td>\n",
       "      <td>122.0</td>\n",
       "      <td>55.338837</td>\n",
       "    </tr>\n",
       "    <tr>\n",
       "      <th>4</th>\n",
       "      <td>Adam Monroe</td>\n",
       "      <td>Male</td>\n",
       "      <td>-99.0</td>\n",
       "      <td>-44.906105</td>\n",
       "    </tr>\n",
       "  </tbody>\n",
       "</table>\n",
       "</div>"
      ],
      "text/plain": [
       "            name Gender  Weight  Weight_kg\n",
       "0     Abe Sapien   Male    65.0  29.483807\n",
       "1       Abin Sur   Male    90.0  40.823732\n",
       "2        Abraxas   Male   -99.0 -44.906105\n",
       "3  Absorbing Man   Male   122.0  55.338837\n",
       "4    Adam Monroe   Male   -99.0 -44.906105"
      ]
     },
     "execution_count": 83,
     "metadata": {},
     "output_type": "execute_result"
    }
   ],
   "source": [
    "from pyspark.sql.functions import col\n",
    "new_col_result = (df_spark.\n",
    "                   select(df_spark.name, df_spark.Gender, df_spark.Weight).\n",
    "                   withColumn('Weight_kg', df_spark.Weight/2.2046).\n",
    "                   where(col('Weight_kg') < 100 ).\n",
    "                   take(5))\n",
    "spark1.createDataFrame(new_col_result).toPandas()"
   ]
  },
  {
   "cell_type": "markdown",
   "metadata": {},
   "source": [
    "## <font color=\"red\"> Exercise 2: Tall Heroes </font>\n",
    "\n",
    "Create a query that\n",
    "\n",
    "1. Selects the name, Gender, and Height columns\n",
    "2. Compute the height in inches\n",
    "3. Filters on height_in > 72"
   ]
  },
  {
   "cell_type": "markdown",
   "metadata": {},
   "source": [
    "####  `pandas` + `dfply`"
   ]
  },
  {
   "cell_type": "code",
   "execution_count": null,
   "metadata": {},
   "outputs": [],
   "source": []
  },
  {
   "cell_type": "markdown",
   "metadata": {},
   "source": [
    "#### `query`  in `sqlalchemy`"
   ]
  },
  {
   "cell_type": "code",
   "execution_count": null,
   "metadata": {},
   "outputs": [],
   "source": []
  },
  {
   "cell_type": "markdown",
   "metadata": {},
   "source": [
    "#### `select`  expression in `sqlalchemy`"
   ]
  },
  {
   "cell_type": "code",
   "execution_count": null,
   "metadata": {},
   "outputs": [],
   "source": []
  },
  {
   "cell_type": "markdown",
   "metadata": {},
   "source": [
    "####  `pyspark`"
   ]
  },
  {
   "cell_type": "code",
   "execution_count": null,
   "metadata": {
    "scrolled": true
   },
   "outputs": [],
   "source": []
  },
  {
   "cell_type": "markdown",
   "metadata": {},
   "source": [
    "# <font color=\"red\"> TODO </font>\n",
    "\n",
    "* More complicated mutations\n",
    "    * Add many similar transforms with `**kwarg` unpacking (example below)"
   ]
  },
  {
   "cell_type": "code",
   "execution_count": null,
   "metadata": {},
   "outputs": [],
   "source": [
    "# Students will likely come up with a solution like this, we will fix this next\n",
    "fix_parentheses = lambda df: (df >> \n",
    "                             mutate(\n",
    "                                 ArtistBio = X.ArtistBio.str.replace('[()]', ''),\n",
    "                                 Nationality = X.Nationality.str.replace('[()]', ''),\n",
    "                                 BeginDate = X.BeginDate.str.replace('[()]', ''),\n",
    "                                 EndDate = X.EndDate.str.replace('[()]', ''),\n",
    "                                 Gender = X.Gender.str.replace('[()]', ''),\n",
    "                             )\n",
    "                            )\n",
    "fix_parentheses(first_chuck).head()"
   ]
  }
 ],
 "metadata": {
  "kernelspec": {
   "display_name": "Python 3",
   "language": "python",
   "name": "python3"
  },
  "language_info": {
   "codemirror_mode": {
    "name": "ipython",
    "version": 3
   },
   "file_extension": ".py",
   "mimetype": "text/x-python",
   "name": "python",
   "nbconvert_exporter": "python",
   "pygments_lexer": "ipython3",
   "version": "3.6.5"
  },
  "varInspector": {
   "cols": {
    "lenName": 16,
    "lenType": 16,
    "lenVar": 40
   },
   "kernels_config": {
    "python": {
     "delete_cmd_postfix": "",
     "delete_cmd_prefix": "del ",
     "library": "var_list.py",
     "varRefreshCmd": "print(var_dic_list())"
    },
    "r": {
     "delete_cmd_postfix": ") ",
     "delete_cmd_prefix": "rm(",
     "library": "var_list.r",
     "varRefreshCmd": "cat(var_dic_list()) "
    }
   },
   "types_to_exclude": [
    "module",
    "function",
    "builtin_function_or_method",
    "instance",
    "_Feature"
   ],
   "window_display": false
  }
 },
 "nbformat": 4,
 "nbformat_minor": 2
}
