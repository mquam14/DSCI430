{
 "cells": [
  {
   "cell_type": "markdown",
   "metadata": {},
   "source": [
    "# Lab 8 - Combining Attendance and Practice Quiz Attempts"
   ]
  },
  {
   "cell_type": "markdown",
   "metadata": {},
   "source": [
    "## Background\n",
    "\n",
    "In all of my class, I use an attendace quiz to track student attendance.  Note that students take multiple attempts at the same quiz, one per class; so that number of attempts a student takes on this quiz represents the number of class session that student has attended.\n",
    "\n",
    "In some, but not all, of my courses I also provide practice quizzes that students can use to prepare for actual quizzes and tests.  These quizzes pull questions randomly from a bank of questions, allow students unlimited attempts, and are not used as part of the students grade.\n",
    "\n",
    "In this lab, you will collect simulated data from mock classes into one table and in the next lab you will summarize these data."
   ]
  },
  {
   "cell_type": "markdown",
   "metadata": {},
   "source": [
    "## Tasks \n",
    "\n",
    "The files found in `attendance_example.zip` contains (made-up and random) examples of the D2L files that I use to summarize my attendance quizzes and practice quizzes\n",
    "Make sure you download `attendance_example.zip` to the `data` folder inside the course repository, then unzip the file.\n",
    "\n",
    "1. Use `glob` to find the path to all csv files.\n",
    "2. Use write functions that use regular expressions to extract the class name, quiz type (`Attendance` and `Practice`), and the module number (if the file is a practice quiz.\n",
    "3. Write a function that takes a path as an argument and returns a dataframe that contains:\n",
    "    * All of the original columns\n",
    "    * A Class column that holds the class identifier\n",
    "    * A Category column that contains the quiz type\n",
    "    * A Module column that (a) contains the module number for a practice quiz, or (b) is otherwise empty.\n",
    "4. Use a loop, `union`, and the accumulator pattern to load all of the data into a single table.\n",
    "5. Write the resulting table to a csv file."
   ]
  },
  {
   "cell_type": "code",
   "execution_count": 144,
   "metadata": {},
   "outputs": [],
   "source": [
    "import pandas as pd\n",
    "from dfply import *"
   ]
  },
  {
   "cell_type": "code",
   "execution_count": 145,
   "metadata": {},
   "outputs": [
    {
     "data": {
      "text/plain": [
       "['./data/attendance_example/stat491s1/Attendance Quiz - User Attempts.csv',\n",
       " './data/attendance_example/stat491s1/Practice Quiz - Module 4 - User Attempts.csv',\n",
       " './data/attendance_example/stat491s1/Practice Quiz - Module 2 - User Attempts.csv',\n",
       " './data/attendance_example/stat491s1/Practice Quiz - Module 3 - User Attempts.csv',\n",
       " './data/attendance_example/stat491s1/Practice Quiz - Module 1 - User Attempts.csv',\n",
       " './data/attendance_example/dsci494s7/Attendance Quiz - User Attempts.csv',\n",
       " './data/attendance_example/dsci494s7/Practice Quiz - Module 4 - User Attempts.csv',\n",
       " './data/attendance_example/dsci494s7/Practice Quiz - Module 2 - User Attempts.csv',\n",
       " './data/attendance_example/dsci494s7/Practice Quiz - Module 3 - User Attempts.csv',\n",
       " './data/attendance_example/dsci494s7/Practice Quiz - Module 1 - User Attempts.csv',\n",
       " './data/attendance_example/stat180s18/Attendance Quiz - User Attempts.csv']"
      ]
     },
     "execution_count": 145,
     "metadata": {},
     "output_type": "execute_result"
    }
   ],
   "source": [
    "from glob import glob\n",
    "files = glob('./data/attendance_example/*/*.csv')\n",
    "files"
   ]
  },
  {
   "cell_type": "code",
   "execution_count": 146,
   "metadata": {},
   "outputs": [
    {
     "data": {
      "text/plain": [
       "['stat491',\n",
       " 'stat491',\n",
       " 'stat491',\n",
       " 'stat491',\n",
       " 'stat491',\n",
       " 'dsci494',\n",
       " 'dsci494',\n",
       " 'dsci494',\n",
       " 'dsci494',\n",
       " 'dsci494',\n",
       " 'stat180']"
      ]
     },
     "execution_count": 146,
     "metadata": {},
     "output_type": "execute_result"
    }
   ],
   "source": [
    "import re\n",
    "CLASS_NAME_RE = re.compile(r'^\\./data/attendance_example/([a-z]*[0-9]*).*\\.csv$')\n",
    "class_name = lambda p: CLASS_NAME_RE.match(p).group(1)\n",
    "class_names = lambda files: [class_name(p) for p in files]\n",
    "class_names(files)"
   ]
  },
  {
   "cell_type": "code",
   "execution_count": 147,
   "metadata": {},
   "outputs": [
    {
     "data": {
      "text/plain": [
       "['Attendance',\n",
       " 'Practice',\n",
       " 'Practice',\n",
       " 'Practice',\n",
       " 'Practice',\n",
       " 'Attendance',\n",
       " 'Practice',\n",
       " 'Practice',\n",
       " 'Practice',\n",
       " 'Practice',\n",
       " 'Attendance']"
      ]
     },
     "execution_count": 147,
     "metadata": {},
     "output_type": "execute_result"
    }
   ],
   "source": [
    "CLASS_TYPE_RE = re.compile(r'^\\./data/attendance_example/.*/(\\w+).*\\.csv$')\n",
    "class_type = lambda p: CLASS_TYPE_RE.match(p).group(1)\n",
    "class_types = lambda files: [class_type(p) for p in files]\n",
    "class_types(files)"
   ]
  },
  {
   "cell_type": "code",
   "execution_count": 148,
   "metadata": {},
   "outputs": [
    {
     "data": {
      "text/plain": [
       "['', '4', '2', '3', '1', '', '4', '2', '3', '1', '']"
      ]
     },
     "execution_count": 148,
     "metadata": {},
     "output_type": "execute_result"
    }
   ],
   "source": [
    "MODULE_NUM_RE = re.compile(r'^\\./data/attendance_example/.*/.*(\\d+).*\\.csv$')\n",
    "module_num = lambda p: MODULE_NUM_RE.match(p).group(1) if class_type(p)=='Practice' else \"\" \n",
    "module_nums = lambda files: [module_num(p) if class_type(p)=='Practice' else \"\" for p in files]\n",
    "module_nums(files)"
   ]
  },
  {
   "cell_type": "code",
   "execution_count": 149,
   "metadata": {},
   "outputs": [],
   "source": [
    "att_pr_df_gen = lambda path: (pd.read_csv(path)\n",
    "                              >> mutate(Class = class_name(path),\n",
    "                                        Type = class_type(path),\n",
    "                                        Module = module_num(path)))\n"
   ]
  },
  {
   "cell_type": "code",
   "execution_count": 150,
   "metadata": {},
   "outputs": [],
   "source": [
    "@dfpipe\n",
    "def union_all(left_df, right_df, ignore_index=True):\n",
    "    return pd.concat([left_df, right_df], ignore_index=ignore_index)"
   ]
  },
  {
   "cell_type": "code",
   "execution_count": 151,
   "metadata": {},
   "outputs": [],
   "source": [
    "columns = ['Org Defined ID', 'UserName', 'FirstName', 'LastName', 'Attempt #',\n",
    "       'Score', 'Out Of', 'Attempt_Start', 'Attempt_End', 'Percent', 'Class',\n",
    "       'Type', 'Module']\n",
    "att_pr_df = pd.DataFrame(columns=columns)"
   ]
  },
  {
   "cell_type": "code",
   "execution_count": 152,
   "metadata": {},
   "outputs": [
    {
     "data": {
      "text/plain": [
       "(3359, 13)"
      ]
     },
     "execution_count": 152,
     "metadata": {},
     "output_type": "execute_result"
    }
   ],
   "source": [
    "for file in files:\n",
    "    att_pr_df = att_pr_df >> union_all(att_pr_df_gen(file))\n",
    "att_pr_df.shape"
   ]
  },
  {
   "cell_type": "code",
   "execution_count": 153,
   "metadata": {},
   "outputs": [],
   "source": [
    "att_pr_df.to_csv(\"./data/attendace_pratice.csv\", header = True, index = None)"
   ]
  },
  {
   "cell_type": "code",
   "execution_count": null,
   "metadata": {},
   "outputs": [],
   "source": []
  }
 ],
 "metadata": {
  "kernelspec": {
   "display_name": "Python 3",
   "language": "python",
   "name": "python3"
  },
  "language_info": {
   "codemirror_mode": {
    "name": "ipython",
    "version": 3
   },
   "file_extension": ".py",
   "mimetype": "text/x-python",
   "name": "python",
   "nbconvert_exporter": "python",
   "pygments_lexer": "ipython3",
   "version": "3.6.5"
  }
 },
 "nbformat": 4,
 "nbformat_minor": 2
}
